{
  "cells": [
    {
      "cell_type": "markdown",
      "metadata": {
        "id": "CYPV5uyk5Ruy"
      },
      "source": [
        "# Установка библиотек"
      ]
    },
    {
      "cell_type": "code",
      "execution_count": 3,
      "metadata": {},
      "outputs": [
        {
          "name": "stdout",
          "output_type": "stream",
          "text": [
            "Collecting scikit-learn\n",
            "  Downloading scikit_learn-1.3.2-cp311-cp311-win_amd64.whl.metadata (11 kB)\n",
            "Requirement already satisfied: numpy<2.0,>=1.17.3 in c:\\users\\tooer\\lwjgl\\.venv\\lib\\site-packages (from scikit-learn) (1.26.2)\n",
            "Requirement already satisfied: scipy>=1.5.0 in c:\\users\\tooer\\lwjgl\\.venv\\lib\\site-packages (from scikit-learn) (1.11.3)\n",
            "Requirement already satisfied: joblib>=1.1.1 in c:\\users\\tooer\\lwjgl\\.venv\\lib\\site-packages (from scikit-learn) (1.3.2)\n",
            "Collecting threadpoolctl>=2.0.0 (from scikit-learn)\n",
            "  Downloading threadpoolctl-3.2.0-py3-none-any.whl.metadata (10.0 kB)\n",
            "Downloading scikit_learn-1.3.2-cp311-cp311-win_amd64.whl (9.2 MB)\n",
            "   ---------------------------------------- 0.0/9.2 MB ? eta -:--:--\n",
            "   ---------------------------------------- 0.1/9.2 MB 1.7 MB/s eta 0:00:06\n",
            "   -- ------------------------------------- 0.5/9.2 MB 5.9 MB/s eta 0:00:02\n",
            "   --- ------------------------------------ 0.9/9.2 MB 8.3 MB/s eta 0:00:02\n",
            "   ----- ---------------------------------- 1.2/9.2 MB 7.6 MB/s eta 0:00:02\n",
            "   -------- ------------------------------- 1.9/9.2 MB 9.4 MB/s eta 0:00:01\n",
            "   ----------- ---------------------------- 2.6/9.2 MB 9.8 MB/s eta 0:00:01\n",
            "   ------------- -------------------------- 3.1/9.2 MB 9.9 MB/s eta 0:00:01\n",
            "   --------------- ------------------------ 3.6/9.2 MB 10.0 MB/s eta 0:00:01\n",
            "   ----------------- ---------------------- 4.1/9.2 MB 10.1 MB/s eta 0:00:01\n",
            "   -------------------- ------------------- 4.6/9.2 MB 10.2 MB/s eta 0:00:01\n",
            "   ---------------------- ----------------- 5.2/9.2 MB 10.3 MB/s eta 0:00:01\n",
            "   ------------------------ --------------- 5.7/9.2 MB 10.3 MB/s eta 0:00:01\n",
            "   -------------------------- ------------- 6.2/9.2 MB 10.4 MB/s eta 0:00:01\n",
            "   ----------------------------- ---------- 6.7/9.2 MB 10.5 MB/s eta 0:00:01\n",
            "   ------------------------------- -------- 7.2/9.2 MB 10.5 MB/s eta 0:00:01\n",
            "   --------------------------------- ------ 7.8/9.2 MB 10.5 MB/s eta 0:00:01\n",
            "   ----------------------------------- ---- 8.3/9.2 MB 10.6 MB/s eta 0:00:01\n",
            "   -------------------------------------- - 8.8/9.2 MB 10.6 MB/s eta 0:00:01\n",
            "   ---------------------------------------  9.2/9.2 MB 10.7 MB/s eta 0:00:01\n",
            "   ---------------------------------------  9.2/9.2 MB 10.7 MB/s eta 0:00:01\n",
            "   ---------------------------------------  9.2/9.2 MB 10.7 MB/s eta 0:00:01\n",
            "   ---------------------------------------  9.2/9.2 MB 10.7 MB/s eta 0:00:01\n",
            "   ---------------------------------------  9.2/9.2 MB 10.7 MB/s eta 0:00:01\n",
            "   ---------------------------------------  9.2/9.2 MB 10.7 MB/s eta 0:00:01\n",
            "   ---------------------------------------  9.2/9.2 MB 10.7 MB/s eta 0:00:01\n",
            "   ---------------------------------------  9.2/9.2 MB 10.7 MB/s eta 0:00:01\n",
            "   ---------------------------------------  9.2/9.2 MB 10.7 MB/s eta 0:00:01\n",
            "   ---------------------------------------- 9.2/9.2 MB 7.1 MB/s eta 0:00:00\n",
            "Downloading threadpoolctl-3.2.0-py3-none-any.whl (15 kB)\n",
            "Installing collected packages: threadpoolctl, scikit-learn\n",
            "Successfully installed scikit-learn-1.3.2 threadpoolctl-3.2.0\n"
          ]
        }
      ],
      "source": [
        "!pip install -U scikit-learn"
      ]
    },
    {
      "cell_type": "code",
      "execution_count": 1,
      "metadata": {
        "colab": {
          "base_uri": "https://localhost:8080/"
        },
        "id": "fBAdZez05RUx",
        "outputId": "8f7b79c5-dcf1-4837-9e8f-72dfe3b44cd0"
      },
      "outputs": [
        {
          "name": "stdout",
          "output_type": "stream",
          "text": [
            "Collecting lightgbm\n",
            "  Downloading lightgbm-4.1.0-py3-none-win_amd64.whl.metadata (19 kB)\n",
            "Requirement already satisfied: numpy in c:\\users\\tooer\\lwjgl\\.venv\\lib\\site-packages (from lightgbm) (1.26.2)\n",
            "Requirement already satisfied: scipy in c:\\users\\tooer\\lwjgl\\.venv\\lib\\site-packages (from lightgbm) (1.11.3)\n",
            "Downloading lightgbm-4.1.0-py3-none-win_amd64.whl (1.3 MB)\n",
            "   ---------------------------------------- 0.0/1.3 MB ? eta -:--:--\n",
            "    --------------------------------------- 0.0/1.3 MB 1.3 MB/s eta 0:00:02\n",
            "   ------ --------------------------------- 0.2/1.3 MB 3.4 MB/s eta 0:00:01\n",
            "   -------------------- ------------------- 0.7/1.3 MB 6.1 MB/s eta 0:00:01\n",
            "   ---------------------------------- ----- 1.1/1.3 MB 7.2 MB/s eta 0:00:01\n",
            "   ---------------------------------------  1.3/1.3 MB 7.6 MB/s eta 0:00:01\n",
            "   ---------------------------------------- 1.3/1.3 MB 5.2 MB/s eta 0:00:00\n",
            "Installing collected packages: lightgbm\n",
            "Successfully installed lightgbm-4.1.0\n",
            "Collecting phik\n",
            "  Downloading phik-0.12.3-cp311-cp311-win_amd64.whl (663 kB)\n",
            "     ---------------------------------------- 0.0/663.4 kB ? eta -:--:--\n",
            "      --------------------------------------- 10.2/663.4 kB ? eta -:--:--\n",
            "     -- ---------------------------------- 41.0/663.4 kB 393.8 kB/s eta 0:00:02\n",
            "     -------------- ----------------------- 256.0/663.4 kB 1.8 MB/s eta 0:00:01\n",
            "     ------------------------------------ - 634.9/663.4 kB 3.3 MB/s eta 0:00:01\n",
            "     -------------------------------------  655.4/663.4 kB 3.4 MB/s eta 0:00:01\n",
            "     -------------------------------------  655.4/663.4 kB 3.4 MB/s eta 0:00:01\n",
            "     -------------------------------------- 663.4/663.4 kB 2.1 MB/s eta 0:00:00\n",
            "Requirement already satisfied: numpy>=1.18.0 in c:\\users\\tooer\\lwjgl\\.venv\\lib\\site-packages (from phik) (1.26.2)\n",
            "Requirement already satisfied: scipy>=1.5.2 in c:\\users\\tooer\\lwjgl\\.venv\\lib\\site-packages (from phik) (1.11.3)\n",
            "Requirement already satisfied: pandas>=0.25.1 in c:\\users\\tooer\\lwjgl\\.venv\\lib\\site-packages (from phik) (2.1.3)\n",
            "Requirement already satisfied: matplotlib>=2.2.3 in c:\\users\\tooer\\lwjgl\\.venv\\lib\\site-packages (from phik) (3.8.1)\n",
            "Collecting joblib>=0.14.1 (from phik)\n",
            "  Downloading joblib-1.3.2-py3-none-any.whl.metadata (5.4 kB)\n",
            "Requirement already satisfied: contourpy>=1.0.1 in c:\\users\\tooer\\lwjgl\\.venv\\lib\\site-packages (from matplotlib>=2.2.3->phik) (1.2.0)\n",
            "Requirement already satisfied: cycler>=0.10 in c:\\users\\tooer\\lwjgl\\.venv\\lib\\site-packages (from matplotlib>=2.2.3->phik) (0.12.1)\n",
            "Requirement already satisfied: fonttools>=4.22.0 in c:\\users\\tooer\\lwjgl\\.venv\\lib\\site-packages (from matplotlib>=2.2.3->phik) (4.44.3)\n",
            "Requirement already satisfied: kiwisolver>=1.3.1 in c:\\users\\tooer\\lwjgl\\.venv\\lib\\site-packages (from matplotlib>=2.2.3->phik) (1.4.5)\n",
            "Requirement already satisfied: packaging>=20.0 in c:\\users\\tooer\\lwjgl\\.venv\\lib\\site-packages (from matplotlib>=2.2.3->phik) (23.2)\n",
            "Requirement already satisfied: pillow>=8 in c:\\users\\tooer\\lwjgl\\.venv\\lib\\site-packages (from matplotlib>=2.2.3->phik) (10.1.0)\n",
            "Requirement already satisfied: pyparsing>=2.3.1 in c:\\users\\tooer\\lwjgl\\.venv\\lib\\site-packages (from matplotlib>=2.2.3->phik) (3.1.1)\n",
            "Requirement already satisfied: python-dateutil>=2.7 in c:\\users\\tooer\\lwjgl\\.venv\\lib\\site-packages (from matplotlib>=2.2.3->phik) (2.8.2)\n",
            "Requirement already satisfied: pytz>=2020.1 in c:\\users\\tooer\\lwjgl\\.venv\\lib\\site-packages (from pandas>=0.25.1->phik) (2023.3.post1)\n",
            "Requirement already satisfied: tzdata>=2022.1 in c:\\users\\tooer\\lwjgl\\.venv\\lib\\site-packages (from pandas>=0.25.1->phik) (2023.3)\n",
            "Requirement already satisfied: six>=1.5 in c:\\users\\tooer\\lwjgl\\.venv\\lib\\site-packages (from python-dateutil>=2.7->matplotlib>=2.2.3->phik) (1.16.0)\n",
            "Downloading joblib-1.3.2-py3-none-any.whl (302 kB)\n",
            "   ---------------------------------------- 0.0/302.2 kB ? eta -:--:--\n",
            "   ---------------------------------------  297.0/302.2 kB 9.2 MB/s eta 0:00:01\n",
            "   ---------------------------------------- 302.2/302.2 kB 3.7 MB/s eta 0:00:00\n",
            "Installing collected packages: joblib, phik\n",
            "Successfully installed joblib-1.3.2 phik-0.12.3\n",
            "Requirement already satisfied: pandas in c:\\users\\tooer\\lwjgl\\.venv\\lib\\site-packages (2.1.3)\n",
            "Requirement already satisfied: numpy<2,>=1.23.2 in c:\\users\\tooer\\lwjgl\\.venv\\lib\\site-packages (from pandas) (1.26.2)\n",
            "Requirement already satisfied: python-dateutil>=2.8.2 in c:\\users\\tooer\\lwjgl\\.venv\\lib\\site-packages (from pandas) (2.8.2)\n",
            "Requirement already satisfied: pytz>=2020.1 in c:\\users\\tooer\\lwjgl\\.venv\\lib\\site-packages (from pandas) (2023.3.post1)\n",
            "Requirement already satisfied: tzdata>=2022.1 in c:\\users\\tooer\\lwjgl\\.venv\\lib\\site-packages (from pandas) (2023.3)\n",
            "Requirement already satisfied: six>=1.5 in c:\\users\\tooer\\lwjgl\\.venv\\lib\\site-packages (from python-dateutil>=2.8.2->pandas) (1.16.0)\n",
            "Requirement already satisfied: numpy in c:\\users\\tooer\\lwjgl\\.venv\\lib\\site-packages (1.26.2)\n",
            "Requirement already satisfied: seaborn in c:\\users\\tooer\\lwjgl\\.venv\\lib\\site-packages (0.13.0)\n",
            "Requirement already satisfied: numpy!=1.24.0,>=1.20 in c:\\users\\tooer\\lwjgl\\.venv\\lib\\site-packages (from seaborn) (1.26.2)\n",
            "Requirement already satisfied: pandas>=1.2 in c:\\users\\tooer\\lwjgl\\.venv\\lib\\site-packages (from seaborn) (2.1.3)\n",
            "Requirement already satisfied: matplotlib!=3.6.1,>=3.3 in c:\\users\\tooer\\lwjgl\\.venv\\lib\\site-packages (from seaborn) (3.8.1)\n",
            "Requirement already satisfied: contourpy>=1.0.1 in c:\\users\\tooer\\lwjgl\\.venv\\lib\\site-packages (from matplotlib!=3.6.1,>=3.3->seaborn) (1.2.0)\n",
            "Requirement already satisfied: cycler>=0.10 in c:\\users\\tooer\\lwjgl\\.venv\\lib\\site-packages (from matplotlib!=3.6.1,>=3.3->seaborn) (0.12.1)\n",
            "Requirement already satisfied: fonttools>=4.22.0 in c:\\users\\tooer\\lwjgl\\.venv\\lib\\site-packages (from matplotlib!=3.6.1,>=3.3->seaborn) (4.44.3)\n",
            "Requirement already satisfied: kiwisolver>=1.3.1 in c:\\users\\tooer\\lwjgl\\.venv\\lib\\site-packages (from matplotlib!=3.6.1,>=3.3->seaborn) (1.4.5)\n",
            "Requirement already satisfied: packaging>=20.0 in c:\\users\\tooer\\lwjgl\\.venv\\lib\\site-packages (from matplotlib!=3.6.1,>=3.3->seaborn) (23.2)\n",
            "Requirement already satisfied: pillow>=8 in c:\\users\\tooer\\lwjgl\\.venv\\lib\\site-packages (from matplotlib!=3.6.1,>=3.3->seaborn) (10.1.0)\n",
            "Requirement already satisfied: pyparsing>=2.3.1 in c:\\users\\tooer\\lwjgl\\.venv\\lib\\site-packages (from matplotlib!=3.6.1,>=3.3->seaborn) (3.1.1)\n",
            "Requirement already satisfied: python-dateutil>=2.7 in c:\\users\\tooer\\lwjgl\\.venv\\lib\\site-packages (from matplotlib!=3.6.1,>=3.3->seaborn) (2.8.2)\n",
            "Requirement already satisfied: pytz>=2020.1 in c:\\users\\tooer\\lwjgl\\.venv\\lib\\site-packages (from pandas>=1.2->seaborn) (2023.3.post1)\n",
            "Requirement already satisfied: tzdata>=2022.1 in c:\\users\\tooer\\lwjgl\\.venv\\lib\\site-packages (from pandas>=1.2->seaborn) (2023.3)\n",
            "Requirement already satisfied: six>=1.5 in c:\\users\\tooer\\lwjgl\\.venv\\lib\\site-packages (from python-dateutil>=2.7->matplotlib!=3.6.1,>=3.3->seaborn) (1.16.0)\n",
            "Requirement already satisfied: matplotlib in c:\\users\\tooer\\lwjgl\\.venv\\lib\\site-packages (3.8.1)\n",
            "Requirement already satisfied: contourpy>=1.0.1 in c:\\users\\tooer\\lwjgl\\.venv\\lib\\site-packages (from matplotlib) (1.2.0)\n",
            "Requirement already satisfied: cycler>=0.10 in c:\\users\\tooer\\lwjgl\\.venv\\lib\\site-packages (from matplotlib) (0.12.1)\n",
            "Requirement already satisfied: fonttools>=4.22.0 in c:\\users\\tooer\\lwjgl\\.venv\\lib\\site-packages (from matplotlib) (4.44.3)\n",
            "Requirement already satisfied: kiwisolver>=1.3.1 in c:\\users\\tooer\\lwjgl\\.venv\\lib\\site-packages (from matplotlib) (1.4.5)\n",
            "Requirement already satisfied: numpy<2,>=1.21 in c:\\users\\tooer\\lwjgl\\.venv\\lib\\site-packages (from matplotlib) (1.26.2)\n",
            "Requirement already satisfied: packaging>=20.0 in c:\\users\\tooer\\lwjgl\\.venv\\lib\\site-packages (from matplotlib) (23.2)\n",
            "Requirement already satisfied: pillow>=8 in c:\\users\\tooer\\lwjgl\\.venv\\lib\\site-packages (from matplotlib) (10.1.0)\n",
            "Requirement already satisfied: pyparsing>=2.3.1 in c:\\users\\tooer\\lwjgl\\.venv\\lib\\site-packages (from matplotlib) (3.1.1)\n",
            "Requirement already satisfied: python-dateutil>=2.7 in c:\\users\\tooer\\lwjgl\\.venv\\lib\\site-packages (from matplotlib) (2.8.2)\n",
            "Requirement already satisfied: six>=1.5 in c:\\users\\tooer\\lwjgl\\.venv\\lib\\site-packages (from python-dateutil>=2.7->matplotlib) (1.16.0)\n",
            "Collecting sklearn\n",
            "  Downloading sklearn-0.0.post11.tar.gz (3.6 kB)\n",
            "  Installing build dependencies: started\n",
            "  Installing build dependencies: finished with status 'done'\n",
            "  Getting requirements to build wheel: started\n",
            "  Getting requirements to build wheel: finished with status 'error'\n"
          ]
        },
        {
          "name": "stderr",
          "output_type": "stream",
          "text": [
            "  error: subprocess-exited-with-error\n",
            "  \n",
            "  × Getting requirements to build wheel did not run successfully.\n",
            "  │ exit code: 1\n",
            "  ╰─> [18 lines of output]\n",
            "      The 'sklearn' PyPI package is deprecated, use 'scikit-learn'\n",
            "      rather than 'sklearn' for pip commands.\n",
            "      \n",
            "      Here is how to fix this error in the main use cases:\n",
            "      - use 'pip install scikit-learn' rather than 'pip install sklearn'\n",
            "      - replace 'sklearn' by 'scikit-learn' in your pip requirements files\n",
            "        (requirements.txt, setup.py, setup.cfg, Pipfile, etc ...)\n",
            "      - if the 'sklearn' package is used by one of your dependencies,\n",
            "        it would be great if you take some time to track which package uses\n",
            "        'sklearn' instead of 'scikit-learn' and report it to their issue tracker\n",
            "      - as a last resort, set the environment variable\n",
            "        SKLEARN_ALLOW_DEPRECATED_SKLEARN_PACKAGE_INSTALL=True to avoid this error\n",
            "      \n",
            "      More information is available at\n",
            "      https://github.com/scikit-learn/sklearn-pypi-package\n",
            "      \n",
            "      If the previous advice does not cover your use case, feel free to report it at\n",
            "      https://github.com/scikit-learn/sklearn-pypi-package/issues/new\n",
            "      [end of output]\n",
            "  \n",
            "  note: This error originates from a subprocess, and is likely not a problem with pip.\n",
            "error: subprocess-exited-with-error\n",
            "\n",
            "× Getting requirements to build wheel did not run successfully.\n",
            "│ exit code: 1\n",
            "╰─> See above for output.\n",
            "\n",
            "note: This error originates from a subprocess, and is likely not a problem with pip.\n"
          ]
        },
        {
          "name": "stdout",
          "output_type": "stream",
          "text": [
            "Requirement already satisfied: phik in c:\\users\\tooer\\lwjgl\\.venv\\lib\\site-packages (0.12.3)\n",
            "Requirement already satisfied: numpy>=1.18.0 in c:\\users\\tooer\\lwjgl\\.venv\\lib\\site-packages (from phik) (1.26.2)\n",
            "Requirement already satisfied: scipy>=1.5.2 in c:\\users\\tooer\\lwjgl\\.venv\\lib\\site-packages (from phik) (1.11.3)\n",
            "Requirement already satisfied: pandas>=0.25.1 in c:\\users\\tooer\\lwjgl\\.venv\\lib\\site-packages (from phik) (2.1.3)\n",
            "Requirement already satisfied: matplotlib>=2.2.3 in c:\\users\\tooer\\lwjgl\\.venv\\lib\\site-packages (from phik) (3.8.1)\n",
            "Requirement already satisfied: joblib>=0.14.1 in c:\\users\\tooer\\lwjgl\\.venv\\lib\\site-packages (from phik) (1.3.2)\n",
            "Requirement already satisfied: contourpy>=1.0.1 in c:\\users\\tooer\\lwjgl\\.venv\\lib\\site-packages (from matplotlib>=2.2.3->phik) (1.2.0)\n",
            "Requirement already satisfied: cycler>=0.10 in c:\\users\\tooer\\lwjgl\\.venv\\lib\\site-packages (from matplotlib>=2.2.3->phik) (0.12.1)\n",
            "Requirement already satisfied: fonttools>=4.22.0 in c:\\users\\tooer\\lwjgl\\.venv\\lib\\site-packages (from matplotlib>=2.2.3->phik) (4.44.3)\n",
            "Requirement already satisfied: kiwisolver>=1.3.1 in c:\\users\\tooer\\lwjgl\\.venv\\lib\\site-packages (from matplotlib>=2.2.3->phik) (1.4.5)\n",
            "Requirement already satisfied: packaging>=20.0 in c:\\users\\tooer\\lwjgl\\.venv\\lib\\site-packages (from matplotlib>=2.2.3->phik) (23.2)\n",
            "Requirement already satisfied: pillow>=8 in c:\\users\\tooer\\lwjgl\\.venv\\lib\\site-packages (from matplotlib>=2.2.3->phik) (10.1.0)\n",
            "Requirement already satisfied: pyparsing>=2.3.1 in c:\\users\\tooer\\lwjgl\\.venv\\lib\\site-packages (from matplotlib>=2.2.3->phik) (3.1.1)\n",
            "Requirement already satisfied: python-dateutil>=2.7 in c:\\users\\tooer\\lwjgl\\.venv\\lib\\site-packages (from matplotlib>=2.2.3->phik) (2.8.2)\n",
            "Requirement already satisfied: pytz>=2020.1 in c:\\users\\tooer\\lwjgl\\.venv\\lib\\site-packages (from pandas>=0.25.1->phik) (2023.3.post1)\n",
            "Requirement already satisfied: tzdata>=2022.1 in c:\\users\\tooer\\lwjgl\\.venv\\lib\\site-packages (from pandas>=0.25.1->phik) (2023.3)\n",
            "Requirement already satisfied: six>=1.5 in c:\\users\\tooer\\lwjgl\\.venv\\lib\\site-packages (from python-dateutil>=2.7->matplotlib>=2.2.3->phik) (1.16.0)\n"
          ]
        },
        {
          "name": "stderr",
          "output_type": "stream",
          "text": [
            "ERROR: Could not find a version that satisfies the requirement random (from versions: none)\n",
            "ERROR: No matching distribution found for random\n"
          ]
        }
      ],
      "source": [
        "!pip install lightgbm\n",
        "!pip install phik\n",
        "!pip install pandas\n",
        "!pip install numpy\n",
        "!pip install seaborn\n",
        "!pip install matplotlib\n",
        "!pip install sklearn\n",
        "!pip install phik\n",
        "!pip install random"
      ]
    },
    {
      "cell_type": "markdown",
      "metadata": {
        "id": "Tq5tgUa6HwNO"
      },
      "source": [
        "# Импорт библиотек"
      ]
    },
    {
      "cell_type": "code",
      "execution_count": 4,
      "metadata": {
        "id": "coXnIIJg4KWG"
      },
      "outputs": [],
      "source": [
        "import pandas as pd\n",
        "import numpy as np\n",
        "import seaborn as sns\n",
        "import matplotlib.pyplot as plt\n",
        "\n",
        "from sklearn.cluster import KMeans, DBSCAN\n",
        "from sklearn.mixture import GaussianMixture\n",
        "from sklearn.preprocessing import LabelEncoder, StandardScaler\n",
        "\n",
        "from phik.report import plot_correlation_matrix\n",
        "# from sklearn.pipeline import Pipeline\n",
        "\n",
        "from lightgbm import LGBMClassifier\n",
        "from sklearn.linear_model import LogisticRegression\n",
        "from sklearn.ensemble import RandomForestClassifier\n",
        "from random import randint\n",
        "from sklearn.model_selection import train_test_split, KFold, cross_val_score, RandomizedSearchCV, GridSearchCV\n",
        "from sklearn.metrics import roc_auc_score, accuracy_score"
      ]
    },
    {
      "cell_type": "code",
      "execution_count": null,
      "metadata": {
        "id": "77KmnvYE5-E_"
      },
      "outputs": [],
      "source": [
        "pd.set_option('display.max_columns', None)\n",
        "sns.set(rc={'figure.figsize':(20,10)})"
      ]
    },
    {
      "cell_type": "markdown",
      "metadata": {
        "id": "ef8aSnW57YDm"
      },
      "source": [
        "# Загружаем наши данные после прошлой сессии"
      ]
    },
    {
      "cell_type": "code",
      "execution_count": null,
      "metadata": {
        "id": "J-wp9KL27fFo"
      },
      "outputs": [],
      "source": [
        "# Загружаем данные\n",
        "total_data_ready = pd.read_csv('gdrive/MyDrive/Colab Notebooks/Машинное обучение/data/Car accident/session_2/total_ready.csv')"
      ]
    },
    {
      "cell_type": "markdown",
      "metadata": {
        "id": "T7FSN6akHzhr"
      },
      "source": [
        "# Формирование дополнительных атрибутов"
      ]
    },
    {
      "cell_type": "code",
      "execution_count": null,
      "metadata": {
        "colab": {
          "base_uri": "https://localhost:8080/"
        },
        "id": "vehpQSMITJ4F",
        "outputId": "fe67266b-45ee-4381-a46e-92c0c6c0229b"
      },
      "outputs": [
        {
          "data": {
            "text/plain": [
              "array(['Барнаул', 'Немецкий национальный район', 'Шипуновский район', ...,\n",
              "       'Переславский район', 'Ярославский район', 'Борисоглебский район'],\n",
              "      dtype=object)"
            ]
          },
          "execution_count": 6,
          "metadata": {},
          "output_type": "execute_result"
        }
      ],
      "source": [
        "uniq_region = total_data_ready['region'].unique()\n",
        "uniq_region"
      ]
    },
    {
      "cell_type": "code",
      "execution_count": null,
      "metadata": {
        "colab": {
          "base_uri": "https://localhost:8080/"
        },
        "id": "Gq1xkT5OBsFE",
        "outputId": "12277c6a-cb80-42b8-840b-b04f7222d28e"
      },
      "outputs": [
        {
          "data": {
            "text/plain": [
              "2282"
            ]
          },
          "execution_count": 7,
          "metadata": {},
          "output_type": "execute_result"
        }
      ],
      "source": [
        "# Смотрим количество уникальных регионов в нашем датасете\n",
        "len(uniq_region)"
      ]
    },
    {
      "cell_type": "markdown",
      "metadata": {
        "id": "dPZk5g1OTZdM"
      },
      "source": [
        "Для работы с нашими данными мы создадим признаки, которые помогут решить поставленню задачу: danger_level - уровень опасности адреса, который составляется при помощи формулы, использующую сложности ДТП, количество инцидентов по региону и инцедентов по адресу; total_incidents_region - количество инцидентов по региону; total_incidents_address - количество инцидентов по адресу; severity_num - сложность ДТП в цифрах, month - месяц, в который произошло ДТП.\n",
        "\n",
        "Ниже приведены функции, которые создадут нам описанные выше признаки:"
      ]
    },
    {
      "cell_type": "code",
      "execution_count": null,
      "metadata": {
        "id": "lcWRj7jkTYve"
      },
      "outputs": [],
      "source": [
        "def total_incidents_on_region(row):\n",
        "    region = row['region']\n",
        "    return total_data_ready[total_data_ready['region'] == region]['id'].count()\n",
        "\n",
        "def total_incidents_on_address(row):\n",
        "    region = row['region']\n",
        "    address = row['address']\n",
        "    return total_data_ready[(total_data_ready['address'] == address) & (total_data_ready['region'] == region)]['id'].count()\n",
        "\n",
        "def severity_to_number(value):\n",
        "    if value == 'Легкий':\n",
        "        return 3\n",
        "    elif value == 'Тяжёлый':\n",
        "        return 2\n",
        "    else:\n",
        "        return 1\n",
        "\n",
        "def danger_level_value(row):\n",
        "    severity_num = row['severity_num']\n",
        "    total_incidents_region = row['total_incidents_region']\n",
        "    total_incidents_address = row['total_incidents_address']\n",
        "    dead_count = row['dead_count']\n",
        "    injured_count = row['injured_count']\n",
        "    participants_count = row['participants_count']\n",
        "\n",
        "    danger_level = (2**(abs(severity_num-3)) * (total_incidents_address/total_incidents_region))/total_incidents_region\n",
        "    return danger_level"
      ]
    },
    {
      "cell_type": "markdown",
      "metadata": {
        "id": "gIZ_-ZZlTb0Y"
      },
      "source": [
        "Функции созданы, значит мы можем приступить к их использованию - добавим признаки в нашу таблицу (ремарка - мы создаем дополнительные два столбца: frequency и month, так как они также могут нам помочь в дальнейшем прогнозе):"
      ]
    },
    {
      "cell_type": "code",
      "execution_count": null,
      "metadata": {
        "id": "1IDuy40WTfb_"
      },
      "outputs": [],
      "source": [
        "total_data_ready['total_incidents_region'] = total_data_ready.apply(total_incidents_on_region, axis=1)\n",
        "total_data_ready['total_incidents_address'] = total_data_ready.apply(total_incidents_on_address, axis=1)\n",
        "total_data_ready['severity_num'] = total_data_ready['severity'].apply(severity_to_number)\n",
        "total_data_ready['danger_level'] = total_data_ready.apply(danger_level_value, axis=1)\n",
        "total_data_ready['frequency'] = total_data_ready['total_incidents_address']/total_data_ready['total_incidents_region']\n",
        "total_data_ready['month'] = total_data_ready.datetime.dt.month\n",
        "total_data_ready.head()"
      ]
    },
    {
      "cell_type": "markdown",
      "metadata": {
        "id": "XcwWRdn4TnQK"
      },
      "source": [
        "Все признаки созданы, таблица наполнилась новыми столбцами, которые помогут нам в прогнозе опасности дорог. Однако давайте проверим наши главные признаки - danger_level и total_incidents_address. Необходимость их проверки заключается в том, что данный признак создавался с применением математической функции, которую мы сами составили, поэтому нужно убедиться в рациональности значений (danger_level), а признак total_incidents_address может содержать выбросы, если дорога была записана одинакова в некоторых местах:"
      ]
    },
    {
      "cell_type": "code",
      "execution_count": null,
      "metadata": {
        "colab": {
          "base_uri": "https://localhost:8080/"
        },
        "id": "5poWbzsIToI_",
        "outputId": "6789b987-9ebe-4e02-935a-04524efab026"
      },
      "outputs": [
        {
          "data": {
            "text/plain": [
              "count    6.153200e+04\n",
              "mean     1.128435e-04\n",
              "std      8.104723e-03\n",
              "min      1.108967e-08\n",
              "25%      1.774347e-07\n",
              "50%      2.381244e-06\n",
              "75%      2.898287e-05\n",
              "max      2.000000e+00\n",
              "Name: danger_level, dtype: float64"
            ]
          },
          "execution_count": 29,
          "metadata": {},
          "output_type": "execute_result"
        }
      ],
      "source": [
        "total_data_ready.danger_level.describe()"
      ]
    },
    {
      "cell_type": "code",
      "execution_count": null,
      "metadata": {
        "colab": {
          "base_uri": "https://localhost:8080/"
        },
        "id": "RyJUiEXzTsPR",
        "outputId": "6a4181e5-8829-4aba-e8e7-dcd51ff03aae"
      },
      "outputs": [
        {
          "data": {
            "text/plain": [
              "count    61532.000000\n",
              "mean         8.197036\n",
              "std         41.155005\n",
              "min          1.000000\n",
              "25%          1.000000\n",
              "50%          2.000000\n",
              "75%          4.000000\n",
              "max        456.000000\n",
              "Name: total_incidents_address, dtype: float64"
            ]
          },
          "execution_count": 30,
          "metadata": {},
          "output_type": "execute_result"
        }
      ],
      "source": [
        "total_data_ready.total_incidents_address.describe()"
      ]
    },
    {
      "cell_type": "markdown",
      "metadata": {
        "id": "wE19SbELT4da"
      },
      "source": [
        "В глаза бросатеся максимальное значение - 2. Остальные данные лежат в приемлемых границах - каждая 25% данных разнится от соседей умножением на 10, но максимальное значение в сравнении с другими похоже на выброс. Скорее всего это связано с тем, что (согласно нашей формуле составления danger_level) частота ДТП на выбранной улице огромная, а общее количество ДТП по региону низкое. Также стоит заметить, что у нас есть явный выброс в 390 ДТП по адресу, хотя 3 квантиль равен 4. Давайте проверим данное рассуждение просмотром строки максимального уровня опасности и просмотром количества ДТП по адресам без адреса с 390 происшествиями:"
      ]
    },
    {
      "cell_type": "code",
      "execution_count": null,
      "metadata": {
        "colab": {
          "base_uri": "https://localhost:8080/",
          "height": 214
        },
        "id": "JASZ930QT5Dk",
        "outputId": "d78fde90-07e3-422c-f5e9-c735879bb399"
      },
      "outputs": [
        {
          "data": {
            "text/html": [
              "\n",
              "  <div id=\"df-bc1e9875-c9ed-4d15-9b7d-8435c4008f09\">\n",
              "    <div class=\"colab-df-container\">\n",
              "      <div>\n",
              "<style scoped>\n",
              "    .dataframe tbody tr th:only-of-type {\n",
              "        vertical-align: middle;\n",
              "    }\n",
              "\n",
              "    .dataframe tbody tr th {\n",
              "        vertical-align: top;\n",
              "    }\n",
              "\n",
              "    .dataframe thead th {\n",
              "        text-align: right;\n",
              "    }\n",
              "</style>\n",
              "<table border=\"1\" class=\"dataframe\">\n",
              "  <thead>\n",
              "    <tr style=\"text-align: right;\">\n",
              "      <th></th>\n",
              "      <th>id</th>\n",
              "      <th>tags</th>\n",
              "      <th>light</th>\n",
              "      <th>nearby</th>\n",
              "      <th>region</th>\n",
              "      <th>address</th>\n",
              "      <th>weather</th>\n",
              "      <th>category</th>\n",
              "      <th>datetime</th>\n",
              "      <th>severity</th>\n",
              "      <th>dead_count</th>\n",
              "      <th>injured_count</th>\n",
              "      <th>parent_region</th>\n",
              "      <th>road_conditions</th>\n",
              "      <th>participants_count</th>\n",
              "      <th>participant_categories</th>\n",
              "      <th>lat</th>\n",
              "      <th>long</th>\n",
              "      <th>total_incidents_region</th>\n",
              "      <th>total_incidents_address</th>\n",
              "      <th>severity_num</th>\n",
              "      <th>danger_level</th>\n",
              "      <th>frequency</th>\n",
              "      <th>month</th>\n",
              "    </tr>\n",
              "  </thead>\n",
              "  <tbody>\n",
              "    <tr>\n",
              "      <th>34990</th>\n",
              "      <td>2221936</td>\n",
              "      <td>Дорожно-транспортные происшествия</td>\n",
              "      <td>Светлое время суток</td>\n",
              "      <td></td>\n",
              "      <td>Новая Земля</td>\n",
              "      <td>Прочие автомобильные дороги (ведомственные), 1 км</td>\n",
              "      <td>Пасмурно</td>\n",
              "      <td>Опрокидывание</td>\n",
              "      <td>2017-07-23 17:30:00</td>\n",
              "      <td>Тяжёлый</td>\n",
              "      <td>0</td>\n",
              "      <td>1</td>\n",
              "      <td>Архангельская область</td>\n",
              "      <td>Мокрое</td>\n",
              "      <td>2</td>\n",
              "      <td>Все участники</td>\n",
              "      <td>71.5572</td>\n",
              "      <td>52.3364</td>\n",
              "      <td>1</td>\n",
              "      <td>1</td>\n",
              "      <td>2</td>\n",
              "      <td>2.0</td>\n",
              "      <td>1.0</td>\n",
              "      <td>7</td>\n",
              "    </tr>\n",
              "  </tbody>\n",
              "</table>\n",
              "</div>\n",
              "      <button class=\"colab-df-convert\" onclick=\"convertToInteractive('df-bc1e9875-c9ed-4d15-9b7d-8435c4008f09')\"\n",
              "              title=\"Convert this dataframe to an interactive table.\"\n",
              "              style=\"display:none;\">\n",
              "        \n",
              "  <svg xmlns=\"http://www.w3.org/2000/svg\" height=\"24px\"viewBox=\"0 0 24 24\"\n",
              "       width=\"24px\">\n",
              "    <path d=\"M0 0h24v24H0V0z\" fill=\"none\"/>\n",
              "    <path d=\"M18.56 5.44l.94 2.06.94-2.06 2.06-.94-2.06-.94-.94-2.06-.94 2.06-2.06.94zm-11 1L8.5 8.5l.94-2.06 2.06-.94-2.06-.94L8.5 2.5l-.94 2.06-2.06.94zm10 10l.94 2.06.94-2.06 2.06-.94-2.06-.94-.94-2.06-.94 2.06-2.06.94z\"/><path d=\"M17.41 7.96l-1.37-1.37c-.4-.4-.92-.59-1.43-.59-.52 0-1.04.2-1.43.59L10.3 9.45l-7.72 7.72c-.78.78-.78 2.05 0 2.83L4 21.41c.39.39.9.59 1.41.59.51 0 1.02-.2 1.41-.59l7.78-7.78 2.81-2.81c.8-.78.8-2.07 0-2.86zM5.41 20L4 18.59l7.72-7.72 1.47 1.35L5.41 20z\"/>\n",
              "  </svg>\n",
              "      </button>\n",
              "      \n",
              "  <style>\n",
              "    .colab-df-container {\n",
              "      display:flex;\n",
              "      flex-wrap:wrap;\n",
              "      gap: 12px;\n",
              "    }\n",
              "\n",
              "    .colab-df-convert {\n",
              "      background-color: #E8F0FE;\n",
              "      border: none;\n",
              "      border-radius: 50%;\n",
              "      cursor: pointer;\n",
              "      display: none;\n",
              "      fill: #1967D2;\n",
              "      height: 32px;\n",
              "      padding: 0 0 0 0;\n",
              "      width: 32px;\n",
              "    }\n",
              "\n",
              "    .colab-df-convert:hover {\n",
              "      background-color: #E2EBFA;\n",
              "      box-shadow: 0px 1px 2px rgba(60, 64, 67, 0.3), 0px 1px 3px 1px rgba(60, 64, 67, 0.15);\n",
              "      fill: #174EA6;\n",
              "    }\n",
              "\n",
              "    [theme=dark] .colab-df-convert {\n",
              "      background-color: #3B4455;\n",
              "      fill: #D2E3FC;\n",
              "    }\n",
              "\n",
              "    [theme=dark] .colab-df-convert:hover {\n",
              "      background-color: #434B5C;\n",
              "      box-shadow: 0px 1px 3px 1px rgba(0, 0, 0, 0.15);\n",
              "      filter: drop-shadow(0px 1px 2px rgba(0, 0, 0, 0.3));\n",
              "      fill: #FFFFFF;\n",
              "    }\n",
              "  </style>\n",
              "\n",
              "      <script>\n",
              "        const buttonEl =\n",
              "          document.querySelector('#df-bc1e9875-c9ed-4d15-9b7d-8435c4008f09 button.colab-df-convert');\n",
              "        buttonEl.style.display =\n",
              "          google.colab.kernel.accessAllowed ? 'block' : 'none';\n",
              "\n",
              "        async function convertToInteractive(key) {\n",
              "          const element = document.querySelector('#df-bc1e9875-c9ed-4d15-9b7d-8435c4008f09');\n",
              "          const dataTable =\n",
              "            await google.colab.kernel.invokeFunction('convertToInteractive',\n",
              "                                                     [key], {});\n",
              "          if (!dataTable) return;\n",
              "\n",
              "          const docLinkHtml = 'Like what you see? Visit the ' +\n",
              "            '<a target=\"_blank\" href=https://colab.research.google.com/notebooks/data_table.ipynb>data table notebook</a>'\n",
              "            + ' to learn more about interactive tables.';\n",
              "          element.innerHTML = '';\n",
              "          dataTable['output_type'] = 'display_data';\n",
              "          await google.colab.output.renderOutput(dataTable, element);\n",
              "          const docLink = document.createElement('div');\n",
              "          docLink.innerHTML = docLinkHtml;\n",
              "          element.appendChild(docLink);\n",
              "        }\n",
              "      </script>\n",
              "    </div>\n",
              "  </div>\n",
              "  "
            ],
            "text/plain": [
              "            id                               tags                light nearby  \\\n",
              "34990  2221936  Дорожно-транспортные происшествия  Светлое время суток          \n",
              "\n",
              "            region                                            address  \\\n",
              "34990  Новая Земля  Прочие автомобильные дороги (ведомственные), 1 км   \n",
              "\n",
              "        weather       category            datetime severity  dead_count  \\\n",
              "34990  Пасмурно  Опрокидывание 2017-07-23 17:30:00  Тяжёлый           0   \n",
              "\n",
              "       injured_count          parent_region road_conditions  \\\n",
              "34990              1  Архангельская область          Мокрое   \n",
              "\n",
              "       participants_count participant_categories      lat     long  \\\n",
              "34990                   2          Все участники  71.5572  52.3364   \n",
              "\n",
              "       total_incidents_region  total_incidents_address  severity_num  \\\n",
              "34990                       1                        1             2   \n",
              "\n",
              "       danger_level  frequency  month  \n",
              "34990           2.0        1.0      7  "
            ]
          },
          "execution_count": 31,
          "metadata": {},
          "output_type": "execute_result"
        }
      ],
      "source": [
        "total_data_ready[total_data_ready['danger_level'] == total_data_ready['danger_level'].max()]"
      ]
    },
    {
      "cell_type": "code",
      "execution_count": null,
      "metadata": {
        "colab": {
          "base_uri": "https://localhost:8080/"
        },
        "id": "te8urX3hT900",
        "outputId": "48687ee0-06d0-41f5-a7a8-bfc608d96ad7"
      },
      "outputs": [
        {
          "data": {
            "text/plain": [
              "count    61076.000000\n",
              "mean         4.853690\n",
              "std         14.071877\n",
              "min          1.000000\n",
              "25%          1.000000\n",
              "50%          2.000000\n",
              "75%          4.000000\n",
              "max        146.000000\n",
              "Name: total_incidents_address, dtype: float64"
            ]
          },
          "execution_count": 32,
          "metadata": {},
          "output_type": "execute_result"
        }
      ],
      "source": [
        "total_data_ready[total_data_ready.total_incidents_address < 390].total_incidents_address.describe()"
      ]
    },
    {
      "cell_type": "markdown",
      "metadata": {
        "id": "06zgzchLUAOo"
      },
      "source": [
        "Количество ДТП по региону равно 1, количество ДТП по адресу также равно 1, а тяжесть ДТП равна 2, то есть тяжелое ДТП. Именно благодаря таким данным и получился выброс в виде 2. Нам такое значение не нужно по причине вреда на остальные данные при составлении и обучении моделей, поэтому мы просто уберем данную строку из таблицы. Также оставим в значение количества ДТП на уровне 133 и не более:"
      ]
    },
    {
      "cell_type": "code",
      "execution_count": null,
      "metadata": {
        "id": "k6AW0LJgUCat"
      },
      "outputs": [],
      "source": [
        "total_data_ready = total_data_ready.query('danger_level != 2')"
      ]
    },
    {
      "cell_type": "code",
      "execution_count": null,
      "metadata": {
        "id": "aKHTnK3BUEls"
      },
      "outputs": [],
      "source": [
        "total_data_ready = total_data_ready[total_data_ready.total_incidents_address < 390]"
      ]
    },
    {
      "cell_type": "markdown",
      "metadata": {
        "id": "6E-BvZAhzCmL"
      },
      "source": [
        "Следующий график покажет нам, насколько сильна зависимость признака severity к danger_level:"
      ]
    },
    {
      "cell_type": "code",
      "execution_count": null,
      "metadata": {
        "id": "7FQc26P0zDua"
      },
      "outputs": [],
      "source": [
        "sns.boxplot(x=\"severity\", y=\"danger_level\", data=total_data_ready[total_data_ready['danger_level'] < 0.006])"
      ]
    },
    {
      "cell_type": "markdown",
      "metadata": {
        "id": "I9tcUoFOUnZM"
      },
      "source": [
        "Все как и ожидалось - чем выше тяжесть ДТП, тем выше уровень опасности дороги. Далее на очереди график с анализом самого опасного месяца. Зависимость следующая: признак month к признаку danger_level:"
      ]
    },
    {
      "cell_type": "code",
      "execution_count": null,
      "metadata": {
        "id": "3jKr_nV7Up3x"
      },
      "outputs": [],
      "source": [
        "sns.boxplot(x=\"month\", y=\"danger_level\", data=total_data_ready[total_data_ready['danger_level'] < 0.00015])"
      ]
    },
    {
      "cell_type": "markdown",
      "metadata": {
        "id": "zFHLCPHSUr1I"
      },
      "source": [
        "Самым опасным месяцем оказался июль, второй - август и завершает тройку июнь. Это полностью соответсвуют погоде, которая происходила чаще всего во время ДТП - ясная. Это еще раз доказывает нам, что чаще всего в ДТП виноваты обычные водители.\n",
        "\n",
        "Теперь посмотрим, какая тяжесть ДТП происходила чаще по адресам:"
      ]
    },
    {
      "cell_type": "code",
      "execution_count": null,
      "metadata": {
        "colab": {
          "base_uri": "https://localhost:8080/",
          "height": 502
        },
        "id": "xVK0ml-zVJsQ",
        "outputId": "f5deac7b-0439-4726-899b-1801547de9ea"
      },
      "outputs": [
        {
          "ename": "KeyError",
          "evalue": "ignored",
          "output_type": "error",
          "traceback": [
            "\u001b[0;31m---------------------------------------------------------------------------\u001b[0m",
            "\u001b[0;31mKeyError\u001b[0m                                  Traceback (most recent call last)",
            "\u001b[0;32m/usr/local/lib/python3.8/dist-packages/pandas/core/indexes/base.py\u001b[0m in \u001b[0;36mget_loc\u001b[0;34m(self, key, method, tolerance)\u001b[0m\n\u001b[1;32m   3360\u001b[0m             \u001b[0;32mtry\u001b[0m\u001b[0;34m:\u001b[0m\u001b[0;34m\u001b[0m\u001b[0;34m\u001b[0m\u001b[0m\n\u001b[0;32m-> 3361\u001b[0;31m                 \u001b[0;32mreturn\u001b[0m \u001b[0mself\u001b[0m\u001b[0;34m.\u001b[0m\u001b[0m_engine\u001b[0m\u001b[0;34m.\u001b[0m\u001b[0mget_loc\u001b[0m\u001b[0;34m(\u001b[0m\u001b[0mcasted_key\u001b[0m\u001b[0;34m)\u001b[0m\u001b[0;34m\u001b[0m\u001b[0;34m\u001b[0m\u001b[0m\n\u001b[0m\u001b[1;32m   3362\u001b[0m             \u001b[0;32mexcept\u001b[0m \u001b[0mKeyError\u001b[0m \u001b[0;32mas\u001b[0m \u001b[0merr\u001b[0m\u001b[0;34m:\u001b[0m\u001b[0;34m\u001b[0m\u001b[0;34m\u001b[0m\u001b[0m\n",
            "\u001b[0;32m/usr/local/lib/python3.8/dist-packages/pandas/_libs/index.pyx\u001b[0m in \u001b[0;36mpandas._libs.index.IndexEngine.get_loc\u001b[0;34m()\u001b[0m\n",
            "\u001b[0;32m/usr/local/lib/python3.8/dist-packages/pandas/_libs/index.pyx\u001b[0m in \u001b[0;36mpandas._libs.index.IndexEngine.get_loc\u001b[0;34m()\u001b[0m\n",
            "\u001b[0;32mpandas/_libs/hashtable_class_helper.pxi\u001b[0m in \u001b[0;36mpandas._libs.hashtable.PyObjectHashTable.get_item\u001b[0;34m()\u001b[0m\n",
            "\u001b[0;32mpandas/_libs/hashtable_class_helper.pxi\u001b[0m in \u001b[0;36mpandas._libs.hashtable.PyObjectHashTable.get_item\u001b[0;34m()\u001b[0m\n",
            "\u001b[0;31mKeyError\u001b[0m: 'total_incidents_address'",
            "\nThe above exception was the direct cause of the following exception:\n",
            "\u001b[0;31mKeyError\u001b[0m                                  Traceback (most recent call last)",
            "\u001b[0;32m<ipython-input-19-b6c2971f38bf>\u001b[0m in \u001b[0;36m<module>\u001b[0;34m\u001b[0m\n\u001b[0;32m----> 1\u001b[0;31m \u001b[0msns\u001b[0m\u001b[0;34m.\u001b[0m\u001b[0mboxplot\u001b[0m\u001b[0;34m(\u001b[0m\u001b[0mx\u001b[0m\u001b[0;34m=\u001b[0m\u001b[0;34m\"severity\"\u001b[0m\u001b[0;34m,\u001b[0m \u001b[0my\u001b[0m\u001b[0;34m=\u001b[0m\u001b[0;34m\"total_incidents_address\"\u001b[0m\u001b[0;34m,\u001b[0m \u001b[0mdata\u001b[0m\u001b[0;34m=\u001b[0m\u001b[0mtotal_data_ready\u001b[0m\u001b[0;34m[\u001b[0m\u001b[0mtotal_data_ready\u001b[0m\u001b[0;34m[\u001b[0m\u001b[0;34m'total_incidents_address'\u001b[0m\u001b[0;34m]\u001b[0m \u001b[0;34m<\u001b[0m \u001b[0;36m80\u001b[0m\u001b[0;34m]\u001b[0m\u001b[0;34m)\u001b[0m\u001b[0;34m\u001b[0m\u001b[0;34m\u001b[0m\u001b[0m\n\u001b[0m",
            "\u001b[0;32m/usr/local/lib/python3.8/dist-packages/pandas/core/frame.py\u001b[0m in \u001b[0;36m__getitem__\u001b[0;34m(self, key)\u001b[0m\n\u001b[1;32m   3456\u001b[0m             \u001b[0;32mif\u001b[0m \u001b[0mself\u001b[0m\u001b[0;34m.\u001b[0m\u001b[0mcolumns\u001b[0m\u001b[0;34m.\u001b[0m\u001b[0mnlevels\u001b[0m \u001b[0;34m>\u001b[0m \u001b[0;36m1\u001b[0m\u001b[0;34m:\u001b[0m\u001b[0;34m\u001b[0m\u001b[0;34m\u001b[0m\u001b[0m\n\u001b[1;32m   3457\u001b[0m                 \u001b[0;32mreturn\u001b[0m \u001b[0mself\u001b[0m\u001b[0;34m.\u001b[0m\u001b[0m_getitem_multilevel\u001b[0m\u001b[0;34m(\u001b[0m\u001b[0mkey\u001b[0m\u001b[0;34m)\u001b[0m\u001b[0;34m\u001b[0m\u001b[0;34m\u001b[0m\u001b[0m\n\u001b[0;32m-> 3458\u001b[0;31m             \u001b[0mindexer\u001b[0m \u001b[0;34m=\u001b[0m \u001b[0mself\u001b[0m\u001b[0;34m.\u001b[0m\u001b[0mcolumns\u001b[0m\u001b[0;34m.\u001b[0m\u001b[0mget_loc\u001b[0m\u001b[0;34m(\u001b[0m\u001b[0mkey\u001b[0m\u001b[0;34m)\u001b[0m\u001b[0;34m\u001b[0m\u001b[0;34m\u001b[0m\u001b[0m\n\u001b[0m\u001b[1;32m   3459\u001b[0m             \u001b[0;32mif\u001b[0m \u001b[0mis_integer\u001b[0m\u001b[0;34m(\u001b[0m\u001b[0mindexer\u001b[0m\u001b[0;34m)\u001b[0m\u001b[0;34m:\u001b[0m\u001b[0;34m\u001b[0m\u001b[0;34m\u001b[0m\u001b[0m\n\u001b[1;32m   3460\u001b[0m                 \u001b[0mindexer\u001b[0m \u001b[0;34m=\u001b[0m \u001b[0;34m[\u001b[0m\u001b[0mindexer\u001b[0m\u001b[0;34m]\u001b[0m\u001b[0;34m\u001b[0m\u001b[0;34m\u001b[0m\u001b[0m\n",
            "\u001b[0;32m/usr/local/lib/python3.8/dist-packages/pandas/core/indexes/base.py\u001b[0m in \u001b[0;36mget_loc\u001b[0;34m(self, key, method, tolerance)\u001b[0m\n\u001b[1;32m   3361\u001b[0m                 \u001b[0;32mreturn\u001b[0m \u001b[0mself\u001b[0m\u001b[0;34m.\u001b[0m\u001b[0m_engine\u001b[0m\u001b[0;34m.\u001b[0m\u001b[0mget_loc\u001b[0m\u001b[0;34m(\u001b[0m\u001b[0mcasted_key\u001b[0m\u001b[0;34m)\u001b[0m\u001b[0;34m\u001b[0m\u001b[0;34m\u001b[0m\u001b[0m\n\u001b[1;32m   3362\u001b[0m             \u001b[0;32mexcept\u001b[0m \u001b[0mKeyError\u001b[0m \u001b[0;32mas\u001b[0m \u001b[0merr\u001b[0m\u001b[0;34m:\u001b[0m\u001b[0;34m\u001b[0m\u001b[0;34m\u001b[0m\u001b[0m\n\u001b[0;32m-> 3363\u001b[0;31m                 \u001b[0;32mraise\u001b[0m \u001b[0mKeyError\u001b[0m\u001b[0;34m(\u001b[0m\u001b[0mkey\u001b[0m\u001b[0;34m)\u001b[0m \u001b[0;32mfrom\u001b[0m \u001b[0merr\u001b[0m\u001b[0;34m\u001b[0m\u001b[0;34m\u001b[0m\u001b[0m\n\u001b[0m\u001b[1;32m   3364\u001b[0m \u001b[0;34m\u001b[0m\u001b[0m\n\u001b[1;32m   3365\u001b[0m         \u001b[0;32mif\u001b[0m \u001b[0mis_scalar\u001b[0m\u001b[0;34m(\u001b[0m\u001b[0mkey\u001b[0m\u001b[0;34m)\u001b[0m \u001b[0;32mand\u001b[0m \u001b[0misna\u001b[0m\u001b[0;34m(\u001b[0m\u001b[0mkey\u001b[0m\u001b[0;34m)\u001b[0m \u001b[0;32mand\u001b[0m \u001b[0;32mnot\u001b[0m \u001b[0mself\u001b[0m\u001b[0;34m.\u001b[0m\u001b[0mhasnans\u001b[0m\u001b[0;34m:\u001b[0m\u001b[0;34m\u001b[0m\u001b[0;34m\u001b[0m\u001b[0m\n",
            "\u001b[0;31mKeyError\u001b[0m: 'total_incidents_address'"
          ]
        }
      ],
      "source": [
        "sns.boxplot(x=\"severity\", y=\"total_incidents_address\", data=total_data_ready[total_data_ready['total_incidents_address'] < 80])"
      ]
    },
    {
      "cell_type": "markdown",
      "metadata": {
        "id": "RaKkrrvmVMD6"
      },
      "source": [
        "Опять же, все логично - чаще всего на количество ДТП по определенным адресам происходит ДТП легкой тяжести, остальные с одинаковой частотой. Также мы убрали сильные выбросы с данных\n",
        "\n",
        "Этап визуализации завершен, а значит мы можем сделать некие выводы:\n",
        "\n",
        "Количество раненных в ДТП больше всего в тяжелом ДТП;\n",
        "ДТП чаще всего происходят в ясную погоду;\n",
        "Самые опасные месяцы: июль, август и июнь - 3 месяца лета."
      ]
    },
    {
      "cell_type": "markdown",
      "metadata": {
        "id": "7TipdphoVOD_"
      },
      "source": [
        "# Выделение данных для кластеризации"
      ]
    },
    {
      "cell_type": "markdown",
      "metadata": {
        "id": "hRJ_7sCzVQkS"
      },
      "source": [
        "Следующим этапом в нашей работе будет подготовка к кластеризации. Кластеризация - процесс разбиения данных на кластеры (классы), данные которых объединяются по каким-то схожим признакам. Позволяет перейти от обучения без учителя к обучению с учителем (мы создадим целевой признак).\n",
        "\n",
        "Для того чтобы начать кластеризацию, мы возьмем наиболее важные признаки для составления классов уровня опасности дороги. Однако первым делом мы приведем категориальные признаки в числовой вид, чтобы использовать их в будущем:"
      ]
    },
    {
      "cell_type": "code",
      "execution_count": null,
      "metadata": {
        "colab": {
          "base_uri": "https://localhost:8080/",
          "height": 496
        },
        "id": "o_a4kgMsVTFc",
        "outputId": "a7e6b438-18e0-49de-d582-12ab4719ae18"
      },
      "outputs": [
        {
          "data": {
            "text/html": [
              "\n",
              "  <div id=\"df-10826bb2-8ee3-40b5-9bb8-48206dbcc99f\">\n",
              "    <div class=\"colab-df-container\">\n",
              "      <div>\n",
              "<style scoped>\n",
              "    .dataframe tbody tr th:only-of-type {\n",
              "        vertical-align: middle;\n",
              "    }\n",
              "\n",
              "    .dataframe tbody tr th {\n",
              "        vertical-align: top;\n",
              "    }\n",
              "\n",
              "    .dataframe thead th {\n",
              "        text-align: right;\n",
              "    }\n",
              "</style>\n",
              "<table border=\"1\" class=\"dataframe\">\n",
              "  <thead>\n",
              "    <tr style=\"text-align: right;\">\n",
              "      <th></th>\n",
              "      <th>id</th>\n",
              "      <th>tags</th>\n",
              "      <th>light</th>\n",
              "      <th>nearby</th>\n",
              "      <th>region</th>\n",
              "      <th>address</th>\n",
              "      <th>weather</th>\n",
              "      <th>category</th>\n",
              "      <th>datetime</th>\n",
              "      <th>severity</th>\n",
              "      <th>dead_count</th>\n",
              "      <th>injured_count</th>\n",
              "      <th>parent_region</th>\n",
              "      <th>road_conditions</th>\n",
              "      <th>participants_count</th>\n",
              "      <th>participant_categories</th>\n",
              "      <th>lat</th>\n",
              "      <th>long</th>\n",
              "      <th>total_incidents_region</th>\n",
              "      <th>total_incidents_address</th>\n",
              "      <th>severity_num</th>\n",
              "      <th>danger_level</th>\n",
              "      <th>frequency</th>\n",
              "      <th>month</th>\n",
              "    </tr>\n",
              "  </thead>\n",
              "  <tbody>\n",
              "    <tr>\n",
              "      <th>0</th>\n",
              "      <td>2311491</td>\n",
              "      <td>Дорожно-транспортные происшествия</td>\n",
              "      <td>2</td>\n",
              "      <td>Многоквартирные жилые домаАдминистративные зда...</td>\n",
              "      <td>Барнаул</td>\n",
              "      <td>г Барнаул, тракт Павловский, 249 а</td>\n",
              "      <td>21</td>\n",
              "      <td>10</td>\n",
              "      <td>2017-09-04 22:15:00</td>\n",
              "      <td>Легкий</td>\n",
              "      <td>0</td>\n",
              "      <td>1</td>\n",
              "      <td>Алтайский край</td>\n",
              "      <td>1032</td>\n",
              "      <td>2</td>\n",
              "      <td>4</td>\n",
              "      <td>53.342000</td>\n",
              "      <td>83.690300</td>\n",
              "      <td>9496</td>\n",
              "      <td>1</td>\n",
              "      <td>3</td>\n",
              "      <td>1.108967e-08</td>\n",
              "      <td>0.000105</td>\n",
              "      <td>9</td>\n",
              "    </tr>\n",
              "    <tr>\n",
              "      <th>1</th>\n",
              "      <td>2589161</td>\n",
              "      <td>Дорожно-транспортные происшествия</td>\n",
              "      <td>4</td>\n",
              "      <td>Остановка общественного транспортаНерегулируем...</td>\n",
              "      <td>Барнаул</td>\n",
              "      <td>г Барнаул, ул Малахова, 46</td>\n",
              "      <td>21</td>\n",
              "      <td>16</td>\n",
              "      <td>2021-06-29 16:45:00</td>\n",
              "      <td>Легкий</td>\n",
              "      <td>0</td>\n",
              "      <td>1</td>\n",
              "      <td>Алтайский край</td>\n",
              "      <td>1213</td>\n",
              "      <td>3</td>\n",
              "      <td>4</td>\n",
              "      <td>53.369700</td>\n",
              "      <td>83.709200</td>\n",
              "      <td>9496</td>\n",
              "      <td>24</td>\n",
              "      <td>3</td>\n",
              "      <td>2.661521e-07</td>\n",
              "      <td>0.002527</td>\n",
              "      <td>6</td>\n",
              "    </tr>\n",
              "    <tr>\n",
              "      <th>2</th>\n",
              "      <td>2577125</td>\n",
              "      <td>Дорожно-транспортные происшествия</td>\n",
              "      <td>0</td>\n",
              "      <td>Жилые дома индивидуальной застройкиАдминистрат...</td>\n",
              "      <td>Барнаул</td>\n",
              "      <td>г Барнаул, А-322 Барнаул - Рубцовск - граница ...</td>\n",
              "      <td>21</td>\n",
              "      <td>10</td>\n",
              "      <td>2021-05-30 21:40:00</td>\n",
              "      <td>Тяжёлый</td>\n",
              "      <td>0</td>\n",
              "      <td>1</td>\n",
              "      <td>Алтайский край</td>\n",
              "      <td>1032</td>\n",
              "      <td>1</td>\n",
              "      <td>11</td>\n",
              "      <td>53.264995</td>\n",
              "      <td>83.725905</td>\n",
              "      <td>9496</td>\n",
              "      <td>12</td>\n",
              "      <td>2</td>\n",
              "      <td>2.661521e-07</td>\n",
              "      <td>0.001264</td>\n",
              "      <td>5</td>\n",
              "    </tr>\n",
              "    <tr>\n",
              "      <th>3</th>\n",
              "      <td>2576909</td>\n",
              "      <td>Дорожно-транспортные происшествия</td>\n",
              "      <td>4</td>\n",
              "      <td>Выезд с прилегающей территорииАдминистративные...</td>\n",
              "      <td>Барнаул</td>\n",
              "      <td>г Барнаул, ул Петра Сухова, 83 А</td>\n",
              "      <td>21</td>\n",
              "      <td>16</td>\n",
              "      <td>2021-05-29 19:40:00</td>\n",
              "      <td>Тяжёлый</td>\n",
              "      <td>0</td>\n",
              "      <td>1</td>\n",
              "      <td>Алтайский край</td>\n",
              "      <td>1161</td>\n",
              "      <td>3</td>\n",
              "      <td>11</td>\n",
              "      <td>53.376400</td>\n",
              "      <td>83.714200</td>\n",
              "      <td>9496</td>\n",
              "      <td>2</td>\n",
              "      <td>2</td>\n",
              "      <td>4.435868e-08</td>\n",
              "      <td>0.000211</td>\n",
              "      <td>5</td>\n",
              "    </tr>\n",
              "    <tr>\n",
              "      <th>4</th>\n",
              "      <td>2575209</td>\n",
              "      <td>Дорожно-транспортные происшествия</td>\n",
              "      <td>4</td>\n",
              "      <td>Многоквартирные жилые домаЖилые дома индивидуа...</td>\n",
              "      <td>Барнаул</td>\n",
              "      <td>г Барнаул, ул Партизанская, 26</td>\n",
              "      <td>21</td>\n",
              "      <td>16</td>\n",
              "      <td>2021-05-25 16:40:00</td>\n",
              "      <td>Легкий</td>\n",
              "      <td>0</td>\n",
              "      <td>1</td>\n",
              "      <td>Алтайский край</td>\n",
              "      <td>1213</td>\n",
              "      <td>2</td>\n",
              "      <td>4</td>\n",
              "      <td>53.343071</td>\n",
              "      <td>83.794366</td>\n",
              "      <td>9496</td>\n",
              "      <td>1</td>\n",
              "      <td>3</td>\n",
              "      <td>1.108967e-08</td>\n",
              "      <td>0.000105</td>\n",
              "      <td>5</td>\n",
              "    </tr>\n",
              "  </tbody>\n",
              "</table>\n",
              "</div>\n",
              "      <button class=\"colab-df-convert\" onclick=\"convertToInteractive('df-10826bb2-8ee3-40b5-9bb8-48206dbcc99f')\"\n",
              "              title=\"Convert this dataframe to an interactive table.\"\n",
              "              style=\"display:none;\">\n",
              "        \n",
              "  <svg xmlns=\"http://www.w3.org/2000/svg\" height=\"24px\"viewBox=\"0 0 24 24\"\n",
              "       width=\"24px\">\n",
              "    <path d=\"M0 0h24v24H0V0z\" fill=\"none\"/>\n",
              "    <path d=\"M18.56 5.44l.94 2.06.94-2.06 2.06-.94-2.06-.94-.94-2.06-.94 2.06-2.06.94zm-11 1L8.5 8.5l.94-2.06 2.06-.94-2.06-.94L8.5 2.5l-.94 2.06-2.06.94zm10 10l.94 2.06.94-2.06 2.06-.94-2.06-.94-.94-2.06-.94 2.06-2.06.94z\"/><path d=\"M17.41 7.96l-1.37-1.37c-.4-.4-.92-.59-1.43-.59-.52 0-1.04.2-1.43.59L10.3 9.45l-7.72 7.72c-.78.78-.78 2.05 0 2.83L4 21.41c.39.39.9.59 1.41.59.51 0 1.02-.2 1.41-.59l7.78-7.78 2.81-2.81c.8-.78.8-2.07 0-2.86zM5.41 20L4 18.59l7.72-7.72 1.47 1.35L5.41 20z\"/>\n",
              "  </svg>\n",
              "      </button>\n",
              "      \n",
              "  <style>\n",
              "    .colab-df-container {\n",
              "      display:flex;\n",
              "      flex-wrap:wrap;\n",
              "      gap: 12px;\n",
              "    }\n",
              "\n",
              "    .colab-df-convert {\n",
              "      background-color: #E8F0FE;\n",
              "      border: none;\n",
              "      border-radius: 50%;\n",
              "      cursor: pointer;\n",
              "      display: none;\n",
              "      fill: #1967D2;\n",
              "      height: 32px;\n",
              "      padding: 0 0 0 0;\n",
              "      width: 32px;\n",
              "    }\n",
              "\n",
              "    .colab-df-convert:hover {\n",
              "      background-color: #E2EBFA;\n",
              "      box-shadow: 0px 1px 2px rgba(60, 64, 67, 0.3), 0px 1px 3px 1px rgba(60, 64, 67, 0.15);\n",
              "      fill: #174EA6;\n",
              "    }\n",
              "\n",
              "    [theme=dark] .colab-df-convert {\n",
              "      background-color: #3B4455;\n",
              "      fill: #D2E3FC;\n",
              "    }\n",
              "\n",
              "    [theme=dark] .colab-df-convert:hover {\n",
              "      background-color: #434B5C;\n",
              "      box-shadow: 0px 1px 3px 1px rgba(0, 0, 0, 0.15);\n",
              "      filter: drop-shadow(0px 1px 2px rgba(0, 0, 0, 0.3));\n",
              "      fill: #FFFFFF;\n",
              "    }\n",
              "  </style>\n",
              "\n",
              "      <script>\n",
              "        const buttonEl =\n",
              "          document.querySelector('#df-10826bb2-8ee3-40b5-9bb8-48206dbcc99f button.colab-df-convert');\n",
              "        buttonEl.style.display =\n",
              "          google.colab.kernel.accessAllowed ? 'block' : 'none';\n",
              "\n",
              "        async function convertToInteractive(key) {\n",
              "          const element = document.querySelector('#df-10826bb2-8ee3-40b5-9bb8-48206dbcc99f');\n",
              "          const dataTable =\n",
              "            await google.colab.kernel.invokeFunction('convertToInteractive',\n",
              "                                                     [key], {});\n",
              "          if (!dataTable) return;\n",
              "\n",
              "          const docLinkHtml = 'Like what you see? Visit the ' +\n",
              "            '<a target=\"_blank\" href=https://colab.research.google.com/notebooks/data_table.ipynb>data table notebook</a>'\n",
              "            + ' to learn more about interactive tables.';\n",
              "          element.innerHTML = '';\n",
              "          dataTable['output_type'] = 'display_data';\n",
              "          await google.colab.output.renderOutput(dataTable, element);\n",
              "          const docLink = document.createElement('div');\n",
              "          docLink.innerHTML = docLinkHtml;\n",
              "          element.appendChild(docLink);\n",
              "        }\n",
              "      </script>\n",
              "    </div>\n",
              "  </div>\n",
              "  "
            ],
            "text/plain": [
              "        id                               tags  light  \\\n",
              "0  2311491  Дорожно-транспортные происшествия      2   \n",
              "1  2589161  Дорожно-транспортные происшествия      4   \n",
              "2  2577125  Дорожно-транспортные происшествия      0   \n",
              "3  2576909  Дорожно-транспортные происшествия      4   \n",
              "4  2575209  Дорожно-транспортные происшествия      4   \n",
              "\n",
              "                                              nearby   region  \\\n",
              "0  Многоквартирные жилые домаАдминистративные зда...  Барнаул   \n",
              "1  Остановка общественного транспортаНерегулируем...  Барнаул   \n",
              "2  Жилые дома индивидуальной застройкиАдминистрат...  Барнаул   \n",
              "3  Выезд с прилегающей территорииАдминистративные...  Барнаул   \n",
              "4  Многоквартирные жилые домаЖилые дома индивидуа...  Барнаул   \n",
              "\n",
              "                                             address  weather  category  \\\n",
              "0                 г Барнаул, тракт Павловский, 249 а       21        10   \n",
              "1                         г Барнаул, ул Малахова, 46       21        16   \n",
              "2  г Барнаул, А-322 Барнаул - Рубцовск - граница ...       21        10   \n",
              "3                   г Барнаул, ул Петра Сухова, 83 А       21        16   \n",
              "4                     г Барнаул, ул Партизанская, 26       21        16   \n",
              "\n",
              "             datetime severity  dead_count  injured_count   parent_region  \\\n",
              "0 2017-09-04 22:15:00   Легкий           0              1  Алтайский край   \n",
              "1 2021-06-29 16:45:00   Легкий           0              1  Алтайский край   \n",
              "2 2021-05-30 21:40:00  Тяжёлый           0              1  Алтайский край   \n",
              "3 2021-05-29 19:40:00  Тяжёлый           0              1  Алтайский край   \n",
              "4 2021-05-25 16:40:00   Легкий           0              1  Алтайский край   \n",
              "\n",
              "   road_conditions  participants_count  participant_categories        lat  \\\n",
              "0             1032                   2                       4  53.342000   \n",
              "1             1213                   3                       4  53.369700   \n",
              "2             1032                   1                      11  53.264995   \n",
              "3             1161                   3                      11  53.376400   \n",
              "4             1213                   2                       4  53.343071   \n",
              "\n",
              "        long  total_incidents_region  total_incidents_address  severity_num  \\\n",
              "0  83.690300                    9496                        1             3   \n",
              "1  83.709200                    9496                       24             3   \n",
              "2  83.725905                    9496                       12             2   \n",
              "3  83.714200                    9496                        2             2   \n",
              "4  83.794366                    9496                        1             3   \n",
              "\n",
              "   danger_level  frequency  month  \n",
              "0  1.108967e-08   0.000105      9  \n",
              "1  2.661521e-07   0.002527      6  \n",
              "2  2.661521e-07   0.001264      5  \n",
              "3  4.435868e-08   0.000211      5  \n",
              "4  1.108967e-08   0.000105      5  "
            ]
          },
          "execution_count": 42,
          "metadata": {},
          "output_type": "execute_result"
        }
      ],
      "source": [
        "cat_col = ['light','weather','category','road_conditions','participant_categories']\n",
        "encoder = LabelEncoder()\n",
        "\n",
        "total_data_ready[cat_col] = total_data_ready[cat_col].apply(encoder.fit_transform)\n",
        "total_data_ready.head()"
      ]
    },
    {
      "cell_type": "markdown",
      "metadata": {
        "id": "BneH7lAhVVq1"
      },
      "source": [
        "Данные приведены в числовой вид, а значит можно выделить наиболее важные признаки для составления классов опасности дорог. Предлагается выделить признаки total_incidents_address, danger_level и frequency ( id необходим для будущего объединения таблиц по схожему признаку):"
      ]
    },
    {
      "cell_type": "code",
      "execution_count": null,
      "metadata": {
        "colab": {
          "base_uri": "https://localhost:8080/"
        },
        "id": "hQTbO3t6VXzt",
        "outputId": "84ab646c-fadf-4be2-968b-bd042c5f4c92"
      },
      "outputs": [
        {
          "name": "stdout",
          "output_type": "stream",
          "text": [
            "(61075, 4)\n"
          ]
        }
      ],
      "source": [
        "data_for_models = total_data_ready[['id', 'total_incidents_address','danger_level', 'frequency']]\n",
        "print(data_for_models.shape)"
      ]
    },
    {
      "cell_type": "code",
      "execution_count": null,
      "metadata": {
        "colab": {
          "base_uri": "https://localhost:8080/",
          "height": 206
        },
        "id": "F_O2iIHsVkYt",
        "outputId": "2b95f3d5-e165-48f4-f56d-597b8c385c9b"
      },
      "outputs": [
        {
          "data": {
            "text/html": [
              "\n",
              "  <div id=\"df-42987c5c-28ec-41d1-b6c9-18755eec503d\">\n",
              "    <div class=\"colab-df-container\">\n",
              "      <div>\n",
              "<style scoped>\n",
              "    .dataframe tbody tr th:only-of-type {\n",
              "        vertical-align: middle;\n",
              "    }\n",
              "\n",
              "    .dataframe tbody tr th {\n",
              "        vertical-align: top;\n",
              "    }\n",
              "\n",
              "    .dataframe thead th {\n",
              "        text-align: right;\n",
              "    }\n",
              "</style>\n",
              "<table border=\"1\" class=\"dataframe\">\n",
              "  <thead>\n",
              "    <tr style=\"text-align: right;\">\n",
              "      <th></th>\n",
              "      <th>id</th>\n",
              "      <th>total_incidents_address</th>\n",
              "      <th>danger_level</th>\n",
              "      <th>frequency</th>\n",
              "    </tr>\n",
              "  </thead>\n",
              "  <tbody>\n",
              "    <tr>\n",
              "      <th>0</th>\n",
              "      <td>2311491</td>\n",
              "      <td>1</td>\n",
              "      <td>1.108967e-08</td>\n",
              "      <td>0.000105</td>\n",
              "    </tr>\n",
              "    <tr>\n",
              "      <th>1</th>\n",
              "      <td>2589161</td>\n",
              "      <td>24</td>\n",
              "      <td>2.661521e-07</td>\n",
              "      <td>0.002527</td>\n",
              "    </tr>\n",
              "    <tr>\n",
              "      <th>2</th>\n",
              "      <td>2577125</td>\n",
              "      <td>12</td>\n",
              "      <td>2.661521e-07</td>\n",
              "      <td>0.001264</td>\n",
              "    </tr>\n",
              "    <tr>\n",
              "      <th>3</th>\n",
              "      <td>2576909</td>\n",
              "      <td>2</td>\n",
              "      <td>4.435868e-08</td>\n",
              "      <td>0.000211</td>\n",
              "    </tr>\n",
              "    <tr>\n",
              "      <th>4</th>\n",
              "      <td>2575209</td>\n",
              "      <td>1</td>\n",
              "      <td>1.108967e-08</td>\n",
              "      <td>0.000105</td>\n",
              "    </tr>\n",
              "  </tbody>\n",
              "</table>\n",
              "</div>\n",
              "      <button class=\"colab-df-convert\" onclick=\"convertToInteractive('df-42987c5c-28ec-41d1-b6c9-18755eec503d')\"\n",
              "              title=\"Convert this dataframe to an interactive table.\"\n",
              "              style=\"display:none;\">\n",
              "        \n",
              "  <svg xmlns=\"http://www.w3.org/2000/svg\" height=\"24px\"viewBox=\"0 0 24 24\"\n",
              "       width=\"24px\">\n",
              "    <path d=\"M0 0h24v24H0V0z\" fill=\"none\"/>\n",
              "    <path d=\"M18.56 5.44l.94 2.06.94-2.06 2.06-.94-2.06-.94-.94-2.06-.94 2.06-2.06.94zm-11 1L8.5 8.5l.94-2.06 2.06-.94-2.06-.94L8.5 2.5l-.94 2.06-2.06.94zm10 10l.94 2.06.94-2.06 2.06-.94-2.06-.94-.94-2.06-.94 2.06-2.06.94z\"/><path d=\"M17.41 7.96l-1.37-1.37c-.4-.4-.92-.59-1.43-.59-.52 0-1.04.2-1.43.59L10.3 9.45l-7.72 7.72c-.78.78-.78 2.05 0 2.83L4 21.41c.39.39.9.59 1.41.59.51 0 1.02-.2 1.41-.59l7.78-7.78 2.81-2.81c.8-.78.8-2.07 0-2.86zM5.41 20L4 18.59l7.72-7.72 1.47 1.35L5.41 20z\"/>\n",
              "  </svg>\n",
              "      </button>\n",
              "      \n",
              "  <style>\n",
              "    .colab-df-container {\n",
              "      display:flex;\n",
              "      flex-wrap:wrap;\n",
              "      gap: 12px;\n",
              "    }\n",
              "\n",
              "    .colab-df-convert {\n",
              "      background-color: #E8F0FE;\n",
              "      border: none;\n",
              "      border-radius: 50%;\n",
              "      cursor: pointer;\n",
              "      display: none;\n",
              "      fill: #1967D2;\n",
              "      height: 32px;\n",
              "      padding: 0 0 0 0;\n",
              "      width: 32px;\n",
              "    }\n",
              "\n",
              "    .colab-df-convert:hover {\n",
              "      background-color: #E2EBFA;\n",
              "      box-shadow: 0px 1px 2px rgba(60, 64, 67, 0.3), 0px 1px 3px 1px rgba(60, 64, 67, 0.15);\n",
              "      fill: #174EA6;\n",
              "    }\n",
              "\n",
              "    [theme=dark] .colab-df-convert {\n",
              "      background-color: #3B4455;\n",
              "      fill: #D2E3FC;\n",
              "    }\n",
              "\n",
              "    [theme=dark] .colab-df-convert:hover {\n",
              "      background-color: #434B5C;\n",
              "      box-shadow: 0px 1px 3px 1px rgba(0, 0, 0, 0.15);\n",
              "      filter: drop-shadow(0px 1px 2px rgba(0, 0, 0, 0.3));\n",
              "      fill: #FFFFFF;\n",
              "    }\n",
              "  </style>\n",
              "\n",
              "      <script>\n",
              "        const buttonEl =\n",
              "          document.querySelector('#df-42987c5c-28ec-41d1-b6c9-18755eec503d button.colab-df-convert');\n",
              "        buttonEl.style.display =\n",
              "          google.colab.kernel.accessAllowed ? 'block' : 'none';\n",
              "\n",
              "        async function convertToInteractive(key) {\n",
              "          const element = document.querySelector('#df-42987c5c-28ec-41d1-b6c9-18755eec503d');\n",
              "          const dataTable =\n",
              "            await google.colab.kernel.invokeFunction('convertToInteractive',\n",
              "                                                     [key], {});\n",
              "          if (!dataTable) return;\n",
              "\n",
              "          const docLinkHtml = 'Like what you see? Visit the ' +\n",
              "            '<a target=\"_blank\" href=https://colab.research.google.com/notebooks/data_table.ipynb>data table notebook</a>'\n",
              "            + ' to learn more about interactive tables.';\n",
              "          element.innerHTML = '';\n",
              "          dataTable['output_type'] = 'display_data';\n",
              "          await google.colab.output.renderOutput(dataTable, element);\n",
              "          const docLink = document.createElement('div');\n",
              "          docLink.innerHTML = docLinkHtml;\n",
              "          element.appendChild(docLink);\n",
              "        }\n",
              "      </script>\n",
              "    </div>\n",
              "  </div>\n",
              "  "
            ],
            "text/plain": [
              "        id  total_incidents_address  danger_level  frequency\n",
              "0  2311491                        1  1.108967e-08   0.000105\n",
              "1  2589161                       24  2.661521e-07   0.002527\n",
              "2  2577125                       12  2.661521e-07   0.001264\n",
              "3  2576909                        2  4.435868e-08   0.000211\n",
              "4  2575209                        1  1.108967e-08   0.000105"
            ]
          },
          "execution_count": 44,
          "metadata": {},
          "output_type": "execute_result"
        }
      ],
      "source": [
        "data_for_models.head()"
      ]
    },
    {
      "cell_type": "markdown",
      "metadata": {
        "id": "NS-aS8-0VnJP"
      },
      "source": [
        "Данные готовы для кластеризации - были выделены наиболее важные для составления классов опасности дорог"
      ]
    },
    {
      "cell_type": "markdown",
      "metadata": {
        "id": "tGgdZs_nH6t3"
      },
      "source": [
        "# Кластеризация набора данных"
      ]
    },
    {
      "cell_type": "markdown",
      "metadata": {
        "id": "rX_c1aGjWCwf"
      },
      "source": [
        "Кластеризация бывает разной: когда мы знаем заранее сколько классов мы создадим и когда не знаем, но пытаемся понять. Поэтому первым действием мы составим график локтя. График локтя это специальный метод, который показывает сколько кластеров стоит использовать. Процесс состоит в том, что при определенном количестве кластеров мы считаем сумму квадратов расстояний от элемента до ближайшего центра кластера, то есть если у нас есть всего один кластер, то расстояние от выброса до центра будет огромным, что нелогично для разделения данных по классам - нужно уменьшать расстояние до центра, но при этом не создавать слишком много классов, чтобы не терять логику этих самых классов.\n",
        "\n",
        "Для составления локтя мы воспользуемся методом Kmeans с количеством кластеров от 1 до 10:"
      ]
    },
    {
      "cell_type": "code",
      "execution_count": null,
      "metadata": {
        "id": "ZIuH4GFZWEwD"
      },
      "outputs": [],
      "source": [
        "wcss = []\n",
        "for clusters in range(1, 11):\n",
        "\n",
        "    model = KMeans(n_clusters=clusters, max_iter=300, n_init=10, random_state=45)\n",
        "    model.fit(data_for_models.drop('id', axis=1))\n",
        "\n",
        "    wcss.append(model.inertia_)"
      ]
    },
    {
      "cell_type": "code",
      "execution_count": null,
      "metadata": {
        "colab": {
          "base_uri": "https://localhost:8080/",
          "height": 426
        },
        "id": "kE12MWK_WHIu",
        "outputId": "25cef3ea-43c0-45f0-b398-a5f286df7ce9"
      },
      "outputs": [
        {
          "data": {
            "image/png": "[encoded data removed]",
            "text/plain": [
              "<Figure size 1440x720 with 1 Axes>"
            ]
          },
          "metadata": {},
          "output_type": "display_data"
        }
      ],
      "source": [
        "plt.plot(range(1,11),wcss)\n",
        "plt.title('The Elbow Method Graph')\n",
        "plt.xlabel('Number of clusters')\n",
        "plt.ylabel('WCSS')\n",
        "plt.show()"
      ]
    },
    {
      "cell_type": "markdown",
      "metadata": {
        "id": "NjWKWZBUWJyH"
      },
      "source": [
        "По графику можно заметить, как сильно меняется график при обновлении количества классов. Чем острее угол, тем сильнее меняется график и, соответственно, такое количество классов нам приемлемо. Однако если угол становится сильно тупым, то мы вынуждены не рассматривать то количество классов, при котором угол стал тупым.\n",
        "\n",
        "На графике выше мы выделили 4 кластера, с ним и продолжим работу. Давайте инициализируем метод Kmeans с 4 кластерами и обучим его:"
      ]
    },
    {
      "cell_type": "code",
      "execution_count": null,
      "metadata": {
        "colab": {
          "base_uri": "https://localhost:8080/"
        },
        "id": "hm-1aApWWMNm",
        "outputId": "6e0735f3-6e25-4d34-9dfb-6a44af2e6d47"
      },
      "outputs": [
        {
          "name": "stderr",
          "output_type": "stream",
          "text": [
            "<ipython-input-47-6f20e2ba2a9c>:2: SettingWithCopyWarning: \n",
            "A value is trying to be set on a copy of a slice from a DataFrame.\n",
            "Try using .loc[row_indexer,col_indexer] = value instead\n",
            "\n",
            "See the caveats in the documentation: https://pandas.pydata.org/pandas-docs/stable/user_guide/indexing.html#returning-a-view-versus-a-copy\n",
            "  data_for_models['clusters'] = model.fit_predict(data_for_models.drop('id', axis=1))\n"
          ]
        }
      ],
      "source": [
        "model = KMeans(n_clusters=4, max_iter=300, n_init=10, random_state=45)\n",
        "data_for_models['clusters'] = model.fit_predict(data_for_models.drop('id', axis=1))"
      ]
    },
    {
      "cell_type": "markdown",
      "metadata": {
        "id": "msgfPuOTWOhC"
      },
      "source": [
        "Давайте посмотрим, какие классы имеют при себе наибольшее количество элементов:"
      ]
    },
    {
      "cell_type": "code",
      "execution_count": null,
      "metadata": {
        "colab": {
          "base_uri": "https://localhost:8080/"
        },
        "id": "m6Ydg7TYWQMP",
        "outputId": "b7f22081-54db-4e03-b564-7c99ebb372de"
      },
      "outputs": [
        {
          "data": {
            "text/plain": [
              "0    54052\n",
              "3     5901\n",
              "1      638\n",
              "2      484\n",
              "Name: clusters, dtype: int64"
            ]
          },
          "execution_count": 48,
          "metadata": {},
          "output_type": "execute_result"
        }
      ],
      "source": [
        "data_for_models.clusters.value_counts()"
      ]
    },
    {
      "cell_type": "markdown",
      "metadata": {
        "id": "Npw-pY_sWR4O"
      },
      "source": [
        "распределение данных выглядит хорошим: у нас тут есть и преобладающий класс, и сильно малый. Однако давайте проверим как ситуация обстоит в уровне опасности дорог по каждому кластеров:"
      ]
    },
    {
      "cell_type": "code",
      "execution_count": null,
      "metadata": {
        "colab": {
          "base_uri": "https://localhost:8080/"
        },
        "id": "bYAyPvYUWT6d",
        "outputId": "8fbdbc11-e690-4f4b-ab31-10abce325d7e"
      },
      "outputs": [
        {
          "name": "stdout",
          "output_type": "stream",
          "text": [
            "Максимальный уровень опасности дороги в кластере 0: 0.046875\n",
            "Максимальный уровень опасности дороги в кластере 1: 0.00015360978667585244\n",
            "Максимальный уровень опасности дороги в кластере 2: 0.001491970486111111\n",
            "Максимальный уровень опасности дороги в кластере 3: 0.06925207756232687\n"
          ]
        }
      ],
      "source": [
        "print(\"Максимальный уровень опасности дороги в кластере 0:\", data_for_models[data_for_models.clusters == 0]['danger_level'].max())\n",
        "print(\"Максимальный уровень опасности дороги в кластере 1:\", data_for_models[data_for_models.clusters == 1]['danger_level'].max())\n",
        "print(\"Максимальный уровень опасности дороги в кластере 2:\", data_for_models[data_for_models.clusters == 2]['danger_level'].max())\n",
        "print(\"Максимальный уровень опасности дороги в кластере 3:\", data_for_models[data_for_models.clusters == 3]['danger_level'].max())"
      ]
    },
    {
      "cell_type": "markdown",
      "metadata": {
        "id": "PnVk5z27WV29"
      },
      "source": [
        "Самый опасный кластер - 0, самый безопасный - 3. Давайте зададим цвета и отобразим на графике наши данные: количество инцидентов по адресу на уровень опасности дороги:"
      ]
    },
    {
      "cell_type": "code",
      "execution_count": null,
      "metadata": {
        "id": "nciVKPGPWZj8"
      },
      "outputs": [],
      "source": [
        "data_for_graphic = data_for_models.copy()"
      ]
    },
    {
      "cell_type": "code",
      "execution_count": null,
      "metadata": {
        "id": "uoowIL-lWbuS"
      },
      "outputs": [],
      "source": [
        "# centroids = model.cluster_centers_\n",
        "\n",
        "# cen_x = [i[0] for i in centroids]\n",
        "# cen_y = [i[1] for i in centroids]\n",
        "\n",
        "# data_for_graphic['center_x'] = data_for_graphic.clusters.map({0:cen_x[0], 1:cen_x[1], 2:cen_x[2], 3:cen_x[3]})#, 4:cen_x[4]})\n",
        "# data_for_graphic['center_y'] = data_for_graphic.clusters.map({0:cen_y[0], 1:cen_y[1], 2:cen_y[2], 3:cen_y[3]})#, 4:cen_y[4]})\n",
        "colors = [ 'red', 'darkgreen', 'lightgreen', 'yellow']#, '#93df20'], '#46df20']\n",
        "data_for_graphic['color'] = data_for_graphic.clusters.map({0:colors[0], 1:colors[1], 2:colors[2], 3:colors[3]})#, 4:colors[4]})\n",
        "\n",
        "# plt.scatter(data_for_models['cluster'==0, 0], data_for_models['cluster'==0, 1], s=100, c='red', label ='Cluster 1')\n",
        "# plt.scatter(data_for_models['cluster'==1, 0], data_for_models['cluster'==1, 1], s=100, c='blue', label ='Cluster 2')\n",
        "# plt.scatter(data_for_models['cluster'==2, 0], data_for_models['cluster'==2, 1], s=100, c='green', label ='Cluster 3')"
      ]
    },
    {
      "cell_type": "code",
      "execution_count": null,
      "metadata": {
        "colab": {
          "base_uri": "https://localhost:8080/",
          "height": 433
        },
        "id": "9-0VilTsWdkQ",
        "outputId": "8723cd36-151b-4941-d9f8-030a6d193226"
      },
      "outputs": [
        {
          "data": {
            "text/plain": [
              "Text(0, 0.5, 'Уровень опасности дороги')"
            ]
          },
          "execution_count": 52,
          "metadata": {},
          "output_type": "execute_result"
        },
        {
          "data": {
            "image/png": "[encoded data removed]",
            "text/plain": [
              "<Figure size 1440x720 with 1 Axes>"
            ]
          },
          "metadata": {},
          "output_type": "display_data"
        }
      ],
      "source": [
        "plt.scatter(data_for_graphic.total_incidents_address, data_for_graphic.danger_level, c=data_for_graphic.color, s=30)\n",
        "plt.ylim(-0.001, 0.08)\n",
        "plt.xlabel('Инциденты по адресу')\n",
        "plt.ylabel('Уровень опасности дороги')\n",
        "\n",
        "# centroids = pd.DataFrame(model.cluster_centers_, columns=data_for_models.columns)\n",
        "# # Добавление столбца с номером кластера\n",
        "# data_for_models['label'] = model.labels_.astype(str)\n",
        "# centroids['label'] = ['0 centroid', '1 centroid', '2 centroid']\n",
        "# # Сброс индекса понадобится дальше\n",
        "# data_all = pd.concat([data_for_models, centroids], ignore_index=True)\n",
        "\n",
        "# # Построение графика\n",
        "# sns.pairplot(data_all, hue='label', diag_kind='hist')"
      ]
    },
    {
      "cell_type": "markdown",
      "metadata": {
        "id": "NN2kkTw_WgER"
      },
      "source": [
        "Данные в ужасном виде: Kmeans разделил данные по количеству инцидентов на адрес, что в корне неверно - разделение данных должно было опираться на три признака, а не только на один. Давайте проверим следующий метод класстеризации - гаусовсская кластеризация. Здесь мы также воспользуемся данными, которые строили нам Kmeans и количество кластеров то же - 4:"
      ]
    },
    {
      "cell_type": "code",
      "execution_count": null,
      "metadata": {
        "colab": {
          "base_uri": "https://localhost:8080/",
          "height": 112
        },
        "id": "cW4rd8IdWh_v",
        "outputId": "5f1c5bcf-8300-4b97-d044-b319ea6e7627"
      },
      "outputs": [
        {
          "data": {
            "text/html": [
              "\n",
              "  <div id=\"df-5c5eebab-12ca-450e-a60a-7fd3827e0186\">\n",
              "    <div class=\"colab-df-container\">\n",
              "      <div>\n",
              "<style scoped>\n",
              "    .dataframe tbody tr th:only-of-type {\n",
              "        vertical-align: middle;\n",
              "    }\n",
              "\n",
              "    .dataframe tbody tr th {\n",
              "        vertical-align: top;\n",
              "    }\n",
              "\n",
              "    .dataframe thead th {\n",
              "        text-align: right;\n",
              "    }\n",
              "</style>\n",
              "<table border=\"1\" class=\"dataframe\">\n",
              "  <thead>\n",
              "    <tr style=\"text-align: right;\">\n",
              "      <th></th>\n",
              "      <th>id</th>\n",
              "      <th>total_incidents_address</th>\n",
              "      <th>danger_level</th>\n",
              "      <th>frequency</th>\n",
              "    </tr>\n",
              "  </thead>\n",
              "  <tbody>\n",
              "    <tr>\n",
              "      <th>0</th>\n",
              "      <td>2311491</td>\n",
              "      <td>1</td>\n",
              "      <td>1.108967e-08</td>\n",
              "      <td>0.000105</td>\n",
              "    </tr>\n",
              "    <tr>\n",
              "      <th>1</th>\n",
              "      <td>2589161</td>\n",
              "      <td>24</td>\n",
              "      <td>2.661521e-07</td>\n",
              "      <td>0.002527</td>\n",
              "    </tr>\n",
              "  </tbody>\n",
              "</table>\n",
              "</div>\n",
              "      <button class=\"colab-df-convert\" onclick=\"convertToInteractive('df-5c5eebab-12ca-450e-a60a-7fd3827e0186')\"\n",
              "              title=\"Convert this dataframe to an interactive table.\"\n",
              "              style=\"display:none;\">\n",
              "        \n",
              "  <svg xmlns=\"http://www.w3.org/2000/svg\" height=\"24px\"viewBox=\"0 0 24 24\"\n",
              "       width=\"24px\">\n",
              "    <path d=\"M0 0h24v24H0V0z\" fill=\"none\"/>\n",
              "    <path d=\"M18.56 5.44l.94 2.06.94-2.06 2.06-.94-2.06-.94-.94-2.06-.94 2.06-2.06.94zm-11 1L8.5 8.5l.94-2.06 2.06-.94-2.06-.94L8.5 2.5l-.94 2.06-2.06.94zm10 10l.94 2.06.94-2.06 2.06-.94-2.06-.94-.94-2.06-.94 2.06-2.06.94z\"/><path d=\"M17.41 7.96l-1.37-1.37c-.4-.4-.92-.59-1.43-.59-.52 0-1.04.2-1.43.59L10.3 9.45l-7.72 7.72c-.78.78-.78 2.05 0 2.83L4 21.41c.39.39.9.59 1.41.59.51 0 1.02-.2 1.41-.59l7.78-7.78 2.81-2.81c.8-.78.8-2.07 0-2.86zM5.41 20L4 18.59l7.72-7.72 1.47 1.35L5.41 20z\"/>\n",
              "  </svg>\n",
              "      </button>\n",
              "      \n",
              "  <style>\n",
              "    .colab-df-container {\n",
              "      display:flex;\n",
              "      flex-wrap:wrap;\n",
              "      gap: 12px;\n",
              "    }\n",
              "\n",
              "    .colab-df-convert {\n",
              "      background-color: #E8F0FE;\n",
              "      border: none;\n",
              "      border-radius: 50%;\n",
              "      cursor: pointer;\n",
              "      display: none;\n",
              "      fill: #1967D2;\n",
              "      height: 32px;\n",
              "      padding: 0 0 0 0;\n",
              "      width: 32px;\n",
              "    }\n",
              "\n",
              "    .colab-df-convert:hover {\n",
              "      background-color: #E2EBFA;\n",
              "      box-shadow: 0px 1px 2px rgba(60, 64, 67, 0.3), 0px 1px 3px 1px rgba(60, 64, 67, 0.15);\n",
              "      fill: #174EA6;\n",
              "    }\n",
              "\n",
              "    [theme=dark] .colab-df-convert {\n",
              "      background-color: #3B4455;\n",
              "      fill: #D2E3FC;\n",
              "    }\n",
              "\n",
              "    [theme=dark] .colab-df-convert:hover {\n",
              "      background-color: #434B5C;\n",
              "      box-shadow: 0px 1px 3px 1px rgba(0, 0, 0, 0.15);\n",
              "      filter: drop-shadow(0px 1px 2px rgba(0, 0, 0, 0.3));\n",
              "      fill: #FFFFFF;\n",
              "    }\n",
              "  </style>\n",
              "\n",
              "      <script>\n",
              "        const buttonEl =\n",
              "          document.querySelector('#df-5c5eebab-12ca-450e-a60a-7fd3827e0186 button.colab-df-convert');\n",
              "        buttonEl.style.display =\n",
              "          google.colab.kernel.accessAllowed ? 'block' : 'none';\n",
              "\n",
              "        async function convertToInteractive(key) {\n",
              "          const element = document.querySelector('#df-5c5eebab-12ca-450e-a60a-7fd3827e0186');\n",
              "          const dataTable =\n",
              "            await google.colab.kernel.invokeFunction('convertToInteractive',\n",
              "                                                     [key], {});\n",
              "          if (!dataTable) return;\n",
              "\n",
              "          const docLinkHtml = 'Like what you see? Visit the ' +\n",
              "            '<a target=\"_blank\" href=https://colab.research.google.com/notebooks/data_table.ipynb>data table notebook</a>'\n",
              "            + ' to learn more about interactive tables.';\n",
              "          element.innerHTML = '';\n",
              "          dataTable['output_type'] = 'display_data';\n",
              "          await google.colab.output.renderOutput(dataTable, element);\n",
              "          const docLink = document.createElement('div');\n",
              "          docLink.innerHTML = docLinkHtml;\n",
              "          element.appendChild(docLink);\n",
              "        }\n",
              "      </script>\n",
              "    </div>\n",
              "  </div>\n",
              "  "
            ],
            "text/plain": [
              "        id  total_incidents_address  danger_level  frequency\n",
              "0  2311491                        1  1.108967e-08   0.000105\n",
              "1  2589161                       24  2.661521e-07   0.002527"
            ]
          },
          "execution_count": 53,
          "metadata": {},
          "output_type": "execute_result"
        }
      ],
      "source": [
        "gaussian_data = data_for_models.drop('clusters', axis=1).copy()\n",
        "gaussian_data.head(2)"
      ]
    },
    {
      "cell_type": "code",
      "execution_count": null,
      "metadata": {
        "colab": {
          "base_uri": "https://localhost:8080/"
        },
        "id": "nIbOP631WjyP",
        "outputId": "05b04137-7146-41ce-d345-0f5cdba5bf78"
      },
      "outputs": [
        {
          "data": {
            "text/plain": [
              "0    33096\n",
              "3    24213\n",
              "1     3660\n",
              "2      106\n",
              "Name: clusters, dtype: int64"
            ]
          },
          "execution_count": 54,
          "metadata": {},
          "output_type": "execute_result"
        }
      ],
      "source": [
        "gm = GaussianMixture(n_components=4, random_state=0).fit(gaussian_data.drop('id', axis=1))\n",
        "gaussian_data['clusters'] = gm.predict(gaussian_data.drop('id', axis=1))\n",
        "gaussian_data['clusters'].value_counts()"
      ]
    },
    {
      "cell_type": "markdown",
      "metadata": {
        "id": "RGYRXojNWl50"
      },
      "source": [
        "Распределение значений по кластерам крайне интересное: у нас здесь два почти одинаковых по набору элементов кластеров и один крайне малый, что верно. Давайте проверим максимальные значения в каждом кластере:"
      ]
    },
    {
      "cell_type": "code",
      "execution_count": null,
      "metadata": {
        "colab": {
          "base_uri": "https://localhost:8080/"
        },
        "id": "txnYh-NVWoS0",
        "outputId": "fb848067-7d8e-4e10-9881-848a88cb272e"
      },
      "outputs": [
        {
          "name": "stdout",
          "output_type": "stream",
          "text": [
            "Максимальный уровень опасности дороги в кластере 0: 0.000248000496000992\n",
            "Максимальный уровень опасности дороги в кластере 1: 0.004162330905306971\n",
            "Максимальный уровень опасности дороги в кластере 2: 0.06925207756232687\n",
            "Максимальный уровень опасности дороги в кластере 3: 0.0034602076124567475\n"
          ]
        }
      ],
      "source": [
        "print(\"Максимальный уровень опасности дороги в кластере 0:\", gaussian_data[gaussian_data.clusters == 0]['danger_level'].max())\n",
        "print(\"Максимальный уровень опасности дороги в кластере 1:\", gaussian_data[gaussian_data.clusters == 1]['danger_level'].max())\n",
        "print(\"Максимальный уровень опасности дороги в кластере 2:\", gaussian_data[gaussian_data.clusters == 2]['danger_level'].max())\n",
        "print(\"Максимальный уровень опасности дороги в кластере 3:\", gaussian_data[gaussian_data.clusters == 3]['danger_level'].max())"
      ]
    },
    {
      "cell_type": "markdown",
      "metadata": {
        "id": "pgj5ZVdIWr8D"
      },
      "source": [
        "Самый опасный кластер - 0, самый безопасный - 2. Данные распределены в более разбросанном виде, что немного радует, давайте теперь отобразим все на графике:"
      ]
    },
    {
      "cell_type": "code",
      "execution_count": null,
      "metadata": {
        "id": "f4aJaZipYTXA"
      },
      "outputs": [],
      "source": [
        "gaussian_data_for_graphic = gaussian_data.copy()"
      ]
    },
    {
      "cell_type": "code",
      "execution_count": null,
      "metadata": {
        "id": "xXvDdrIuYVs-"
      },
      "outputs": [],
      "source": [
        "colors = [ 'red', 'yellow', 'lightgreen', 'darkgreen']#, 'lightgreen', 'yellow', 'red']\n",
        "gaussian_data_for_graphic['color'] = gaussian_data_for_graphic.clusters.map({0:colors[0], 1:colors[1], 2:colors[2], 3:colors[3]})#, 4:colors[4]})"
      ]
    },
    {
      "cell_type": "code",
      "execution_count": null,
      "metadata": {
        "colab": {
          "base_uri": "https://localhost:8080/",
          "height": 429
        },
        "id": "YFng05DfYXwk",
        "outputId": "a5f752cb-6e1a-4464-cf50-7d4366d41339"
      },
      "outputs": [
        {
          "data": {
            "text/plain": [
              "Text(0, 0.5, 'Уровень опасности дороги')"
            ]
          },
          "execution_count": 58,
          "metadata": {},
          "output_type": "execute_result"
        },
        {
          "data": {
            "image/png": "[encoded data removed]",
            "text/plain": [
              "<Figure size 1440x720 with 1 Axes>"
            ]
          },
          "metadata": {},
          "output_type": "display_data"
        }
      ],
      "source": [
        "plt.scatter(gaussian_data_for_graphic.total_incidents_address,\n",
        "            gaussian_data_for_graphic.danger_level,\n",
        "            c=gaussian_data_for_graphic.color, s=30)\n",
        "plt.ylim(-0.00025, 0.02)\n",
        "plt.xlabel('Инциденты по адресу')\n",
        "plt.ylabel('Уровень опасности дороги')"
      ]
    },
    {
      "cell_type": "markdown",
      "metadata": {
        "id": "DjjZUCdoYaPD"
      },
      "source": [
        "Распределение значений на графике отличное - все кластеры лежат аккуратно друг за другом, что говорит нам о том, что кластеризатор справился со своей целью. Те значения, которые смешиваются со значениями другого класса показывают нам о значениях в других признаках - кластеризатор составляет классы не на основе одного признака, а на основе всех.\n",
        "\n",
        "Следующим действием будет объединение данных с итоговой выборкой, но под другой переменной:"
      ]
    },
    {
      "cell_type": "code",
      "execution_count": null,
      "metadata": {
        "colab": {
          "base_uri": "https://localhost:8080/",
          "height": 496
        },
        "id": "QbOkb13tYc3Z",
        "outputId": "d00a32cc-c426-47ce-afe9-070b8e64ea18"
      },
      "outputs": [
        {
          "data": {
            "text/html": [
              "\n",
              "  <div id=\"df-ede0c269-fdf4-44ec-9ba0-716051f3ad1d\">\n",
              "    <div class=\"colab-df-container\">\n",
              "      <div>\n",
              "<style scoped>\n",
              "    .dataframe tbody tr th:only-of-type {\n",
              "        vertical-align: middle;\n",
              "    }\n",
              "\n",
              "    .dataframe tbody tr th {\n",
              "        vertical-align: top;\n",
              "    }\n",
              "\n",
              "    .dataframe thead th {\n",
              "        text-align: right;\n",
              "    }\n",
              "</style>\n",
              "<table border=\"1\" class=\"dataframe\">\n",
              "  <thead>\n",
              "    <tr style=\"text-align: right;\">\n",
              "      <th></th>\n",
              "      <th>id</th>\n",
              "      <th>tags</th>\n",
              "      <th>light</th>\n",
              "      <th>nearby</th>\n",
              "      <th>region</th>\n",
              "      <th>address</th>\n",
              "      <th>weather</th>\n",
              "      <th>category</th>\n",
              "      <th>datetime</th>\n",
              "      <th>severity</th>\n",
              "      <th>dead_count</th>\n",
              "      <th>injured_count</th>\n",
              "      <th>parent_region</th>\n",
              "      <th>road_conditions</th>\n",
              "      <th>participants_count</th>\n",
              "      <th>participant_categories</th>\n",
              "      <th>lat</th>\n",
              "      <th>long</th>\n",
              "      <th>total_incidents_region</th>\n",
              "      <th>total_incidents_address</th>\n",
              "      <th>severity_num</th>\n",
              "      <th>danger_level</th>\n",
              "      <th>frequency</th>\n",
              "      <th>month</th>\n",
              "      <th>clusters</th>\n",
              "      <th>color</th>\n",
              "    </tr>\n",
              "  </thead>\n",
              "  <tbody>\n",
              "    <tr>\n",
              "      <th>0</th>\n",
              "      <td>2311491</td>\n",
              "      <td>Дорожно-транспортные происшествия</td>\n",
              "      <td>2</td>\n",
              "      <td>Многоквартирные жилые домаАдминистративные зда...</td>\n",
              "      <td>Барнаул</td>\n",
              "      <td>г Барнаул, тракт Павловский, 249 а</td>\n",
              "      <td>21</td>\n",
              "      <td>10</td>\n",
              "      <td>2017-09-04 22:15:00</td>\n",
              "      <td>Легкий</td>\n",
              "      <td>0</td>\n",
              "      <td>1</td>\n",
              "      <td>Алтайский край</td>\n",
              "      <td>1032</td>\n",
              "      <td>2</td>\n",
              "      <td>4</td>\n",
              "      <td>53.342000</td>\n",
              "      <td>83.690300</td>\n",
              "      <td>9496</td>\n",
              "      <td>1</td>\n",
              "      <td>3</td>\n",
              "      <td>1.108967e-08</td>\n",
              "      <td>0.000105</td>\n",
              "      <td>9</td>\n",
              "      <td>0</td>\n",
              "      <td>red</td>\n",
              "    </tr>\n",
              "    <tr>\n",
              "      <th>1</th>\n",
              "      <td>2589161</td>\n",
              "      <td>Дорожно-транспортные происшествия</td>\n",
              "      <td>4</td>\n",
              "      <td>Остановка общественного транспортаНерегулируем...</td>\n",
              "      <td>Барнаул</td>\n",
              "      <td>г Барнаул, ул Малахова, 46</td>\n",
              "      <td>21</td>\n",
              "      <td>16</td>\n",
              "      <td>2021-06-29 16:45:00</td>\n",
              "      <td>Легкий</td>\n",
              "      <td>0</td>\n",
              "      <td>1</td>\n",
              "      <td>Алтайский край</td>\n",
              "      <td>1213</td>\n",
              "      <td>3</td>\n",
              "      <td>4</td>\n",
              "      <td>53.369700</td>\n",
              "      <td>83.709200</td>\n",
              "      <td>9496</td>\n",
              "      <td>24</td>\n",
              "      <td>3</td>\n",
              "      <td>2.661521e-07</td>\n",
              "      <td>0.002527</td>\n",
              "      <td>6</td>\n",
              "      <td>1</td>\n",
              "      <td>yellow</td>\n",
              "    </tr>\n",
              "    <tr>\n",
              "      <th>2</th>\n",
              "      <td>2577125</td>\n",
              "      <td>Дорожно-транспортные происшествия</td>\n",
              "      <td>0</td>\n",
              "      <td>Жилые дома индивидуальной застройкиАдминистрат...</td>\n",
              "      <td>Барнаул</td>\n",
              "      <td>г Барнаул, А-322 Барнаул - Рубцовск - граница ...</td>\n",
              "      <td>21</td>\n",
              "      <td>10</td>\n",
              "      <td>2021-05-30 21:40:00</td>\n",
              "      <td>Тяжёлый</td>\n",
              "      <td>0</td>\n",
              "      <td>1</td>\n",
              "      <td>Алтайский край</td>\n",
              "      <td>1032</td>\n",
              "      <td>1</td>\n",
              "      <td>11</td>\n",
              "      <td>53.264995</td>\n",
              "      <td>83.725905</td>\n",
              "      <td>9496</td>\n",
              "      <td>12</td>\n",
              "      <td>2</td>\n",
              "      <td>2.661521e-07</td>\n",
              "      <td>0.001264</td>\n",
              "      <td>5</td>\n",
              "      <td>3</td>\n",
              "      <td>darkgreen</td>\n",
              "    </tr>\n",
              "    <tr>\n",
              "      <th>3</th>\n",
              "      <td>2576909</td>\n",
              "      <td>Дорожно-транспортные происшествия</td>\n",
              "      <td>4</td>\n",
              "      <td>Выезд с прилегающей территорииАдминистративные...</td>\n",
              "      <td>Барнаул</td>\n",
              "      <td>г Барнаул, ул Петра Сухова, 83 А</td>\n",
              "      <td>21</td>\n",
              "      <td>16</td>\n",
              "      <td>2021-05-29 19:40:00</td>\n",
              "      <td>Тяжёлый</td>\n",
              "      <td>0</td>\n",
              "      <td>1</td>\n",
              "      <td>Алтайский край</td>\n",
              "      <td>1161</td>\n",
              "      <td>3</td>\n",
              "      <td>11</td>\n",
              "      <td>53.376400</td>\n",
              "      <td>83.714200</td>\n",
              "      <td>9496</td>\n",
              "      <td>2</td>\n",
              "      <td>2</td>\n",
              "      <td>4.435868e-08</td>\n",
              "      <td>0.000211</td>\n",
              "      <td>5</td>\n",
              "      <td>0</td>\n",
              "      <td>red</td>\n",
              "    </tr>\n",
              "    <tr>\n",
              "      <th>4</th>\n",
              "      <td>2575209</td>\n",
              "      <td>Дорожно-транспортные происшествия</td>\n",
              "      <td>4</td>\n",
              "      <td>Многоквартирные жилые домаЖилые дома индивидуа...</td>\n",
              "      <td>Барнаул</td>\n",
              "      <td>г Барнаул, ул Партизанская, 26</td>\n",
              "      <td>21</td>\n",
              "      <td>16</td>\n",
              "      <td>2021-05-25 16:40:00</td>\n",
              "      <td>Легкий</td>\n",
              "      <td>0</td>\n",
              "      <td>1</td>\n",
              "      <td>Алтайский край</td>\n",
              "      <td>1213</td>\n",
              "      <td>2</td>\n",
              "      <td>4</td>\n",
              "      <td>53.343071</td>\n",
              "      <td>83.794366</td>\n",
              "      <td>9496</td>\n",
              "      <td>1</td>\n",
              "      <td>3</td>\n",
              "      <td>1.108967e-08</td>\n",
              "      <td>0.000105</td>\n",
              "      <td>5</td>\n",
              "      <td>0</td>\n",
              "      <td>red</td>\n",
              "    </tr>\n",
              "  </tbody>\n",
              "</table>\n",
              "</div>\n",
              "      <button class=\"colab-df-convert\" onclick=\"convertToInteractive('df-ede0c269-fdf4-44ec-9ba0-716051f3ad1d')\"\n",
              "              title=\"Convert this dataframe to an interactive table.\"\n",
              "              style=\"display:none;\">\n",
              "        \n",
              "  <svg xmlns=\"http://www.w3.org/2000/svg\" height=\"24px\"viewBox=\"0 0 24 24\"\n",
              "       width=\"24px\">\n",
              "    <path d=\"M0 0h24v24H0V0z\" fill=\"none\"/>\n",
              "    <path d=\"M18.56 5.44l.94 2.06.94-2.06 2.06-.94-2.06-.94-.94-2.06-.94 2.06-2.06.94zm-11 1L8.5 8.5l.94-2.06 2.06-.94-2.06-.94L8.5 2.5l-.94 2.06-2.06.94zm10 10l.94 2.06.94-2.06 2.06-.94-2.06-.94-.94-2.06-.94 2.06-2.06.94z\"/><path d=\"M17.41 7.96l-1.37-1.37c-.4-.4-.92-.59-1.43-.59-.52 0-1.04.2-1.43.59L10.3 9.45l-7.72 7.72c-.78.78-.78 2.05 0 2.83L4 21.41c.39.39.9.59 1.41.59.51 0 1.02-.2 1.41-.59l7.78-7.78 2.81-2.81c.8-.78.8-2.07 0-2.86zM5.41 20L4 18.59l7.72-7.72 1.47 1.35L5.41 20z\"/>\n",
              "  </svg>\n",
              "      </button>\n",
              "      \n",
              "  <style>\n",
              "    .colab-df-container {\n",
              "      display:flex;\n",
              "      flex-wrap:wrap;\n",
              "      gap: 12px;\n",
              "    }\n",
              "\n",
              "    .colab-df-convert {\n",
              "      background-color: #E8F0FE;\n",
              "      border: none;\n",
              "      border-radius: 50%;\n",
              "      cursor: pointer;\n",
              "      display: none;\n",
              "      fill: #1967D2;\n",
              "      height: 32px;\n",
              "      padding: 0 0 0 0;\n",
              "      width: 32px;\n",
              "    }\n",
              "\n",
              "    .colab-df-convert:hover {\n",
              "      background-color: #E2EBFA;\n",
              "      box-shadow: 0px 1px 2px rgba(60, 64, 67, 0.3), 0px 1px 3px 1px rgba(60, 64, 67, 0.15);\n",
              "      fill: #174EA6;\n",
              "    }\n",
              "\n",
              "    [theme=dark] .colab-df-convert {\n",
              "      background-color: #3B4455;\n",
              "      fill: #D2E3FC;\n",
              "    }\n",
              "\n",
              "    [theme=dark] .colab-df-convert:hover {\n",
              "      background-color: #434B5C;\n",
              "      box-shadow: 0px 1px 3px 1px rgba(0, 0, 0, 0.15);\n",
              "      filter: drop-shadow(0px 1px 2px rgba(0, 0, 0, 0.3));\n",
              "      fill: #FFFFFF;\n",
              "    }\n",
              "  </style>\n",
              "\n",
              "      <script>\n",
              "        const buttonEl =\n",
              "          document.querySelector('#df-ede0c269-fdf4-44ec-9ba0-716051f3ad1d button.colab-df-convert');\n",
              "        buttonEl.style.display =\n",
              "          google.colab.kernel.accessAllowed ? 'block' : 'none';\n",
              "\n",
              "        async function convertToInteractive(key) {\n",
              "          const element = document.querySelector('#df-ede0c269-fdf4-44ec-9ba0-716051f3ad1d');\n",
              "          const dataTable =\n",
              "            await google.colab.kernel.invokeFunction('convertToInteractive',\n",
              "                                                     [key], {});\n",
              "          if (!dataTable) return;\n",
              "\n",
              "          const docLinkHtml = 'Like what you see? Visit the ' +\n",
              "            '<a target=\"_blank\" href=https://colab.research.google.com/notebooks/data_table.ipynb>data table notebook</a>'\n",
              "            + ' to learn more about interactive tables.';\n",
              "          element.innerHTML = '';\n",
              "          dataTable['output_type'] = 'display_data';\n",
              "          await google.colab.output.renderOutput(dataTable, element);\n",
              "          const docLink = document.createElement('div');\n",
              "          docLink.innerHTML = docLinkHtml;\n",
              "          element.appendChild(docLink);\n",
              "        }\n",
              "      </script>\n",
              "    </div>\n",
              "  </div>\n",
              "  "
            ],
            "text/plain": [
              "        id                               tags  light  \\\n",
              "0  2311491  Дорожно-транспортные происшествия      2   \n",
              "1  2589161  Дорожно-транспортные происшествия      4   \n",
              "2  2577125  Дорожно-транспортные происшествия      0   \n",
              "3  2576909  Дорожно-транспортные происшествия      4   \n",
              "4  2575209  Дорожно-транспортные происшествия      4   \n",
              "\n",
              "                                              nearby   region  \\\n",
              "0  Многоквартирные жилые домаАдминистративные зда...  Барнаул   \n",
              "1  Остановка общественного транспортаНерегулируем...  Барнаул   \n",
              "2  Жилые дома индивидуальной застройкиАдминистрат...  Барнаул   \n",
              "3  Выезд с прилегающей территорииАдминистративные...  Барнаул   \n",
              "4  Многоквартирные жилые домаЖилые дома индивидуа...  Барнаул   \n",
              "\n",
              "                                             address  weather  category  \\\n",
              "0                 г Барнаул, тракт Павловский, 249 а       21        10   \n",
              "1                         г Барнаул, ул Малахова, 46       21        16   \n",
              "2  г Барнаул, А-322 Барнаул - Рубцовск - граница ...       21        10   \n",
              "3                   г Барнаул, ул Петра Сухова, 83 А       21        16   \n",
              "4                     г Барнаул, ул Партизанская, 26       21        16   \n",
              "\n",
              "             datetime severity  dead_count  injured_count   parent_region  \\\n",
              "0 2017-09-04 22:15:00   Легкий           0              1  Алтайский край   \n",
              "1 2021-06-29 16:45:00   Легкий           0              1  Алтайский край   \n",
              "2 2021-05-30 21:40:00  Тяжёлый           0              1  Алтайский край   \n",
              "3 2021-05-29 19:40:00  Тяжёлый           0              1  Алтайский край   \n",
              "4 2021-05-25 16:40:00   Легкий           0              1  Алтайский край   \n",
              "\n",
              "   road_conditions  participants_count  participant_categories        lat  \\\n",
              "0             1032                   2                       4  53.342000   \n",
              "1             1213                   3                       4  53.369700   \n",
              "2             1032                   1                      11  53.264995   \n",
              "3             1161                   3                      11  53.376400   \n",
              "4             1213                   2                       4  53.343071   \n",
              "\n",
              "        long  total_incidents_region  total_incidents_address  severity_num  \\\n",
              "0  83.690300                    9496                        1             3   \n",
              "1  83.709200                    9496                       24             3   \n",
              "2  83.725905                    9496                       12             2   \n",
              "3  83.714200                    9496                        2             2   \n",
              "4  83.794366                    9496                        1             3   \n",
              "\n",
              "   danger_level  frequency  month  clusters      color  \n",
              "0  1.108967e-08   0.000105      9         0        red  \n",
              "1  2.661521e-07   0.002527      6         1     yellow  \n",
              "2  2.661521e-07   0.001264      5         3  darkgreen  \n",
              "3  4.435868e-08   0.000211      5         0        red  \n",
              "4  1.108967e-08   0.000105      5         0        red  "
            ]
          },
          "execution_count": 59,
          "metadata": {},
          "output_type": "execute_result"
        }
      ],
      "source": [
        "total_data_clusters = total_data_ready.copy()\n",
        "total_data_clusters = total_data_clusters.merge(gaussian_data_for_graphic, on=['id','total_incidents_address','danger_level','frequency'])\n",
        "total_data_clusters.head()"
      ]
    },
    {
      "cell_type": "code",
      "execution_count": null,
      "metadata": {
        "colab": {
          "base_uri": "https://localhost:8080/"
        },
        "id": "33y9yEX2Yf9x",
        "outputId": "58811fd0-ec9a-4ba6-aaab-9557ca08e535"
      },
      "outputs": [
        {
          "name": "stdout",
          "output_type": "stream",
          "text": [
            "<class 'pandas.core.frame.DataFrame'>\n",
            "Int64Index: 61075 entries, 0 to 61074\n",
            "Data columns (total 26 columns):\n",
            " #   Column                   Non-Null Count  Dtype         \n",
            "---  ------                   --------------  -----         \n",
            " 0   id                       61075 non-null  int64         \n",
            " 1   tags                     61075 non-null  object        \n",
            " 2   light                    61075 non-null  int64         \n",
            " 3   nearby                   61075 non-null  object        \n",
            " 4   region                   61075 non-null  object        \n",
            " 5   address                  61075 non-null  object        \n",
            " 6   weather                  61075 non-null  int64         \n",
            " 7   category                 61075 non-null  int64         \n",
            " 8   datetime                 61075 non-null  datetime64[ns]\n",
            " 9   severity                 61075 non-null  object        \n",
            " 10  dead_count               61075 non-null  int64         \n",
            " 11  injured_count            61075 non-null  int64         \n",
            " 12  parent_region            61075 non-null  object        \n",
            " 13  road_conditions          61075 non-null  int64         \n",
            " 14  participants_count       61075 non-null  int64         \n",
            " 15  participant_categories   61075 non-null  int64         \n",
            " 16  lat                      60731 non-null  float64       \n",
            " 17  long                     60731 non-null  float64       \n",
            " 18  total_incidents_region   61075 non-null  int64         \n",
            " 19  total_incidents_address  61075 non-null  int64         \n",
            " 20  severity_num             61075 non-null  int64         \n",
            " 21  danger_level             61075 non-null  float64       \n",
            " 22  frequency                61075 non-null  float64       \n",
            " 23  month                    61075 non-null  int64         \n",
            " 24  clusters                 61075 non-null  int64         \n",
            " 25  color                    61075 non-null  object        \n",
            "dtypes: datetime64[ns](1), float64(4), int64(14), object(7)\n",
            "memory usage: 12.6+ MB\n"
          ]
        }
      ],
      "source": [
        "total_data_clusters.info()"
      ]
    },
    {
      "cell_type": "code",
      "execution_count": null,
      "metadata": {
        "colab": {
          "base_uri": "https://localhost:8080/"
        },
        "id": "JMi4uUkCYjpA",
        "outputId": "9dcfb6d3-b480-4ef0-c629-fbf62a0013be"
      },
      "outputs": [
        {
          "data": {
            "text/plain": [
              "0    33096\n",
              "3    24213\n",
              "1     3660\n",
              "2      106\n",
              "Name: clusters, dtype: int64"
            ]
          },
          "execution_count": 61,
          "metadata": {},
          "output_type": "execute_result"
        }
      ],
      "source": [
        "total_data_clusters.clusters.value_counts()"
      ]
    },
    {
      "cell_type": "markdown",
      "metadata": {
        "id": "Pn3rcm_aYaHt"
      },
      "source": [
        "\n",
        "Два столбца были добавлены по своим местам - по связи столбца id, а это значит что у нас полностью готовая таблица для обучения моделей машинного обучения. Также количество значений в кластере осталось тем же, значит копирование данных прошло успешно."
      ]
    },
    {
      "cell_type": "code",
      "execution_count": null,
      "metadata": {
        "colab": {
          "base_uri": "https://localhost:8080/",
          "height": 17
        },
        "id": "RWkx9z0R9wOc",
        "outputId": "f5b2ec60-f03b-4bdb-8d01-23f9ac2f9356"
      },
      "outputs": [
        {
          "data": {
            "application/javascript": "\n    async function download(id, filename, size) {\n      if (!google.colab.kernel.accessAllowed) {\n        return;\n      }\n      const div = document.createElement('div');\n      const label = document.createElement('label');\n      label.textContent = `Downloading \"${filename}\": `;\n      div.appendChild(label);\n      const progress = document.createElement('progress');\n      progress.max = size;\n      div.appendChild(progress);\n      document.body.appendChild(div);\n\n      const buffers = [];\n      let downloaded = 0;\n\n      const channel = await google.colab.kernel.comms.open(id);\n      // Send a message to notify the kernel that we're ready.\n      channel.send({})\n\n      for await (const message of channel.messages) {\n        // Send a message to notify the kernel that we're ready.\n        channel.send({})\n        if (message.buffers) {\n          for (const buffer of message.buffers) {\n            buffers.push(buffer);\n            downloaded += buffer.byteLength;\n            progress.value = downloaded;\n          }\n        }\n      }\n      const blob = new Blob(buffers, {type: 'application/binary'});\n      const a = document.createElement('a');\n      a.href = window.URL.createObjectURL(blob);\n      a.download = filename;\n      div.appendChild(a);\n      a.click();\n      div.remove();\n    }\n  ",
            "text/plain": [
              "<IPython.core.display.Javascript object>"
            ]
          },
          "metadata": {},
          "output_type": "display_data"
        },
        {
          "data": {
            "application/javascript": "download(\"download_491ea422-6196-4c2d-833d-d11c7d8880f1\", \"total_5_regions.csv\", 31065231)",
            "text/plain": [
              "<IPython.core.display.Javascript object>"
            ]
          },
          "metadata": {},
          "output_type": "display_data"
        }
      ],
      "source": [
        "# Save our new dataset from 5 first regions\n",
        "from google.colab import files\n",
        "total_data_clusters.to_csv(\"total_5_regions.csv\", index=False)\n",
        "files.download(\"total_5_regions.csv\")"
      ]
    },
    {
      "cell_type": "code",
      "execution_count": null,
      "metadata": {
        "id": "CDskmRDDH_M8"
      },
      "outputs": [],
      "source": []
    },
    {
      "cell_type": "markdown",
      "metadata": {
        "id": "qCZtjI2wH_so"
      },
      "source": [
        "# Разбиение данных"
      ]
    },
    {
      "cell_type": "code",
      "execution_count": null,
      "metadata": {
        "id": "E4QP2DRmIG_M"
      },
      "outputs": [],
      "source": []
    },
    {
      "cell_type": "markdown",
      "metadata": {
        "id": "FT5K7XGGZLaM"
      },
      "source": [
        "# Подбор наиболее коррелируемых признаков"
      ]
    },
    {
      "cell_type": "markdown",
      "metadata": {
        "id": "3lQ2PxRtZN26"
      },
      "source": [
        "Для составления моделей машинного обучения и их последующего обучения, необходимо выбрать те признаки, которые наиболее точно позволят предсказать класс опасности дороги. Именно поэтому мы рассмотрим корреляционную матрицу признаков. Возьмем те признаки, которые имеет смысл использовать для прогноза класса (регион в котором произошло ДТП, к примеру, мы брать не будем - возможны блики в данных, из-за которых мы будем получать либо неверные результаты, либо переобучение моделей):"
      ]
    },
    {
      "cell_type": "code",
      "execution_count": null,
      "metadata": {
        "id": "UHXx1-6vZMwU"
      },
      "outputs": [],
      "source": [
        "features_target = total_data_clusters[['light','weather','category','dead_count','injured_count','road_conditions','participants_count']]"
      ]
    },
    {
      "cell_type": "markdown",
      "metadata": {
        "id": "MWGBgkViZbKM"
      },
      "source": [
        "Корреляционная матрица требует, чтобы мы сразу указали признаки, которые являются интервальными - имеют огромное количество значений. Наименования данных признаков мы запишем в отдельной переменной и используем при создании матрицы:"
      ]
    },
    {
      "cell_type": "code",
      "execution_count": null,
      "metadata": {
        "colab": {
          "base_uri": "https://localhost:8080/",
          "height": 504
        },
        "id": "CfLOGGF3ZeiX",
        "outputId": "0b5e6fa4-8cac-4d46-8f2a-731982a5640b"
      },
      "outputs": [
        {
          "name": "stderr",
          "output_type": "stream",
          "text": [
            "/usr/local/lib/python3.8/dist-packages/phik/data_quality.py:59: UserWarning: The number of unique values of variable road_conditions is large: 1287. Are you sure this is not an interval variable? Analysis for pairs of variables including road_conditions can be slow.\n",
            "  warnings.warn(\n"
          ]
        },
        {
          "data": {
            "image/png": "[encoded data removed]",
            "text/plain": [
              "<Figure size 1440x720 with 2 Axes>"
            ]
          },
          "metadata": {},
          "output_type": "display_data"
        }
      ],
      "source": [
        "interval_cols = ['dead_count','injured_count','participants_count','total_incidents_region', 'total_incidents_address', 'danger_level', 'frequency']\n",
        "phik_overview = features_target.phik_matrix(interval_cols=interval_cols)\n",
        "\n",
        "plot_correlation_matrix(phik_overview.values,\n",
        "                        x_labels=phik_overview.columns,\n",
        "                        y_labels=phik_overview.index,\n",
        "                        vmin=0, vmax=1, color_map=\"Greens\",\n",
        "                        title=\"Корреляция признаков\",\n",
        "                        fontsize_factor=1.5,\n",
        "                        figsize=(20, 10))\n",
        "plt.tight_layout()"
      ]
    },
    {
      "cell_type": "markdown",
      "metadata": {
        "id": "zC6BkIEwZkai"
      },
      "source": [
        "Как можно заметить по матрице - признаки total_incidents_addres, danger_level и frequency больше всего коррелируют к нашим классам - их и возьмем в обучение модели. Однако стоит отметить один важный момент - frequency это деление total_incidents_addres на total_incidents_region, то есть связь между ними очень сильная, что может повлечь за собой проблему бликов и подглядыванию модели в ответы, поэтому признаки, от которых зависит данный признак мы не можем брать в обучение (также из-за слишком большой корреляции к clusters).\n",
        "\n",
        "В итоге у нас два признака: frequency и danger_level, которые мы будем использовать при прогнозе класса опасности дорог."
      ]
    },
    {
      "cell_type": "markdown",
      "metadata": {
        "id": "5_xv1e2wZmOp"
      },
      "source": [
        "# Создание выборок"
      ]
    },
    {
      "cell_type": "markdown",
      "metadata": {
        "id": "WeIA2RTuZoug"
      },
      "source": [
        "Перед обучением создадим выборки, на который мы и будем обучать, и проверять качество моделей в целом.\n",
        "\n",
        "Первым делом мы разделим данные на обучающую и валидационную выборки с процентным соотношением 80/20:"
      ]
    },
    {
      "cell_type": "code",
      "execution_count": 1,
      "metadata": {
        "colab": {
          "base_uri": "https://localhost:8080/",
          "height": 397
        },
        "id": "2aAuYM7CZqtH",
        "outputId": "5a6ff5ef-20bc-46d8-d7bf-1f731849b72a"
      },
      "outputs": [
        {
          "ename": "NameError",
          "evalue": "name 'train_test_split' is not defined",
          "output_type": "error",
          "traceback": [
            "\u001b[1;31m---------------------------------------------------------------------------\u001b[0m",
            "\u001b[1;31mNameError\u001b[0m                                 Traceback (most recent call last)",
            "\u001b[1;32mc:\\Users\\tooer\\lwjgl\\accident_2.ipynb Ячейка 79\u001b[0m line \u001b[0;36m2\n\u001b[0;32m      <a href='vscode-notebook-cell:/c%3A/Users/tooer/lwjgl/accident_2.ipynb#Y141sZmlsZQ%3D%3D?line=0'>1</a>\u001b[0m most_corr_col \u001b[39m=\u001b[39m [\u001b[39m'\u001b[39m\u001b[39mdanger_level\u001b[39m\u001b[39m'\u001b[39m, \u001b[39m'\u001b[39m\u001b[39mfrequency\u001b[39m\u001b[39m'\u001b[39m]\u001b[39m#, 'total_incidents_address']#\u001b[39;00m\n\u001b[1;32m----> <a href='vscode-notebook-cell:/c%3A/Users/tooer/lwjgl/accident_2.ipynb#Y141sZmlsZQ%3D%3D?line=1'>2</a>\u001b[0m features_train, features_valid, target_train, target_valid \u001b[39m=\u001b[39m train_test_split(features_target[most_corr_col], features_target[\u001b[39m'\u001b[39m\u001b[39mclusters\u001b[39m\u001b[39m'\u001b[39m], test_size\u001b[39m=\u001b[39m\u001b[39m0.20\u001b[39m, random_state\u001b[39m=\u001b[39m\u001b[39m69\u001b[39m)\n\u001b[0;32m      <a href='vscode-notebook-cell:/c%3A/Users/tooer/lwjgl/accident_2.ipynb#Y141sZmlsZQ%3D%3D?line=2'>3</a>\u001b[0m \u001b[39mprint\u001b[39m(features_train\u001b[39m.\u001b[39mshape, features_valid\u001b[39m.\u001b[39mshape)\n",
            "\u001b[1;31mNameError\u001b[0m: name 'train_test_split' is not defined"
          ]
        }
      ],
      "source": [
        "most_corr_col = ['danger_level', 'frequency']#, 'total_incidents_address']#\n",
        "features_train, features_valid, target_train, target_valid = train_test_split(features_target[most_corr_col], features_target['clusters'], test_size=0.20, random_state=69)\n",
        "print(features_train.shape, features_valid.shape)"
      ]
    },
    {
      "cell_type": "markdown",
      "metadata": {
        "id": "HeMUbDFpZs-L"
      },
      "source": [
        "Также стоит отметить, что в наших данных была проблема размерности классов: классы 1 и 0 содержат крайне много значений, а вот 2 и, тем более, 3 совсем чуть-чуть. Давайте отобразим на графике их размеры:"
      ]
    },
    {
      "cell_type": "code",
      "execution_count": null,
      "metadata": {
        "colab": {
          "base_uri": "https://localhost:8080/",
          "height": 165
        },
        "id": "rhlw49mLZvGf",
        "outputId": "d77bd0e3-5985-462f-a611-56dbf897b02f"
      },
      "outputs": [
        {
          "ename": "NameError",
          "evalue": "ignored",
          "output_type": "error",
          "traceback": [
            "\u001b[0;31m---------------------------------------------------------------------------\u001b[0m",
            "\u001b[0;31mNameError\u001b[0m                                 Traceback (most recent call last)",
            "\u001b[0;32m<ipython-input-70-c78e319f103f>\u001b[0m in \u001b[0;36m<module>\u001b[0;34m\u001b[0m\n\u001b[0;32m----> 1\u001b[0;31m \u001b[0mtarget_train\u001b[0m\u001b[0;34m.\u001b[0m\u001b[0mplot\u001b[0m\u001b[0;34m(\u001b[0m\u001b[0mkind\u001b[0m\u001b[0;34m=\u001b[0m\u001b[0;34m'hist'\u001b[0m\u001b[0;34m,\u001b[0m \u001b[0mtitle\u001b[0m\u001b[0;34m=\u001b[0m\u001b[0;34m'Размерность классов'\u001b[0m\u001b[0;34m)\u001b[0m\u001b[0;34m\u001b[0m\u001b[0;34m\u001b[0m\u001b[0m\n\u001b[0m",
            "\u001b[0;31mNameError\u001b[0m: name 'target_train' is not defined"
          ]
        }
      ],
      "source": [
        "target_train.plot(kind='hist', title='Размерность классов')"
      ]
    },
    {
      "cell_type": "markdown",
      "metadata": {
        "id": "6Q2kiCGHZxd9"
      },
      "source": [
        "Что и требовалось доказать - класс 0 вообще не видно, оно и верно, во всем датасете их всего 110 штука. Для решения данной проблемы в моделях мы добавим аргумент баланса классов на balanced"
      ]
    },
    {
      "cell_type": "markdown",
      "metadata": {
        "id": "KbQUerKKIHWg"
      },
      "source": [
        "# Выводы"
      ]
    },
    {
      "cell_type": "markdown",
      "metadata": {
        "id": "E7Zmq0TrbG6W"
      },
      "source": [
        "В ходе всей работы мы провели много действий, которые привели нас к заключительной части - выводу. Хотелось бы вспомнить, что было сделано:\n",
        "\n",
        "загружены данные с официального сайта dtp-stat.ru\n",
        "данные были предобработаны: извлечены со словарей и списков, заменены типы данных и проверены на уникальность аварий\n",
        "введены новые признаки, которые дали нам лучшее представление о самих ДТП\n",
        "визуализированы зависимости данных друг к другу\n",
        "выполнена кластеризация данных, с применением двух моделей кластеризации: Kmeans и GaussianMixture, в результате чего мы получили четыре класса опасности дорог\n",
        "составлена интерактивная карта по тем данным, которые были в нашей выборке после парсинга\n",
        "найдены наиболее коррелируемые данные к нашим кластерам\n",
        "обучены три модели машинного обучения: LGBMClassifier, LogisticRegression и RandomForestClassifier, после которого были получены результаты и выявлена лучшая модель - LogisticRegression\n",
        "В заключении нужно сказать, что модель логистической регрессии выбрана только из-за того, что в ней не было бликов данных, которые присутствовали в случайном лесе и градиентном бустинге."
      ]
    }
  ],
  "metadata": {
    "colab": {
      "provenance": [],
      "toc_visible": true
    },
    "kernelspec": {
      "display_name": "Python 3",
      "name": "python3"
    },
    "language_info": {
      "codemirror_mode": {
        "name": "ipython",
        "version": 3
      },
      "file_extension": ".py",
      "mimetype": "text/x-python",
      "name": "python",
      "nbconvert_exporter": "python",
      "pygments_lexer": "ipython3",
      "version": "3.11.5"
    }
  },
  "nbformat": 4,
  "nbformat_minor": 0
}
