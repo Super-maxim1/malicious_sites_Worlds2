{
  "cells": [
    {
      "cell_type": "code",
      "execution_count": 1,
      "metadata": {
        "colab": {
          "base_uri": "https://localhost:8080/"
        },
        "id": "QuucbHZoTDjA",
        "outputId": "ba26c256-115e-43f5-9b55-65fa3392b681"
      },
      "outputs": [
        {
          "name": "stdout",
          "output_type": "stream",
          "text": [
            "Requirement already satisfied: lxml in c:\\users\\tooer\\lwjgl\\.venv\\lib\\site-packages (4.9.3)\n",
            "Requirement already satisfied: lightgbm in c:\\users\\tooer\\lwjgl\\.venv\\lib\\site-packages (4.1.0)\n",
            "Requirement already satisfied: numpy in c:\\users\\tooer\\lwjgl\\.venv\\lib\\site-packages (from lightgbm) (1.26.2)\n",
            "Requirement already satisfied: scipy in c:\\users\\tooer\\lwjgl\\.venv\\lib\\site-packages (from lightgbm) (1.11.3)\n",
            "Requirement already satisfied: phik in c:\\users\\tooer\\lwjgl\\.venv\\lib\\site-packages (0.12.3)\n",
            "Requirement already satisfied: numpy>=1.18.0 in c:\\users\\tooer\\lwjgl\\.venv\\lib\\site-packages (from phik) (1.26.2)\n",
            "Requirement already satisfied: scipy>=1.5.2 in c:\\users\\tooer\\lwjgl\\.venv\\lib\\site-packages (from phik) (1.11.3)\n",
            "Requirement already satisfied: pandas>=0.25.1 in c:\\users\\tooer\\lwjgl\\.venv\\lib\\site-packages (from phik) (2.1.3)\n",
            "Requirement already satisfied: matplotlib>=2.2.3 in c:\\users\\tooer\\lwjgl\\.venv\\lib\\site-packages (from phik) (3.8.1)\n",
            "Requirement already satisfied: joblib>=0.14.1 in c:\\users\\tooer\\lwjgl\\.venv\\lib\\site-packages (from phik) (1.3.2)\n",
            "Requirement already satisfied: contourpy>=1.0.1 in c:\\users\\tooer\\lwjgl\\.venv\\lib\\site-packages (from matplotlib>=2.2.3->phik) (1.2.0)\n",
            "Requirement already satisfied: cycler>=0.10 in c:\\users\\tooer\\lwjgl\\.venv\\lib\\site-packages (from matplotlib>=2.2.3->phik) (0.12.1)\n",
            "Requirement already satisfied: fonttools>=4.22.0 in c:\\users\\tooer\\lwjgl\\.venv\\lib\\site-packages (from matplotlib>=2.2.3->phik) (4.44.3)\n",
            "Requirement already satisfied: kiwisolver>=1.3.1 in c:\\users\\tooer\\lwjgl\\.venv\\lib\\site-packages (from matplotlib>=2.2.3->phik) (1.4.5)\n",
            "Requirement already satisfied: packaging>=20.0 in c:\\users\\tooer\\lwjgl\\.venv\\lib\\site-packages (from matplotlib>=2.2.3->phik) (23.2)\n",
            "Requirement already satisfied: pillow>=8 in c:\\users\\tooer\\lwjgl\\.venv\\lib\\site-packages (from matplotlib>=2.2.3->phik) (10.1.0)\n",
            "Requirement already satisfied: pyparsing>=2.3.1 in c:\\users\\tooer\\lwjgl\\.venv\\lib\\site-packages (from matplotlib>=2.2.3->phik) (3.1.1)\n",
            "Requirement already satisfied: python-dateutil>=2.7 in c:\\users\\tooer\\lwjgl\\.venv\\lib\\site-packages (from matplotlib>=2.2.3->phik) (2.8.2)\n",
            "Requirement already satisfied: pytz>=2020.1 in c:\\users\\tooer\\lwjgl\\.venv\\lib\\site-packages (from pandas>=0.25.1->phik) (2023.3.post1)\n",
            "Requirement already satisfied: tzdata>=2022.1 in c:\\users\\tooer\\lwjgl\\.venv\\lib\\site-packages (from pandas>=0.25.1->phik) (2023.3)\n",
            "Requirement already satisfied: six>=1.5 in c:\\users\\tooer\\lwjgl\\.venv\\lib\\site-packages (from python-dateutil>=2.7->matplotlib>=2.2.3->phik) (1.16.0)\n",
            "Requirement already satisfied: pandas in c:\\users\\tooer\\lwjgl\\.venv\\lib\\site-packages (2.1.3)\n",
            "Requirement already satisfied: numpy<2,>=1.23.2 in c:\\users\\tooer\\lwjgl\\.venv\\lib\\site-packages (from pandas) (1.26.2)\n",
            "Requirement already satisfied: python-dateutil>=2.8.2 in c:\\users\\tooer\\lwjgl\\.venv\\lib\\site-packages (from pandas) (2.8.2)\n",
            "Requirement already satisfied: pytz>=2020.1 in c:\\users\\tooer\\lwjgl\\.venv\\lib\\site-packages (from pandas) (2023.3.post1)\n",
            "Requirement already satisfied: tzdata>=2022.1 in c:\\users\\tooer\\lwjgl\\.venv\\lib\\site-packages (from pandas) (2023.3)\n",
            "Requirement already satisfied: six>=1.5 in c:\\users\\tooer\\lwjgl\\.venv\\lib\\site-packages (from python-dateutil>=2.8.2->pandas) (1.16.0)\n",
            "Requirement already satisfied: numpy in c:\\users\\tooer\\lwjgl\\.venv\\lib\\site-packages (1.26.2)\n",
            "Requirement already satisfied: seaborn in c:\\users\\tooer\\lwjgl\\.venv\\lib\\site-packages (0.13.0)\n",
            "Requirement already satisfied: numpy!=1.24.0,>=1.20 in c:\\users\\tooer\\lwjgl\\.venv\\lib\\site-packages (from seaborn) (1.26.2)\n",
            "Requirement already satisfied: pandas>=1.2 in c:\\users\\tooer\\lwjgl\\.venv\\lib\\site-packages (from seaborn) (2.1.3)\n",
            "Requirement already satisfied: matplotlib!=3.6.1,>=3.3 in c:\\users\\tooer\\lwjgl\\.venv\\lib\\site-packages (from seaborn) (3.8.1)\n",
            "Requirement already satisfied: contourpy>=1.0.1 in c:\\users\\tooer\\lwjgl\\.venv\\lib\\site-packages (from matplotlib!=3.6.1,>=3.3->seaborn) (1.2.0)\n",
            "Requirement already satisfied: cycler>=0.10 in c:\\users\\tooer\\lwjgl\\.venv\\lib\\site-packages (from matplotlib!=3.6.1,>=3.3->seaborn) (0.12.1)\n",
            "Requirement already satisfied: fonttools>=4.22.0 in c:\\users\\tooer\\lwjgl\\.venv\\lib\\site-packages (from matplotlib!=3.6.1,>=3.3->seaborn) (4.44.3)\n",
            "Requirement already satisfied: kiwisolver>=1.3.1 in c:\\users\\tooer\\lwjgl\\.venv\\lib\\site-packages (from matplotlib!=3.6.1,>=3.3->seaborn) (1.4.5)\n",
            "Requirement already satisfied: packaging>=20.0 in c:\\users\\tooer\\lwjgl\\.venv\\lib\\site-packages (from matplotlib!=3.6.1,>=3.3->seaborn) (23.2)\n",
            "Requirement already satisfied: pillow>=8 in c:\\users\\tooer\\lwjgl\\.venv\\lib\\site-packages (from matplotlib!=3.6.1,>=3.3->seaborn) (10.1.0)\n",
            "Requirement already satisfied: pyparsing>=2.3.1 in c:\\users\\tooer\\lwjgl\\.venv\\lib\\site-packages (from matplotlib!=3.6.1,>=3.3->seaborn) (3.1.1)\n",
            "Requirement already satisfied: python-dateutil>=2.7 in c:\\users\\tooer\\lwjgl\\.venv\\lib\\site-packages (from matplotlib!=3.6.1,>=3.3->seaborn) (2.8.2)\n",
            "Requirement already satisfied: pytz>=2020.1 in c:\\users\\tooer\\lwjgl\\.venv\\lib\\site-packages (from pandas>=1.2->seaborn) (2023.3.post1)\n",
            "Requirement already satisfied: tzdata>=2022.1 in c:\\users\\tooer\\lwjgl\\.venv\\lib\\site-packages (from pandas>=1.2->seaborn) (2023.3)\n",
            "Requirement already satisfied: six>=1.5 in c:\\users\\tooer\\lwjgl\\.venv\\lib\\site-packages (from python-dateutil>=2.7->matplotlib!=3.6.1,>=3.3->seaborn) (1.16.0)\n",
            "Requirement already satisfied: matplotlib in c:\\users\\tooer\\lwjgl\\.venv\\lib\\site-packages (3.8.1)\n",
            "Requirement already satisfied: contourpy>=1.0.1 in c:\\users\\tooer\\lwjgl\\.venv\\lib\\site-packages (from matplotlib) (1.2.0)\n",
            "Requirement already satisfied: cycler>=0.10 in c:\\users\\tooer\\lwjgl\\.venv\\lib\\site-packages (from matplotlib) (0.12.1)\n",
            "Requirement already satisfied: fonttools>=4.22.0 in c:\\users\\tooer\\lwjgl\\.venv\\lib\\site-packages (from matplotlib) (4.44.3)\n",
            "Requirement already satisfied: kiwisolver>=1.3.1 in c:\\users\\tooer\\lwjgl\\.venv\\lib\\site-packages (from matplotlib) (1.4.5)\n",
            "Requirement already satisfied: numpy<2,>=1.21 in c:\\users\\tooer\\lwjgl\\.venv\\lib\\site-packages (from matplotlib) (1.26.2)\n",
            "Requirement already satisfied: packaging>=20.0 in c:\\users\\tooer\\lwjgl\\.venv\\lib\\site-packages (from matplotlib) (23.2)\n",
            "Requirement already satisfied: pillow>=8 in c:\\users\\tooer\\lwjgl\\.venv\\lib\\site-packages (from matplotlib) (10.1.0)\n",
            "Requirement already satisfied: pyparsing>=2.3.1 in c:\\users\\tooer\\lwjgl\\.venv\\lib\\site-packages (from matplotlib) (3.1.1)\n",
            "Requirement already satisfied: python-dateutil>=2.7 in c:\\users\\tooer\\lwjgl\\.venv\\lib\\site-packages (from matplotlib) (2.8.2)\n",
            "Requirement already satisfied: six>=1.5 in c:\\users\\tooer\\lwjgl\\.venv\\lib\\site-packages (from python-dateutil>=2.7->matplotlib) (1.16.0)\n",
            "Collecting sklearn\n",
            "  Using cached sklearn-0.0.post11.tar.gz (3.6 kB)\n",
            "  Installing build dependencies: started\n",
            "  Installing build dependencies: finished with status 'done'\n",
            "  Getting requirements to build wheel: started\n",
            "  Getting requirements to build wheel: finished with status 'error'\n"
          ]
        },
        {
          "name": "stderr",
          "output_type": "stream",
          "text": [
            "  error: subprocess-exited-with-error\n",
            "  \n",
            "  × Getting requirements to build wheel did not run successfully.\n",
            "  │ exit code: 1\n",
            "  ╰─> [18 lines of output]\n",
            "      The 'sklearn' PyPI package is deprecated, use 'scikit-learn'\n",
            "      rather than 'sklearn' for pip commands.\n",
            "      \n",
            "      Here is how to fix this error in the main use cases:\n",
            "      - use 'pip install scikit-learn' rather than 'pip install sklearn'\n",
            "      - replace 'sklearn' by 'scikit-learn' in your pip requirements files\n",
            "        (requirements.txt, setup.py, setup.cfg, Pipfile, etc ...)\n",
            "      - if the 'sklearn' package is used by one of your dependencies,\n",
            "        it would be great if you take some time to track which package uses\n",
            "        'sklearn' instead of 'scikit-learn' and report it to their issue tracker\n",
            "      - as a last resort, set the environment variable\n",
            "        SKLEARN_ALLOW_DEPRECATED_SKLEARN_PACKAGE_INSTALL=True to avoid this error\n",
            "      \n",
            "      More information is available at\n",
            "      https://github.com/scikit-learn/sklearn-pypi-package\n",
            "      \n",
            "      If the previous advice does not cover your use case, feel free to report it at\n",
            "      https://github.com/scikit-learn/sklearn-pypi-package/issues/new\n",
            "      [end of output]\n",
            "  \n",
            "  note: This error originates from a subprocess, and is likely not a problem with pip.\n",
            "error: subprocess-exited-with-error\n",
            "\n",
            "× Getting requirements to build wheel did not run successfully.\n",
            "│ exit code: 1\n",
            "╰─> See above for output.\n",
            "\n",
            "note: This error originates from a subprocess, and is likely not a problem with pip.\n"
          ]
        },
        {
          "name": "stdout",
          "output_type": "stream",
          "text": [
            "Requirement already satisfied: phik in c:\\users\\tooer\\lwjgl\\.venv\\lib\\site-packages (0.12.3)\n",
            "Requirement already satisfied: numpy>=1.18.0 in c:\\users\\tooer\\lwjgl\\.venv\\lib\\site-packages (from phik) (1.26.2)\n",
            "Requirement already satisfied: scipy>=1.5.2 in c:\\users\\tooer\\lwjgl\\.venv\\lib\\site-packages (from phik) (1.11.3)\n",
            "Requirement already satisfied: pandas>=0.25.1 in c:\\users\\tooer\\lwjgl\\.venv\\lib\\site-packages (from phik) (2.1.3)\n",
            "Requirement already satisfied: matplotlib>=2.2.3 in c:\\users\\tooer\\lwjgl\\.venv\\lib\\site-packages (from phik) (3.8.1)\n",
            "Requirement already satisfied: joblib>=0.14.1 in c:\\users\\tooer\\lwjgl\\.venv\\lib\\site-packages (from phik) (1.3.2)\n",
            "Requirement already satisfied: contourpy>=1.0.1 in c:\\users\\tooer\\lwjgl\\.venv\\lib\\site-packages (from matplotlib>=2.2.3->phik) (1.2.0)\n",
            "Requirement already satisfied: cycler>=0.10 in c:\\users\\tooer\\lwjgl\\.venv\\lib\\site-packages (from matplotlib>=2.2.3->phik) (0.12.1)\n",
            "Requirement already satisfied: fonttools>=4.22.0 in c:\\users\\tooer\\lwjgl\\.venv\\lib\\site-packages (from matplotlib>=2.2.3->phik) (4.44.3)\n",
            "Requirement already satisfied: kiwisolver>=1.3.1 in c:\\users\\tooer\\lwjgl\\.venv\\lib\\site-packages (from matplotlib>=2.2.3->phik) (1.4.5)\n",
            "Requirement already satisfied: packaging>=20.0 in c:\\users\\tooer\\lwjgl\\.venv\\lib\\site-packages (from matplotlib>=2.2.3->phik) (23.2)\n",
            "Requirement already satisfied: pillow>=8 in c:\\users\\tooer\\lwjgl\\.venv\\lib\\site-packages (from matplotlib>=2.2.3->phik) (10.1.0)\n",
            "Requirement already satisfied: pyparsing>=2.3.1 in c:\\users\\tooer\\lwjgl\\.venv\\lib\\site-packages (from matplotlib>=2.2.3->phik) (3.1.1)\n",
            "Requirement already satisfied: python-dateutil>=2.7 in c:\\users\\tooer\\lwjgl\\.venv\\lib\\site-packages (from matplotlib>=2.2.3->phik) (2.8.2)\n",
            "Requirement already satisfied: pytz>=2020.1 in c:\\users\\tooer\\lwjgl\\.venv\\lib\\site-packages (from pandas>=0.25.1->phik) (2023.3.post1)\n",
            "Requirement already satisfied: tzdata>=2022.1 in c:\\users\\tooer\\lwjgl\\.venv\\lib\\site-packages (from pandas>=0.25.1->phik) (2023.3)\n",
            "Requirement already satisfied: six>=1.5 in c:\\users\\tooer\\lwjgl\\.venv\\lib\\site-packages (from python-dateutil>=2.7->matplotlib>=2.2.3->phik) (1.16.0)\n"
          ]
        },
        {
          "name": "stderr",
          "output_type": "stream",
          "text": [
            "ERROR: Could not find a version that satisfies the requirement random (from versions: none)\n",
            "ERROR: No matching distribution found for random\n"
          ]
        },
        {
          "name": "stdout",
          "output_type": "stream",
          "text": [
            "Requirement already satisfied: scikit-learn in c:\\users\\tooer\\lwjgl\\.venv\\lib\\site-packages (1.3.2)\n",
            "Requirement already satisfied: numpy<2.0,>=1.17.3 in c:\\users\\tooer\\lwjgl\\.venv\\lib\\site-packages (from scikit-learn) (1.26.2)\n",
            "Requirement already satisfied: scipy>=1.5.0 in c:\\users\\tooer\\lwjgl\\.venv\\lib\\site-packages (from scikit-learn) (1.11.3)\n",
            "Requirement already satisfied: joblib>=1.1.1 in c:\\users\\tooer\\lwjgl\\.venv\\lib\\site-packages (from scikit-learn) (1.3.2)\n",
            "Requirement already satisfied: threadpoolctl>=2.0.0 in c:\\users\\tooer\\lwjgl\\.venv\\lib\\site-packages (from scikit-learn) (3.2.0)\n"
          ]
        }
      ],
      "source": [
        "!pip install lxml\n",
        "!pip install lightgbm\n",
        "!pip install phik\n",
        "!pip install pandas\n",
        "!pip install numpy\n",
        "!pip install seaborn\n",
        "!pip install matplotlib\n",
        "!pip install sklearn\n",
        "!pip install phik\n",
        "!pip install random\n",
        "!pip install -U scikit-learn"
      ]
    },
    {
      "cell_type": "code",
      "execution_count": 2,
      "metadata": {
        "id": "OePisjVJU0cu"
      },
      "outputs": [],
      "source": [
        "import requests\n",
        "import lxml\n",
        "from bs4 import BeautifulSoup\n",
        "import pandas as pd\n",
        "import numpy as mp\n",
        "import json\n",
        "from tqdm.notebook import tqdm\n",
        "import folium\n",
        "import seaborn as sns\n",
        "import matplotlib.pyplot as plt\n",
        "import missingno as msno\n",
        "import numpy as np\n",
        "from sklearn.cluster import KMeans, DBSCAN\n",
        "from sklearn.mixture import GaussianMixture\n",
        "from sklearn.preprocessing import LabelEncoder, StandardScaler\n",
        "\n",
        "from phik.report import plot_correlation_matrix\n",
        "# from sklearn.pipeline import Pipeline\n",
        "\n",
        "from lightgbm import LGBMClassifier\n",
        "from sklearn.linear_model import LogisticRegression\n",
        "from sklearn.ensemble import RandomForestClassifier\n",
        "from random import randint\n",
        "from sklearn.model_selection import train_test_split, KFold, cross_val_score, RandomizedSearchCV, GridSearchCV\n",
        "from sklearn.metrics import roc_auc_score, accuracy_score"
      ]
    },
    {
      "cell_type": "code",
      "execution_count": 3,
      "metadata": {
        "id": "rFE0cEnpVBr8"
      },
      "outputs": [],
      "source": [
        "data = pd.read_csv(\"total_data_lat.csv\")"
      ]
    },
    {
      "cell_type": "markdown",
      "metadata": {
        "id": "zO5D-K4GwZ4S"
      },
      "source": [
        "# Формирование дополнительных атрибутов"
      ]
    },
    {
      "cell_type": "code",
      "execution_count": 4,
      "metadata": {
        "colab": {
          "base_uri": "https://localhost:8080/",
          "height": 504
        },
        "id": "DmVWyi1dVY5C",
        "outputId": "1a16a3a0-3a12-4156-89e7-89c947944fc0"
      },
      "outputs": [
        {
          "data": {
            "text/html": [
              "<div>\n",
              "<style scoped>\n",
              "    .dataframe tbody tr th:only-of-type {\n",
              "        vertical-align: middle;\n",
              "    }\n",
              "\n",
              "    .dataframe tbody tr th {\n",
              "        vertical-align: top;\n",
              "    }\n",
              "\n",
              "    .dataframe thead th {\n",
              "        text-align: right;\n",
              "    }\n",
              "</style>\n",
              "<table border=\"1\" class=\"dataframe\">\n",
              "  <thead>\n",
              "    <tr style=\"text-align: right;\">\n",
              "      <th></th>\n",
              "      <th>id</th>\n",
              "      <th>tags</th>\n",
              "      <th>light</th>\n",
              "      <th>nearby</th>\n",
              "      <th>region</th>\n",
              "      <th>address</th>\n",
              "      <th>weather</th>\n",
              "      <th>category</th>\n",
              "      <th>datetime</th>\n",
              "      <th>severity</th>\n",
              "      <th>dead_count</th>\n",
              "      <th>injured_count</th>\n",
              "      <th>parent_region</th>\n",
              "      <th>road_conditions</th>\n",
              "      <th>participants_count</th>\n",
              "      <th>participant_categories</th>\n",
              "      <th>lat</th>\n",
              "      <th>long</th>\n",
              "    </tr>\n",
              "  </thead>\n",
              "  <tbody>\n",
              "    <tr>\n",
              "      <th>0</th>\n",
              "      <td>2869171</td>\n",
              "      <td>Дорожно-транспортные происшествия</td>\n",
              "      <td>Светлое время суток</td>\n",
              "      <td>Жилые дома индивидуальной застройки</td>\n",
              "      <td>Барнаул</td>\n",
              "      <td>NO_INFORMATII</td>\n",
              "      <td>Ясно</td>\n",
              "      <td>Наезд на пешехода</td>\n",
              "      <td>2023-05-24 19:30:00</td>\n",
              "      <td>Легкий</td>\n",
              "      <td>0</td>\n",
              "      <td>1</td>\n",
              "      <td>Алтайский край</td>\n",
              "      <td>Сухое</td>\n",
              "      <td>2</td>\n",
              "      <td>Все участники, Пешеходы, Мотоциклисты</td>\n",
              "      <td>53.391200</td>\n",
              "      <td>83.787900</td>\n",
              "    </tr>\n",
              "    <tr>\n",
              "      <th>1</th>\n",
              "      <td>2320091</td>\n",
              "      <td>Дорожно-транспортные происшествия, ДТП и постр...</td>\n",
              "      <td>Светлое время суток</td>\n",
              "      <td>Многоквартирные жилые дома, Внутридворовая тер...</td>\n",
              "      <td>Барнаул</td>\n",
              "      <td>г Барнаул, ул Сиреневая, 11</td>\n",
              "      <td>Пасмурно</td>\n",
              "      <td>Иной вид ДТП</td>\n",
              "      <td>2015-09-16 13:00:00</td>\n",
              "      <td>Легкий</td>\n",
              "      <td>0</td>\n",
              "      <td>1</td>\n",
              "      <td>Алтайский край</td>\n",
              "      <td>Сухое</td>\n",
              "      <td>2</td>\n",
              "      <td>Все участники, Дети</td>\n",
              "      <td>53.345833</td>\n",
              "      <td>83.666389</td>\n",
              "    </tr>\n",
              "    <tr>\n",
              "      <th>2</th>\n",
              "      <td>2321011</td>\n",
              "      <td>Дорожно-транспортные происшествия, ДТП и постр...</td>\n",
              "      <td>Светлое время суток</td>\n",
              "      <td>Административные здания, Остановка общественно...</td>\n",
              "      <td>Барнаул</td>\n",
              "      <td>г Барнаул, ул Попова, 165</td>\n",
              "      <td>Ясно</td>\n",
              "      <td>Падение пассажира</td>\n",
              "      <td>2017-08-25 15:30:00</td>\n",
              "      <td>Легкий</td>\n",
              "      <td>0</td>\n",
              "      <td>1</td>\n",
              "      <td>Алтайский край</td>\n",
              "      <td>Сухое</td>\n",
              "      <td>3</td>\n",
              "      <td>Все участники, Дети</td>\n",
              "      <td>53.197060</td>\n",
              "      <td>83.396880</td>\n",
              "    </tr>\n",
              "    <tr>\n",
              "      <th>3</th>\n",
              "      <td>2576909</td>\n",
              "      <td>Дорожно-транспортные происшествия</td>\n",
              "      <td>Светлое время суток</td>\n",
              "      <td>Выезд с прилегающей территории, Административн...</td>\n",
              "      <td>Барнаул</td>\n",
              "      <td>г Барнаул, ул Петра Сухова, 83 А</td>\n",
              "      <td>Ясно</td>\n",
              "      <td>Столкновение</td>\n",
              "      <td>2021-05-29 19:40:00</td>\n",
              "      <td>Тяжёлый</td>\n",
              "      <td>0</td>\n",
              "      <td>1</td>\n",
              "      <td>Алтайский край</td>\n",
              "      <td>Сухое, Отсутствие, плохая различимость горизон...</td>\n",
              "      <td>3</td>\n",
              "      <td>Все участники, Мотоциклисты</td>\n",
              "      <td>53.376400</td>\n",
              "      <td>83.714200</td>\n",
              "    </tr>\n",
              "    <tr>\n",
              "      <th>4</th>\n",
              "      <td>2575209</td>\n",
              "      <td>Дорожно-транспортные происшествия</td>\n",
              "      <td>Светлое время суток</td>\n",
              "      <td>Многоквартирные жилые дома, Жилые дома индивид...</td>\n",
              "      <td>Барнаул</td>\n",
              "      <td>г Барнаул, ул Партизанская, 26</td>\n",
              "      <td>Ясно</td>\n",
              "      <td>Столкновение</td>\n",
              "      <td>2021-05-25 16:40:00</td>\n",
              "      <td>Легкий</td>\n",
              "      <td>0</td>\n",
              "      <td>1</td>\n",
              "      <td>Алтайский край</td>\n",
              "      <td>Сухое, Отсутствие, плохая различимость горизон...</td>\n",
              "      <td>2</td>\n",
              "      <td>Все участники</td>\n",
              "      <td>53.343071</td>\n",
              "      <td>83.794366</td>\n",
              "    </tr>\n",
              "  </tbody>\n",
              "</table>\n",
              "</div>"
            ],
            "text/plain": [
              "        id                                               tags  \\\n",
              "0  2869171                  Дорожно-транспортные происшествия   \n",
              "1  2320091  Дорожно-транспортные происшествия, ДТП и постр...   \n",
              "2  2321011  Дорожно-транспортные происшествия, ДТП и постр...   \n",
              "3  2576909                  Дорожно-транспортные происшествия   \n",
              "4  2575209                  Дорожно-транспортные происшествия   \n",
              "\n",
              "                 light                                             nearby  \\\n",
              "0  Светлое время суток                Жилые дома индивидуальной застройки   \n",
              "1  Светлое время суток  Многоквартирные жилые дома, Внутридворовая тер...   \n",
              "2  Светлое время суток  Административные здания, Остановка общественно...   \n",
              "3  Светлое время суток  Выезд с прилегающей территории, Административн...   \n",
              "4  Светлое время суток  Многоквартирные жилые дома, Жилые дома индивид...   \n",
              "\n",
              "    region                           address   weather           category  \\\n",
              "0  Барнаул                     NO_INFORMATII      Ясно  Наезд на пешехода   \n",
              "1  Барнаул       г Барнаул, ул Сиреневая, 11  Пасмурно       Иной вид ДТП   \n",
              "2  Барнаул         г Барнаул, ул Попова, 165      Ясно  Падение пассажира   \n",
              "3  Барнаул  г Барнаул, ул Петра Сухова, 83 А      Ясно       Столкновение   \n",
              "4  Барнаул    г Барнаул, ул Партизанская, 26      Ясно       Столкновение   \n",
              "\n",
              "              datetime severity  dead_count  injured_count   parent_region  \\\n",
              "0  2023-05-24 19:30:00   Легкий           0              1  Алтайский край   \n",
              "1  2015-09-16 13:00:00   Легкий           0              1  Алтайский край   \n",
              "2  2017-08-25 15:30:00   Легкий           0              1  Алтайский край   \n",
              "3  2021-05-29 19:40:00  Тяжёлый           0              1  Алтайский край   \n",
              "4  2021-05-25 16:40:00   Легкий           0              1  Алтайский край   \n",
              "\n",
              "                                     road_conditions  participants_count  \\\n",
              "0                                              Сухое                   2   \n",
              "1                                              Сухое                   2   \n",
              "2                                              Сухое                   3   \n",
              "3  Сухое, Отсутствие, плохая различимость горизон...                   3   \n",
              "4  Сухое, Отсутствие, плохая различимость горизон...                   2   \n",
              "\n",
              "                  participant_categories        lat       long  \n",
              "0  Все участники, Пешеходы, Мотоциклисты  53.391200  83.787900  \n",
              "1                    Все участники, Дети  53.345833  83.666389  \n",
              "2                    Все участники, Дети  53.197060  83.396880  \n",
              "3            Все участники, Мотоциклисты  53.376400  83.714200  \n",
              "4                          Все участники  53.343071  83.794366  "
            ]
          },
          "execution_count": 4,
          "metadata": {},
          "output_type": "execute_result"
        }
      ],
      "source": [
        "data.head()"
      ]
    },
    {
      "cell_type": "code",
      "execution_count": 7,
      "metadata": {},
      "outputs": [
        {
          "data": {
            "text/plain": [
              "array(['Барнаул', 'Немецкий национальный район', 'Шипуновский район',\n",
              "       'Чарышский район', 'Целинный район', 'Хабарский район',\n",
              "       'Усть-Пристанский район', 'Усть-Калманский район',\n",
              "       'Угловский район', 'Тюменцевский район', 'Троицкий район',\n",
              "       'Третьсяковский район', 'Топчихинский район', 'Тогульский район',\n",
              "       'Тальменский район', 'Табунский район', 'Шелаболихинский район',\n",
              "       'Солтонский район', 'Солонешенский район', 'Советский район',\n",
              "       'Суетский район', 'Славгородский район', 'Романовский район',\n",
              "       'Родинский район', 'Ребрихинский район', 'Поспелихинский район',\n",
              "       'Петропавловский район', 'Панкрушихинский район',\n",
              "       'Павловский район', 'Зональный район', 'Новичихинский район',\n",
              "       'Михайловский район', 'Мамонтовский район', 'Локтевский район',\n",
              "       'Кытмановский район', 'Курьинский район', 'Кулундинский район',\n",
              "       'Крутихинский район', 'Краснощековский район',\n",
              "       'Красногорский район', 'Косихинский район', 'Ключевский район',\n",
              "       'Каменский район', 'Калманский район', 'Змеиногорский район',\n",
              "       'Залесовский район', 'Завьяловский район', 'Ельцовский район',\n",
              "       'Егорьевский район', 'Волчихинский район', 'Быстроистокский район',\n",
              "       'Бурлинский район', 'Благовещенский район', 'Баевский район',\n",
              "       'Алтайский район', 'Алейский район', 'Смоленский район',\n",
              "       'Рубцовский район', 'Первомайский район', 'Заринский район',\n",
              "       'Бийский район', 'Рубцовск', 'Заринск', 'Бийск', 'Белокуриха',\n",
              "       'Сибирский', 'Новоалтайск', 'Яровое', 'Бурейский район',\n",
              "       'Свободненский район', 'Серышевский район', 'Белогорский район',\n",
              "       'Шимановский район', 'Тындинский район', 'Зейский район',\n",
              "       'Тамбовский район', 'Сковородинский район', 'Селемджинский район',\n",
              "       'Ромненский район', 'Октябрьский район', 'Мазановский район',\n",
              "       'Магдагачинский район', 'Константиновский район',\n",
              "       'Ивановский район', '7 - Завитинский район', 'Архаринский район',\n",
              "       'пгт. Углегорск', 'Благовещенск', 'Райчихинск', 'Онежский район',\n",
              "       'Мезенский район', 'Каргопольский район', 'Коношский район',\n",
              "       'Вельский район', 'Устьянский район', 'Няндомский район',\n",
              "       'Красноборский район', 'Вилегодский район', 'Ленский район',\n",
              "       'Холмогорский район', 'Пинежский район', 'Верхнетоемский район',\n",
              "       'Виноградовский район', 'Шенкурский район', 'Лешуконский район',\n",
              "       'Новая Земля', 'Приморский район', 'Плесецкий район',\n",
              "       'Котласский район', 'Новодвинск', 'ЗАТО Мирный', 'Котлас',\n",
              "       'Архангельск', 'Северодвинск', 'Коряжма', 'Астрахань',\n",
              "       'Черноярский район', 'Харабалинский район', 'Приволжский район',\n",
              "       'Наримановский район', 'Лиманский район', 'Красноярский район',\n",
              "       'Камызякский район', 'Икрянский район', 'Енотовский район',\n",
              "       'Володарский район', 'Ахтубинский район', 'ЗАТО Знаменск',\n",
              "       'Белгород', 'Яковлевский район', 'Шебекинский  район',\n",
              "       'Чернянский район', 'Старооскольский район', 'Ровеньский район',\n",
              "       'Рекитянский район', 'Прохоровский район', 'Новооскольский район',\n",
              "       'Краснояружский район', 'Красногвардеский район',\n",
              "       'Красненский район', 'Корочанский район', 'Ивнянский район',\n",
              "       'Губкинский район', 'Грайворонский район', 'Волоконовский район',\n",
              "       'Вейделевский район', 'Валуйский район', 'Борисовский район',\n",
              "       'Белгородский район', 'Алексеевский район'], dtype=object)"
            ]
          },
          "execution_count": 7,
          "metadata": {},
          "output_type": "execute_result"
        }
      ],
      "source": [
        "uniq_region = data['region'].unique()\n",
        "uniq_region"
      ]
    },
    {
      "cell_type": "code",
      "execution_count": 8,
      "metadata": {},
      "outputs": [
        {
          "data": {
            "text/plain": [
              "150"
            ]
          },
          "execution_count": 8,
          "metadata": {},
          "output_type": "execute_result"
        }
      ],
      "source": [
        "len(uniq_region)"
      ]
    },
    {
      "cell_type": "code",
      "execution_count": 11,
      "metadata": {},
      "outputs": [],
      "source": [
        "def total_incidents_on_region(row):\n",
        "    region = row['region']\n",
        "    return data[data['region'] == region]['id'].count()\n",
        "\n",
        "def total_incidents_on_address(row):\n",
        "    region = row['region']\n",
        "    address = row['address']\n",
        "    return data[(data['address'] == address) & (data['region'] == region)]['id'].count()\n",
        "\n",
        "def severity_to_number(value):\n",
        "    if value == 'Легкий':\n",
        "        return 3\n",
        "    elif value == 'Тяжёлый':\n",
        "        return 2\n",
        "    else:\n",
        "        return 1\n",
        "\n",
        "def danger_level_value(row):\n",
        "    severity_num = row['severity_num']\n",
        "    total_incidents_region = row['total_incidents_region']\n",
        "    total_incidents_address = row['total_incidents_address']\n",
        "    dead_count = row['dead_count']\n",
        "    injured_count = row['injured_count']\n",
        "    participants_count = row['participants_count']\n",
        "\n",
        "    danger_level = (2**(abs(severity_num-3)) * (total_incidents_address/total_incidents_region))/total_incidents_region\n",
        "    return danger_level"
      ]
    },
    {
      "cell_type": "code",
      "execution_count": 13,
      "metadata": {},
      "outputs": [
        {
          "data": {
            "text/html": [
              "<div>\n",
              "<style scoped>\n",
              "    .dataframe tbody tr th:only-of-type {\n",
              "        vertical-align: middle;\n",
              "    }\n",
              "\n",
              "    .dataframe tbody tr th {\n",
              "        vertical-align: top;\n",
              "    }\n",
              "\n",
              "    .dataframe thead th {\n",
              "        text-align: right;\n",
              "    }\n",
              "</style>\n",
              "<table border=\"1\" class=\"dataframe\">\n",
              "  <thead>\n",
              "    <tr style=\"text-align: right;\">\n",
              "      <th></th>\n",
              "      <th>id</th>\n",
              "      <th>tags</th>\n",
              "      <th>light</th>\n",
              "      <th>nearby</th>\n",
              "      <th>region</th>\n",
              "      <th>address</th>\n",
              "      <th>weather</th>\n",
              "      <th>category</th>\n",
              "      <th>datetime</th>\n",
              "      <th>severity</th>\n",
              "      <th>...</th>\n",
              "      <th>road_conditions</th>\n",
              "      <th>participants_count</th>\n",
              "      <th>participant_categories</th>\n",
              "      <th>lat</th>\n",
              "      <th>long</th>\n",
              "      <th>total_incidents_region</th>\n",
              "      <th>total_incidents_address</th>\n",
              "      <th>severity_num</th>\n",
              "      <th>danger_level</th>\n",
              "      <th>frequency</th>\n",
              "    </tr>\n",
              "  </thead>\n",
              "  <tbody>\n",
              "    <tr>\n",
              "      <th>0</th>\n",
              "      <td>2869171</td>\n",
              "      <td>Дорожно-транспортные происшествия</td>\n",
              "      <td>Светлое время суток</td>\n",
              "      <td>Жилые дома индивидуальной застройки</td>\n",
              "      <td>Барнаул</td>\n",
              "      <td>NO_INFORMATII</td>\n",
              "      <td>Ясно</td>\n",
              "      <td>Наезд на пешехода</td>\n",
              "      <td>2023-05-24 19:30:00</td>\n",
              "      <td>Легкий</td>\n",
              "      <td>...</td>\n",
              "      <td>Сухое</td>\n",
              "      <td>2</td>\n",
              "      <td>Все участники, Пешеходы, Мотоциклисты</td>\n",
              "      <td>53.391200</td>\n",
              "      <td>83.787900</td>\n",
              "      <td>10375</td>\n",
              "      <td>563</td>\n",
              "      <td>3</td>\n",
              "      <td>5.230367e-06</td>\n",
              "      <td>0.054265</td>\n",
              "    </tr>\n",
              "    <tr>\n",
              "      <th>1</th>\n",
              "      <td>2320091</td>\n",
              "      <td>Дорожно-транспортные происшествия, ДТП и постр...</td>\n",
              "      <td>Светлое время суток</td>\n",
              "      <td>Многоквартирные жилые дома, Внутридворовая тер...</td>\n",
              "      <td>Барнаул</td>\n",
              "      <td>г Барнаул, ул Сиреневая, 11</td>\n",
              "      <td>Пасмурно</td>\n",
              "      <td>Иной вид ДТП</td>\n",
              "      <td>2015-09-16 13:00:00</td>\n",
              "      <td>Легкий</td>\n",
              "      <td>...</td>\n",
              "      <td>Сухое</td>\n",
              "      <td>2</td>\n",
              "      <td>Все участники, Дети</td>\n",
              "      <td>53.345833</td>\n",
              "      <td>83.666389</td>\n",
              "      <td>10375</td>\n",
              "      <td>1</td>\n",
              "      <td>3</td>\n",
              "      <td>9.290173e-09</td>\n",
              "      <td>0.000096</td>\n",
              "    </tr>\n",
              "    <tr>\n",
              "      <th>2</th>\n",
              "      <td>2321011</td>\n",
              "      <td>Дорожно-транспортные происшествия, ДТП и постр...</td>\n",
              "      <td>Светлое время суток</td>\n",
              "      <td>Административные здания, Остановка общественно...</td>\n",
              "      <td>Барнаул</td>\n",
              "      <td>г Барнаул, ул Попова, 165</td>\n",
              "      <td>Ясно</td>\n",
              "      <td>Падение пассажира</td>\n",
              "      <td>2017-08-25 15:30:00</td>\n",
              "      <td>Легкий</td>\n",
              "      <td>...</td>\n",
              "      <td>Сухое</td>\n",
              "      <td>3</td>\n",
              "      <td>Все участники, Дети</td>\n",
              "      <td>53.197060</td>\n",
              "      <td>83.396880</td>\n",
              "      <td>10375</td>\n",
              "      <td>3</td>\n",
              "      <td>3</td>\n",
              "      <td>2.787052e-08</td>\n",
              "      <td>0.000289</td>\n",
              "    </tr>\n",
              "    <tr>\n",
              "      <th>3</th>\n",
              "      <td>2576909</td>\n",
              "      <td>Дорожно-транспортные происшествия</td>\n",
              "      <td>Светлое время суток</td>\n",
              "      <td>Выезд с прилегающей территории, Административн...</td>\n",
              "      <td>Барнаул</td>\n",
              "      <td>г Барнаул, ул Петра Сухова, 83 А</td>\n",
              "      <td>Ясно</td>\n",
              "      <td>Столкновение</td>\n",
              "      <td>2021-05-29 19:40:00</td>\n",
              "      <td>Тяжёлый</td>\n",
              "      <td>...</td>\n",
              "      <td>Сухое, Отсутствие, плохая различимость горизон...</td>\n",
              "      <td>3</td>\n",
              "      <td>Все участники, Мотоциклисты</td>\n",
              "      <td>53.376400</td>\n",
              "      <td>83.714200</td>\n",
              "      <td>10375</td>\n",
              "      <td>2</td>\n",
              "      <td>2</td>\n",
              "      <td>3.716069e-08</td>\n",
              "      <td>0.000193</td>\n",
              "    </tr>\n",
              "    <tr>\n",
              "      <th>4</th>\n",
              "      <td>2575209</td>\n",
              "      <td>Дорожно-транспортные происшествия</td>\n",
              "      <td>Светлое время суток</td>\n",
              "      <td>Многоквартирные жилые дома, Жилые дома индивид...</td>\n",
              "      <td>Барнаул</td>\n",
              "      <td>г Барнаул, ул Партизанская, 26</td>\n",
              "      <td>Ясно</td>\n",
              "      <td>Столкновение</td>\n",
              "      <td>2021-05-25 16:40:00</td>\n",
              "      <td>Легкий</td>\n",
              "      <td>...</td>\n",
              "      <td>Сухое, Отсутствие, плохая различимость горизон...</td>\n",
              "      <td>2</td>\n",
              "      <td>Все участники</td>\n",
              "      <td>53.343071</td>\n",
              "      <td>83.794366</td>\n",
              "      <td>10375</td>\n",
              "      <td>1</td>\n",
              "      <td>3</td>\n",
              "      <td>9.290173e-09</td>\n",
              "      <td>0.000096</td>\n",
              "    </tr>\n",
              "  </tbody>\n",
              "</table>\n",
              "<p>5 rows × 23 columns</p>\n",
              "</div>"
            ],
            "text/plain": [
              "        id                                               tags  \\\n",
              "0  2869171                  Дорожно-транспортные происшествия   \n",
              "1  2320091  Дорожно-транспортные происшествия, ДТП и постр...   \n",
              "2  2321011  Дорожно-транспортные происшествия, ДТП и постр...   \n",
              "3  2576909                  Дорожно-транспортные происшествия   \n",
              "4  2575209                  Дорожно-транспортные происшествия   \n",
              "\n",
              "                 light                                             nearby  \\\n",
              "0  Светлое время суток                Жилые дома индивидуальной застройки   \n",
              "1  Светлое время суток  Многоквартирные жилые дома, Внутридворовая тер...   \n",
              "2  Светлое время суток  Административные здания, Остановка общественно...   \n",
              "3  Светлое время суток  Выезд с прилегающей территории, Административн...   \n",
              "4  Светлое время суток  Многоквартирные жилые дома, Жилые дома индивид...   \n",
              "\n",
              "    region                           address   weather           category  \\\n",
              "0  Барнаул                     NO_INFORMATII      Ясно  Наезд на пешехода   \n",
              "1  Барнаул       г Барнаул, ул Сиреневая, 11  Пасмурно       Иной вид ДТП   \n",
              "2  Барнаул         г Барнаул, ул Попова, 165      Ясно  Падение пассажира   \n",
              "3  Барнаул  г Барнаул, ул Петра Сухова, 83 А      Ясно       Столкновение   \n",
              "4  Барнаул    г Барнаул, ул Партизанская, 26      Ясно       Столкновение   \n",
              "\n",
              "              datetime severity  ...  \\\n",
              "0  2023-05-24 19:30:00   Легкий  ...   \n",
              "1  2015-09-16 13:00:00   Легкий  ...   \n",
              "2  2017-08-25 15:30:00   Легкий  ...   \n",
              "3  2021-05-29 19:40:00  Тяжёлый  ...   \n",
              "4  2021-05-25 16:40:00   Легкий  ...   \n",
              "\n",
              "                                     road_conditions  participants_count  \\\n",
              "0                                              Сухое                   2   \n",
              "1                                              Сухое                   2   \n",
              "2                                              Сухое                   3   \n",
              "3  Сухое, Отсутствие, плохая различимость горизон...                   3   \n",
              "4  Сухое, Отсутствие, плохая различимость горизон...                   2   \n",
              "\n",
              "                  participant_categories        lat       long  \\\n",
              "0  Все участники, Пешеходы, Мотоциклисты  53.391200  83.787900   \n",
              "1                    Все участники, Дети  53.345833  83.666389   \n",
              "2                    Все участники, Дети  53.197060  83.396880   \n",
              "3            Все участники, Мотоциклисты  53.376400  83.714200   \n",
              "4                          Все участники  53.343071  83.794366   \n",
              "\n",
              "  total_incidents_region  total_incidents_address  severity_num  danger_level  \\\n",
              "0                  10375                      563             3  5.230367e-06   \n",
              "1                  10375                        1             3  9.290173e-09   \n",
              "2                  10375                        3             3  2.787052e-08   \n",
              "3                  10375                        2             2  3.716069e-08   \n",
              "4                  10375                        1             3  9.290173e-09   \n",
              "\n",
              "   frequency  \n",
              "0   0.054265  \n",
              "1   0.000096  \n",
              "2   0.000289  \n",
              "3   0.000193  \n",
              "4   0.000096  \n",
              "\n",
              "[5 rows x 23 columns]"
            ]
          },
          "execution_count": 13,
          "metadata": {},
          "output_type": "execute_result"
        }
      ],
      "source": [
        "data['total_incidents_region'] = data.apply(total_incidents_on_region, axis=1)\n",
        "data['total_incidents_address'] = data.apply(total_incidents_on_address, axis=1)\n",
        "data['severity_num'] = data['severity'].apply(severity_to_number)\n",
        "data['danger_level'] = data.apply(danger_level_value, axis=1)\n",
        "data['frequency'] = data['total_incidents_address']/data['total_incidents_region']\n",
        "data.head()"
      ]
    },
    {
      "cell_type": "code",
      "execution_count": 18,
      "metadata": {},
      "outputs": [
        {
          "data": {
            "text/plain": [
              "count    6.802700e+04\n",
              "mean     9.602265e-05\n",
              "std      7.699308e-03\n",
              "min      9.290173e-09\n",
              "25%      1.586987e-07\n",
              "50%      2.297559e-06\n",
              "75%      2.514964e-05\n",
              "max      2.000000e+00\n",
              "Name: danger_level, dtype: float64"
            ]
          },
          "execution_count": 18,
          "metadata": {},
          "output_type": "execute_result"
        }
      ],
      "source": [
        "data.danger_level.describe()"
      ]
    },
    {
      "cell_type": "code",
      "execution_count": 17,
      "metadata": {},
      "outputs": [
        {
          "data": {
            "text/plain": [
              "count    68027.000000\n",
              "mean         9.838402\n",
              "std         52.877553\n",
              "min          1.000000\n",
              "25%          1.000000\n",
              "50%          2.000000\n",
              "75%          4.000000\n",
              "max        563.000000\n",
              "Name: total_incidents_address, dtype: float64"
            ]
          },
          "execution_count": 17,
          "metadata": {},
          "output_type": "execute_result"
        }
      ],
      "source": [
        "data.total_incidents_address.describe()"
      ]
    },
    {
      "cell_type": "code",
      "execution_count": 19,
      "metadata": {},
      "outputs": [
        {
          "data": {
            "text/html": [
              "<div>\n",
              "<style scoped>\n",
              "    .dataframe tbody tr th:only-of-type {\n",
              "        vertical-align: middle;\n",
              "    }\n",
              "\n",
              "    .dataframe tbody tr th {\n",
              "        vertical-align: top;\n",
              "    }\n",
              "\n",
              "    .dataframe thead th {\n",
              "        text-align: right;\n",
              "    }\n",
              "</style>\n",
              "<table border=\"1\" class=\"dataframe\">\n",
              "  <thead>\n",
              "    <tr style=\"text-align: right;\">\n",
              "      <th></th>\n",
              "      <th>id</th>\n",
              "      <th>tags</th>\n",
              "      <th>light</th>\n",
              "      <th>nearby</th>\n",
              "      <th>region</th>\n",
              "      <th>address</th>\n",
              "      <th>weather</th>\n",
              "      <th>category</th>\n",
              "      <th>datetime</th>\n",
              "      <th>severity</th>\n",
              "      <th>...</th>\n",
              "      <th>road_conditions</th>\n",
              "      <th>participants_count</th>\n",
              "      <th>participant_categories</th>\n",
              "      <th>lat</th>\n",
              "      <th>long</th>\n",
              "      <th>total_incidents_region</th>\n",
              "      <th>total_incidents_address</th>\n",
              "      <th>severity_num</th>\n",
              "      <th>danger_level</th>\n",
              "      <th>frequency</th>\n",
              "    </tr>\n",
              "  </thead>\n",
              "  <tbody>\n",
              "    <tr>\n",
              "      <th>38890</th>\n",
              "      <td>2221936</td>\n",
              "      <td>Дорожно-транспортные происшествия</td>\n",
              "      <td>Светлое время суток</td>\n",
              "      <td>Нету информации</td>\n",
              "      <td>Новая Земля</td>\n",
              "      <td>Прочие автомобильные дороги (ведомственные), 1 км</td>\n",
              "      <td>Пасмурно</td>\n",
              "      <td>Опрокидывание</td>\n",
              "      <td>2017-07-23 17:30:00</td>\n",
              "      <td>Тяжёлый</td>\n",
              "      <td>...</td>\n",
              "      <td>Мокрое</td>\n",
              "      <td>2</td>\n",
              "      <td>Все участники</td>\n",
              "      <td>71.5572</td>\n",
              "      <td>52.3364</td>\n",
              "      <td>1</td>\n",
              "      <td>1</td>\n",
              "      <td>2</td>\n",
              "      <td>2.0</td>\n",
              "      <td>1.0</td>\n",
              "    </tr>\n",
              "  </tbody>\n",
              "</table>\n",
              "<p>1 rows × 23 columns</p>\n",
              "</div>"
            ],
            "text/plain": [
              "            id                               tags                light  \\\n",
              "38890  2221936  Дорожно-транспортные происшествия  Светлое время суток   \n",
              "\n",
              "                nearby       region  \\\n",
              "38890  Нету информации  Новая Земля   \n",
              "\n",
              "                                                 address   weather  \\\n",
              "38890  Прочие автомобильные дороги (ведомственные), 1 км  Пасмурно   \n",
              "\n",
              "            category             datetime severity  ...  road_conditions  \\\n",
              "38890  Опрокидывание  2017-07-23 17:30:00  Тяжёлый  ...           Мокрое   \n",
              "\n",
              "       participants_count participant_categories      lat     long  \\\n",
              "38890                   2          Все участники  71.5572  52.3364   \n",
              "\n",
              "      total_incidents_region  total_incidents_address  severity_num  \\\n",
              "38890                      1                        1             2   \n",
              "\n",
              "       danger_level  frequency  \n",
              "38890           2.0        1.0  \n",
              "\n",
              "[1 rows x 23 columns]"
            ]
          },
          "execution_count": 19,
          "metadata": {},
          "output_type": "execute_result"
        }
      ],
      "source": [
        "data[data['danger_level'] == data['danger_level'].max()]"
      ]
    },
    {
      "cell_type": "code",
      "execution_count": 20,
      "metadata": {},
      "outputs": [
        {
          "data": {
            "text/plain": [
              "count    67464.000000\n",
              "mean         5.222163\n",
              "std         15.636342\n",
              "min          1.000000\n",
              "25%          1.000000\n",
              "50%          2.000000\n",
              "75%          4.000000\n",
              "max        158.000000\n",
              "Name: total_incidents_address, dtype: float64"
            ]
          },
          "execution_count": 20,
          "metadata": {},
          "output_type": "execute_result"
        }
      ],
      "source": [
        "data[data.total_incidents_address < 390].total_incidents_address.describe()"
      ]
    },
    {
      "cell_type": "code",
      "execution_count": 22,
      "metadata": {},
      "outputs": [],
      "source": [
        "data = data.query('danger_level != 2')"
      ]
    },
    {
      "cell_type": "code",
      "execution_count": 23,
      "metadata": {},
      "outputs": [],
      "source": [
        "data = data[data.total_incidents_address < 390]"
      ]
    },
    {
      "cell_type": "code",
      "execution_count": 25,
      "metadata": {},
      "outputs": [],
      "source": [
        "total = data"
      ]
    },
    {
      "cell_type": "code",
      "execution_count": 26,
      "metadata": {},
      "outputs": [
        {
          "data": {
            "text/plain": [
              "<Axes: xlabel='severity', ylabel='danger_level'>"
            ]
          },
          "execution_count": 26,
          "metadata": {},
          "output_type": "execute_result"
        },
        {
          "data": {
            "image/png": "[encoded data removed]",
            "text/plain": [
              "<Figure size 640x480 with 1 Axes>"
            ]
          },
          "metadata": {},
          "output_type": "display_data"
        }
      ],
      "source": [
        "sns.boxplot(x=\"severity\", y=\"danger_level\", data=total[total['danger_level'] < 0.006])"
      ]
    },
    {
      "cell_type": "code",
      "execution_count": null,
      "metadata": {},
      "outputs": [
        {
          "data": {
            "text/plain": [
              "<Axes: xlabel='severity', ylabel='total_incidents_address'>"
            ]
          },
          "execution_count": 34,
          "metadata": {},
          "output_type": "execute_result"
        },
        {
          "data": {
            "image/png": "[encoded data removed]",
            "text/plain": [
              "<Figure size 640x480 with 1 Axes>"
            ]
          },
          "metadata": {},
          "output_type": "display_data"
        }
      ],
      "source": [
        "sns.boxplot(x=\"severity\", y=\"total_incidents_address\", data=total[total['total_incidents_address'] < 80])"
      ]
    },
    {
      "cell_type": "markdown",
      "metadata": {
        "id": "lLou4b_4whlI"
      },
      "source": [
        "# Выделение данных для кластеризации"
      ]
    },
    {
      "cell_type": "code",
      "execution_count": 35,
      "metadata": {},
      "outputs": [
        {
          "data": {
            "text/html": [
              "<div>\n",
              "<style scoped>\n",
              "    .dataframe tbody tr th:only-of-type {\n",
              "        vertical-align: middle;\n",
              "    }\n",
              "\n",
              "    .dataframe tbody tr th {\n",
              "        vertical-align: top;\n",
              "    }\n",
              "\n",
              "    .dataframe thead th {\n",
              "        text-align: right;\n",
              "    }\n",
              "</style>\n",
              "<table border=\"1\" class=\"dataframe\">\n",
              "  <thead>\n",
              "    <tr style=\"text-align: right;\">\n",
              "      <th></th>\n",
              "      <th>id</th>\n",
              "      <th>tags</th>\n",
              "      <th>light</th>\n",
              "      <th>nearby</th>\n",
              "      <th>region</th>\n",
              "      <th>address</th>\n",
              "      <th>weather</th>\n",
              "      <th>category</th>\n",
              "      <th>datetime</th>\n",
              "      <th>severity</th>\n",
              "      <th>...</th>\n",
              "      <th>road_conditions</th>\n",
              "      <th>participants_count</th>\n",
              "      <th>participant_categories</th>\n",
              "      <th>lat</th>\n",
              "      <th>long</th>\n",
              "      <th>total_incidents_region</th>\n",
              "      <th>total_incidents_address</th>\n",
              "      <th>severity_num</th>\n",
              "      <th>danger_level</th>\n",
              "      <th>frequency</th>\n",
              "    </tr>\n",
              "  </thead>\n",
              "  <tbody>\n",
              "    <tr>\n",
              "      <th>1</th>\n",
              "      <td>2320091</td>\n",
              "      <td>Дорожно-транспортные происшествия, ДТП и постр...</td>\n",
              "      <td>4</td>\n",
              "      <td>Многоквартирные жилые дома, Внутридворовая тер...</td>\n",
              "      <td>Барнаул</td>\n",
              "      <td>г Барнаул, ул Сиреневая, 11</td>\n",
              "      <td>7</td>\n",
              "      <td>1</td>\n",
              "      <td>2015-09-16 13:00:00</td>\n",
              "      <td>Легкий</td>\n",
              "      <td>...</td>\n",
              "      <td>1142</td>\n",
              "      <td>2</td>\n",
              "      <td>8</td>\n",
              "      <td>53.345833</td>\n",
              "      <td>83.666389</td>\n",
              "      <td>10375</td>\n",
              "      <td>1</td>\n",
              "      <td>3</td>\n",
              "      <td>9.290173e-09</td>\n",
              "      <td>0.000096</td>\n",
              "    </tr>\n",
              "    <tr>\n",
              "      <th>2</th>\n",
              "      <td>2321011</td>\n",
              "      <td>Дорожно-транспортные происшествия, ДТП и постр...</td>\n",
              "      <td>4</td>\n",
              "      <td>Административные здания, Остановка общественно...</td>\n",
              "      <td>Барнаул</td>\n",
              "      <td>г Барнаул, ул Попова, 165</td>\n",
              "      <td>21</td>\n",
              "      <td>15</td>\n",
              "      <td>2017-08-25 15:30:00</td>\n",
              "      <td>Легкий</td>\n",
              "      <td>...</td>\n",
              "      <td>1142</td>\n",
              "      <td>3</td>\n",
              "      <td>8</td>\n",
              "      <td>53.197060</td>\n",
              "      <td>83.396880</td>\n",
              "      <td>10375</td>\n",
              "      <td>3</td>\n",
              "      <td>3</td>\n",
              "      <td>2.787052e-08</td>\n",
              "      <td>0.000289</td>\n",
              "    </tr>\n",
              "    <tr>\n",
              "      <th>3</th>\n",
              "      <td>2576909</td>\n",
              "      <td>Дорожно-транспортные происшествия</td>\n",
              "      <td>4</td>\n",
              "      <td>Выезд с прилегающей территории, Административн...</td>\n",
              "      <td>Барнаул</td>\n",
              "      <td>г Барнаул, ул Петра Сухова, 83 А</td>\n",
              "      <td>21</td>\n",
              "      <td>16</td>\n",
              "      <td>2021-05-29 19:40:00</td>\n",
              "      <td>Тяжёлый</td>\n",
              "      <td>...</td>\n",
              "      <td>1274</td>\n",
              "      <td>3</td>\n",
              "      <td>9</td>\n",
              "      <td>53.376400</td>\n",
              "      <td>83.714200</td>\n",
              "      <td>10375</td>\n",
              "      <td>2</td>\n",
              "      <td>2</td>\n",
              "      <td>3.716069e-08</td>\n",
              "      <td>0.000193</td>\n",
              "    </tr>\n",
              "    <tr>\n",
              "      <th>4</th>\n",
              "      <td>2575209</td>\n",
              "      <td>Дорожно-транспортные происшествия</td>\n",
              "      <td>4</td>\n",
              "      <td>Многоквартирные жилые дома, Жилые дома индивид...</td>\n",
              "      <td>Барнаул</td>\n",
              "      <td>г Барнаул, ул Партизанская, 26</td>\n",
              "      <td>21</td>\n",
              "      <td>16</td>\n",
              "      <td>2021-05-25 16:40:00</td>\n",
              "      <td>Легкий</td>\n",
              "      <td>...</td>\n",
              "      <td>1331</td>\n",
              "      <td>2</td>\n",
              "      <td>2</td>\n",
              "      <td>53.343071</td>\n",
              "      <td>83.794366</td>\n",
              "      <td>10375</td>\n",
              "      <td>1</td>\n",
              "      <td>3</td>\n",
              "      <td>9.290173e-09</td>\n",
              "      <td>0.000096</td>\n",
              "    </tr>\n",
              "    <tr>\n",
              "      <th>5</th>\n",
              "      <td>2547743</td>\n",
              "      <td>Дорожно-транспортные происшествия</td>\n",
              "      <td>4</td>\n",
              "      <td>Эстакада, путепровод</td>\n",
              "      <td>Барнаул</td>\n",
              "      <td>г Барнаул, Объездная дорога в обход г. Барнаул...</td>\n",
              "      <td>21</td>\n",
              "      <td>16</td>\n",
              "      <td>2021-02-22 13:50:00</td>\n",
              "      <td>Тяжёлый</td>\n",
              "      <td>...</td>\n",
              "      <td>665</td>\n",
              "      <td>4</td>\n",
              "      <td>2</td>\n",
              "      <td>53.290476</td>\n",
              "      <td>83.708739</td>\n",
              "      <td>10375</td>\n",
              "      <td>12</td>\n",
              "      <td>2</td>\n",
              "      <td>2.229641e-07</td>\n",
              "      <td>0.001157</td>\n",
              "    </tr>\n",
              "  </tbody>\n",
              "</table>\n",
              "<p>5 rows × 23 columns</p>\n",
              "</div>"
            ],
            "text/plain": [
              "        id                                               tags  light  \\\n",
              "1  2320091  Дорожно-транспортные происшествия, ДТП и постр...      4   \n",
              "2  2321011  Дорожно-транспортные происшествия, ДТП и постр...      4   \n",
              "3  2576909                  Дорожно-транспортные происшествия      4   \n",
              "4  2575209                  Дорожно-транспортные происшествия      4   \n",
              "5  2547743                  Дорожно-транспортные происшествия      4   \n",
              "\n",
              "                                              nearby   region  \\\n",
              "1  Многоквартирные жилые дома, Внутридворовая тер...  Барнаул   \n",
              "2  Административные здания, Остановка общественно...  Барнаул   \n",
              "3  Выезд с прилегающей территории, Административн...  Барнаул   \n",
              "4  Многоквартирные жилые дома, Жилые дома индивид...  Барнаул   \n",
              "5                               Эстакада, путепровод  Барнаул   \n",
              "\n",
              "                                             address  weather  category  \\\n",
              "1                        г Барнаул, ул Сиреневая, 11        7         1   \n",
              "2                          г Барнаул, ул Попова, 165       21        15   \n",
              "3                   г Барнаул, ул Петра Сухова, 83 А       21        16   \n",
              "4                     г Барнаул, ул Партизанская, 26       21        16   \n",
              "5  г Барнаул, Объездная дорога в обход г. Барнаул...       21        16   \n",
              "\n",
              "              datetime severity  ...  road_conditions  participants_count  \\\n",
              "1  2015-09-16 13:00:00   Легкий  ...             1142                   2   \n",
              "2  2017-08-25 15:30:00   Легкий  ...             1142                   3   \n",
              "3  2021-05-29 19:40:00  Тяжёлый  ...             1274                   3   \n",
              "4  2021-05-25 16:40:00   Легкий  ...             1331                   2   \n",
              "5  2021-02-22 13:50:00  Тяжёлый  ...              665                   4   \n",
              "\n",
              "  participant_categories        lat       long  total_incidents_region  \\\n",
              "1                      8  53.345833  83.666389                   10375   \n",
              "2                      8  53.197060  83.396880                   10375   \n",
              "3                      9  53.376400  83.714200                   10375   \n",
              "4                      2  53.343071  83.794366                   10375   \n",
              "5                      2  53.290476  83.708739                   10375   \n",
              "\n",
              "   total_incidents_address  severity_num  danger_level  frequency  \n",
              "1                        1             3  9.290173e-09   0.000096  \n",
              "2                        3             3  2.787052e-08   0.000289  \n",
              "3                        2             2  3.716069e-08   0.000193  \n",
              "4                        1             3  9.290173e-09   0.000096  \n",
              "5                       12             2  2.229641e-07   0.001157  \n",
              "\n",
              "[5 rows x 23 columns]"
            ]
          },
          "execution_count": 35,
          "metadata": {},
          "output_type": "execute_result"
        }
      ],
      "source": [
        "cat_col = ['light','weather','category','road_conditions','participant_categories']\n",
        "encoder = LabelEncoder()\n",
        "\n",
        "total[cat_col] = total[cat_col].apply(encoder.fit_transform)\n",
        "total.head()"
      ]
    },
    {
      "cell_type": "code",
      "execution_count": 37,
      "metadata": {},
      "outputs": [
        {
          "name": "stdout",
          "output_type": "stream",
          "text": [
            "(67463, 4)\n"
          ]
        }
      ],
      "source": [
        "data_for_models = total[['id', 'total_incidents_address','danger_level', 'frequency']]\n",
        "print(data_for_models.shape)"
      ]
    },
    {
      "cell_type": "code",
      "execution_count": 38,
      "metadata": {},
      "outputs": [
        {
          "data": {
            "text/html": [
              "<div>\n",
              "<style scoped>\n",
              "    .dataframe tbody tr th:only-of-type {\n",
              "        vertical-align: middle;\n",
              "    }\n",
              "\n",
              "    .dataframe tbody tr th {\n",
              "        vertical-align: top;\n",
              "    }\n",
              "\n",
              "    .dataframe thead th {\n",
              "        text-align: right;\n",
              "    }\n",
              "</style>\n",
              "<table border=\"1\" class=\"dataframe\">\n",
              "  <thead>\n",
              "    <tr style=\"text-align: right;\">\n",
              "      <th></th>\n",
              "      <th>id</th>\n",
              "      <th>total_incidents_address</th>\n",
              "      <th>danger_level</th>\n",
              "      <th>frequency</th>\n",
              "    </tr>\n",
              "  </thead>\n",
              "  <tbody>\n",
              "    <tr>\n",
              "      <th>1</th>\n",
              "      <td>2320091</td>\n",
              "      <td>1</td>\n",
              "      <td>9.290173e-09</td>\n",
              "      <td>0.000096</td>\n",
              "    </tr>\n",
              "    <tr>\n",
              "      <th>2</th>\n",
              "      <td>2321011</td>\n",
              "      <td>3</td>\n",
              "      <td>2.787052e-08</td>\n",
              "      <td>0.000289</td>\n",
              "    </tr>\n",
              "    <tr>\n",
              "      <th>3</th>\n",
              "      <td>2576909</td>\n",
              "      <td>2</td>\n",
              "      <td>3.716069e-08</td>\n",
              "      <td>0.000193</td>\n",
              "    </tr>\n",
              "    <tr>\n",
              "      <th>4</th>\n",
              "      <td>2575209</td>\n",
              "      <td>1</td>\n",
              "      <td>9.290173e-09</td>\n",
              "      <td>0.000096</td>\n",
              "    </tr>\n",
              "    <tr>\n",
              "      <th>5</th>\n",
              "      <td>2547743</td>\n",
              "      <td>12</td>\n",
              "      <td>2.229641e-07</td>\n",
              "      <td>0.001157</td>\n",
              "    </tr>\n",
              "  </tbody>\n",
              "</table>\n",
              "</div>"
            ],
            "text/plain": [
              "        id  total_incidents_address  danger_level  frequency\n",
              "1  2320091                        1  9.290173e-09   0.000096\n",
              "2  2321011                        3  2.787052e-08   0.000289\n",
              "3  2576909                        2  3.716069e-08   0.000193\n",
              "4  2575209                        1  9.290173e-09   0.000096\n",
              "5  2547743                       12  2.229641e-07   0.001157"
            ]
          },
          "execution_count": 38,
          "metadata": {},
          "output_type": "execute_result"
        }
      ],
      "source": [
        "data_for_models.head()"
      ]
    },
    {
      "cell_type": "markdown",
      "metadata": {},
      "source": [
        "# Кластеризация набора данных"
      ]
    },
    {
      "cell_type": "code",
      "execution_count": 39,
      "metadata": {},
      "outputs": [],
      "source": [
        "wcss = []\n",
        "for clusters in range(1, 11):\n",
        "\n",
        "    model = KMeans(n_clusters=clusters, max_iter=300, n_init=10, random_state=45)\n",
        "    model.fit(data_for_models.drop('id', axis=1))\n",
        "\n",
        "    wcss.append(model.inertia_)"
      ]
    },
    {
      "cell_type": "code",
      "execution_count": 40,
      "metadata": {},
      "outputs": [
        {
          "data": {
            "image/png": "[encoded data removed]",
            "text/plain": [
              "<Figure size 640x480 with 1 Axes>"
            ]
          },
          "metadata": {},
          "output_type": "display_data"
        }
      ],
      "source": [
        "plt.plot(range(1,11),wcss)\n",
        "plt.title('The Elbow Method Graph')\n",
        "plt.xlabel('Number of clusters')\n",
        "plt.ylabel('WCSS')\n",
        "plt.show()"
      ]
    },
    {
      "cell_type": "code",
      "execution_count": 41,
      "metadata": {},
      "outputs": [
        {
          "name": "stderr",
          "output_type": "stream",
          "text": [
            "C:\\Users\\tooer\\AppData\\Local\\Temp\\ipykernel_6792\\4106042549.py:2: SettingWithCopyWarning: \n",
            "A value is trying to be set on a copy of a slice from a DataFrame.\n",
            "Try using .loc[row_indexer,col_indexer] = value instead\n",
            "\n",
            "See the caveats in the documentation: https://pandas.pydata.org/pandas-docs/stable/user_guide/indexing.html#returning-a-view-versus-a-copy\n",
            "  data_for_models['clusters'] = model.fit_predict(data_for_models.drop('id', axis=1))\n"
          ]
        }
      ],
      "source": [
        "model = KMeans(n_clusters=4, max_iter=300, n_init=10, random_state=45)\n",
        "data_for_models['clusters'] = model.fit_predict(data_for_models.drop('id', axis=1))"
      ]
    },
    {
      "cell_type": "code",
      "execution_count": 42,
      "metadata": {},
      "outputs": [
        {
          "data": {
            "text/plain": [
              "clusters\n",
              "3    57354\n",
              "0     8793\n",
              "1      713\n",
              "2      603\n",
              "Name: count, dtype: int64"
            ]
          },
          "execution_count": 42,
          "metadata": {},
          "output_type": "execute_result"
        }
      ],
      "source": [
        "data_for_models.clusters.value_counts()"
      ]
    },
    {
      "cell_type": "code",
      "execution_count": 43,
      "metadata": {},
      "outputs": [
        {
          "name": "stdout",
          "output_type": "stream",
          "text": [
            "Максимальный уровень опасности дороги в кластере 0: 0.0625\n",
            "Максимальный уровень опасности дороги в кластере 1: 0.0001260574274393435\n",
            "Максимальный уровень опасности дороги в кластере 2: 0.00124719249570617\n",
            "Максимальный уровень опасности дороги в кластере 3: 0.03324099722991689\n"
          ]
        }
      ],
      "source": [
        "print(\"Максимальный уровень опасности дороги в кластере 0:\", data_for_models[data_for_models.clusters == 0]['danger_level'].max())\n",
        "print(\"Максимальный уровень опасности дороги в кластере 1:\", data_for_models[data_for_models.clusters == 1]['danger_level'].max())\n",
        "print(\"Максимальный уровень опасности дороги в кластере 2:\", data_for_models[data_for_models.clusters == 2]['danger_level'].max())\n",
        "print(\"Максимальный уровень опасности дороги в кластере 3:\", data_for_models[data_for_models.clusters == 3]['danger_level'].max())"
      ]
    },
    {
      "cell_type": "code",
      "execution_count": 44,
      "metadata": {},
      "outputs": [],
      "source": [
        "data_for_graphic = data_for_models.copy()"
      ]
    },
    {
      "cell_type": "code",
      "execution_count": 46,
      "metadata": {},
      "outputs": [
        {
          "data": {
            "text/plain": [
              "Text(0, 0.5, 'Уровень опасности дороги')"
            ]
          },
          "execution_count": 46,
          "metadata": {},
          "output_type": "execute_result"
        },
        {
          "data": {
            "image/png": "[encoded data removed]",
            "text/plain": [
              "<Figure size 640x480 with 1 Axes>"
            ]
          },
          "metadata": {},
          "output_type": "display_data"
        }
      ],
      "source": [
        "colors = [ 'red', 'darkgreen', 'lightgreen', 'yellow']#, '#93df20'], '#46df20']\n",
        "data_for_graphic['color'] = data_for_graphic.clusters.map({0:colors[0], 1:colors[1], 2:colors[2], 3:colors[3]})\n",
        "plt.scatter(data_for_graphic.total_incidents_address, data_for_graphic.danger_level, c=data_for_graphic.color, s=30)\n",
        "plt.ylim(-0.001, 0.08)\n",
        "plt.xlabel('Инциденты по адресу')\n",
        "plt.ylabel('Уровень опасности дороги')"
      ]
    },
    {
      "cell_type": "code",
      "execution_count": 47,
      "metadata": {},
      "outputs": [
        {
          "data": {
            "text/html": [
              "<div>\n",
              "<style scoped>\n",
              "    .dataframe tbody tr th:only-of-type {\n",
              "        vertical-align: middle;\n",
              "    }\n",
              "\n",
              "    .dataframe tbody tr th {\n",
              "        vertical-align: top;\n",
              "    }\n",
              "\n",
              "    .dataframe thead th {\n",
              "        text-align: right;\n",
              "    }\n",
              "</style>\n",
              "<table border=\"1\" class=\"dataframe\">\n",
              "  <thead>\n",
              "    <tr style=\"text-align: right;\">\n",
              "      <th></th>\n",
              "      <th>id</th>\n",
              "      <th>total_incidents_address</th>\n",
              "      <th>danger_level</th>\n",
              "      <th>frequency</th>\n",
              "    </tr>\n",
              "  </thead>\n",
              "  <tbody>\n",
              "    <tr>\n",
              "      <th>1</th>\n",
              "      <td>2320091</td>\n",
              "      <td>1</td>\n",
              "      <td>9.290173e-09</td>\n",
              "      <td>0.000096</td>\n",
              "    </tr>\n",
              "    <tr>\n",
              "      <th>2</th>\n",
              "      <td>2321011</td>\n",
              "      <td>3</td>\n",
              "      <td>2.787052e-08</td>\n",
              "      <td>0.000289</td>\n",
              "    </tr>\n",
              "  </tbody>\n",
              "</table>\n",
              "</div>"
            ],
            "text/plain": [
              "        id  total_incidents_address  danger_level  frequency\n",
              "1  2320091                        1  9.290173e-09   0.000096\n",
              "2  2321011                        3  2.787052e-08   0.000289"
            ]
          },
          "execution_count": 47,
          "metadata": {},
          "output_type": "execute_result"
        }
      ],
      "source": [
        "gaussian_data = data_for_models.drop('clusters', axis=1).copy()\n",
        "gaussian_data.head(2)"
      ]
    },
    {
      "cell_type": "code",
      "execution_count": 48,
      "metadata": {},
      "outputs": [
        {
          "data": {
            "text/plain": [
              "clusters\n",
              "0    52788\n",
              "3    11179\n",
              "2     2783\n",
              "1      713\n",
              "Name: count, dtype: int64"
            ]
          },
          "execution_count": 48,
          "metadata": {},
          "output_type": "execute_result"
        }
      ],
      "source": [
        "gm = GaussianMixture(n_components=4, random_state=0).fit(gaussian_data.drop('id', axis=1))\n",
        "gaussian_data['clusters'] = gm.predict(gaussian_data.drop('id', axis=1))\n",
        "gaussian_data['clusters'].value_counts()"
      ]
    },
    {
      "cell_type": "code",
      "execution_count": 49,
      "metadata": {},
      "outputs": [
        {
          "name": "stdout",
          "output_type": "stream",
          "text": [
            "Максимальный уровень опасности дороги в кластере 0: 0.0007304601899196494\n",
            "Максимальный уровень опасности дороги в кластере 1: 0.0001260574274393435\n",
            "Максимальный уровень опасности дороги в кластере 2: 0.0014109110454178983\n",
            "Максимальный уровень опасности дороги в кластере 3: 0.0625\n"
          ]
        }
      ],
      "source": [
        "print(\"Максимальный уровень опасности дороги в кластере 0:\", gaussian_data[gaussian_data.clusters == 0]['danger_level'].max())\n",
        "print(\"Максимальный уровень опасности дороги в кластере 1:\", gaussian_data[gaussian_data.clusters == 1]['danger_level'].max())\n",
        "print(\"Максимальный уровень опасности дороги в кластере 2:\", gaussian_data[gaussian_data.clusters == 2]['danger_level'].max())\n",
        "print(\"Максимальный уровень опасности дороги в кластере 3:\", gaussian_data[gaussian_data.clusters == 3]['danger_level'].max())"
      ]
    },
    {
      "cell_type": "code",
      "execution_count": 50,
      "metadata": {},
      "outputs": [],
      "source": [
        "gaussian_data_for_graphic = gaussian_data.copy()"
      ]
    },
    {
      "cell_type": "code",
      "execution_count": 51,
      "metadata": {},
      "outputs": [
        {
          "data": {
            "text/plain": [
              "Text(0, 0.5, 'Уровень опасности дороги')"
            ]
          },
          "execution_count": 51,
          "metadata": {},
          "output_type": "execute_result"
        },
        {
          "data": {
            "image/png": "[encoded data removed]",
            "text/plain": [
              "<Figure size 640x480 with 1 Axes>"
            ]
          },
          "metadata": {},
          "output_type": "display_data"
        }
      ],
      "source": [
        "colors = [ 'red', 'yellow', 'lightgreen', 'darkgreen']\n",
        "gaussian_data_for_graphic['color'] = gaussian_data_for_graphic.clusters.map({0:colors[0], 1:colors[1], 2:colors[2], 3:colors[3]})\n",
        "plt.scatter(gaussian_data_for_graphic.total_incidents_address,\n",
        "            gaussian_data_for_graphic.danger_level,\n",
        "            c=gaussian_data_for_graphic.color, s=30)\n",
        "plt.ylim(-0.00025, 0.02)\n",
        "plt.xlabel('Инциденты по адресу')\n",
        "plt.ylabel('Уровень опасности дороги')"
      ]
    },
    {
      "cell_type": "code",
      "execution_count": 53,
      "metadata": {},
      "outputs": [
        {
          "data": {
            "text/html": [
              "<div>\n",
              "<style scoped>\n",
              "    .dataframe tbody tr th:only-of-type {\n",
              "        vertical-align: middle;\n",
              "    }\n",
              "\n",
              "    .dataframe tbody tr th {\n",
              "        vertical-align: top;\n",
              "    }\n",
              "\n",
              "    .dataframe thead th {\n",
              "        text-align: right;\n",
              "    }\n",
              "</style>\n",
              "<table border=\"1\" class=\"dataframe\">\n",
              "  <thead>\n",
              "    <tr style=\"text-align: right;\">\n",
              "      <th></th>\n",
              "      <th>id</th>\n",
              "      <th>tags</th>\n",
              "      <th>light</th>\n",
              "      <th>nearby</th>\n",
              "      <th>region</th>\n",
              "      <th>address</th>\n",
              "      <th>weather</th>\n",
              "      <th>category</th>\n",
              "      <th>datetime</th>\n",
              "      <th>severity</th>\n",
              "      <th>...</th>\n",
              "      <th>participant_categories</th>\n",
              "      <th>lat</th>\n",
              "      <th>long</th>\n",
              "      <th>total_incidents_region</th>\n",
              "      <th>total_incidents_address</th>\n",
              "      <th>severity_num</th>\n",
              "      <th>danger_level</th>\n",
              "      <th>frequency</th>\n",
              "      <th>clusters</th>\n",
              "      <th>color</th>\n",
              "    </tr>\n",
              "  </thead>\n",
              "  <tbody>\n",
              "    <tr>\n",
              "      <th>0</th>\n",
              "      <td>2320091</td>\n",
              "      <td>Дорожно-транспортные происшествия, ДТП и постр...</td>\n",
              "      <td>4</td>\n",
              "      <td>Многоквартирные жилые дома, Внутридворовая тер...</td>\n",
              "      <td>Барнаул</td>\n",
              "      <td>г Барнаул, ул Сиреневая, 11</td>\n",
              "      <td>7</td>\n",
              "      <td>1</td>\n",
              "      <td>2015-09-16 13:00:00</td>\n",
              "      <td>Легкий</td>\n",
              "      <td>...</td>\n",
              "      <td>8</td>\n",
              "      <td>53.345833</td>\n",
              "      <td>83.666389</td>\n",
              "      <td>10375</td>\n",
              "      <td>1</td>\n",
              "      <td>3</td>\n",
              "      <td>9.290173e-09</td>\n",
              "      <td>0.000096</td>\n",
              "      <td>0</td>\n",
              "      <td>red</td>\n",
              "    </tr>\n",
              "    <tr>\n",
              "      <th>1</th>\n",
              "      <td>2321011</td>\n",
              "      <td>Дорожно-транспортные происшествия, ДТП и постр...</td>\n",
              "      <td>4</td>\n",
              "      <td>Административные здания, Остановка общественно...</td>\n",
              "      <td>Барнаул</td>\n",
              "      <td>г Барнаул, ул Попова, 165</td>\n",
              "      <td>21</td>\n",
              "      <td>15</td>\n",
              "      <td>2017-08-25 15:30:00</td>\n",
              "      <td>Легкий</td>\n",
              "      <td>...</td>\n",
              "      <td>8</td>\n",
              "      <td>53.197060</td>\n",
              "      <td>83.396880</td>\n",
              "      <td>10375</td>\n",
              "      <td>3</td>\n",
              "      <td>3</td>\n",
              "      <td>2.787052e-08</td>\n",
              "      <td>0.000289</td>\n",
              "      <td>0</td>\n",
              "      <td>red</td>\n",
              "    </tr>\n",
              "    <tr>\n",
              "      <th>2</th>\n",
              "      <td>2576909</td>\n",
              "      <td>Дорожно-транспортные происшествия</td>\n",
              "      <td>4</td>\n",
              "      <td>Выезд с прилегающей территории, Административн...</td>\n",
              "      <td>Барнаул</td>\n",
              "      <td>г Барнаул, ул Петра Сухова, 83 А</td>\n",
              "      <td>21</td>\n",
              "      <td>16</td>\n",
              "      <td>2021-05-29 19:40:00</td>\n",
              "      <td>Тяжёлый</td>\n",
              "      <td>...</td>\n",
              "      <td>9</td>\n",
              "      <td>53.376400</td>\n",
              "      <td>83.714200</td>\n",
              "      <td>10375</td>\n",
              "      <td>2</td>\n",
              "      <td>2</td>\n",
              "      <td>3.716069e-08</td>\n",
              "      <td>0.000193</td>\n",
              "      <td>0</td>\n",
              "      <td>red</td>\n",
              "    </tr>\n",
              "    <tr>\n",
              "      <th>3</th>\n",
              "      <td>2575209</td>\n",
              "      <td>Дорожно-транспортные происшествия</td>\n",
              "      <td>4</td>\n",
              "      <td>Многоквартирные жилые дома, Жилые дома индивид...</td>\n",
              "      <td>Барнаул</td>\n",
              "      <td>г Барнаул, ул Партизанская, 26</td>\n",
              "      <td>21</td>\n",
              "      <td>16</td>\n",
              "      <td>2021-05-25 16:40:00</td>\n",
              "      <td>Легкий</td>\n",
              "      <td>...</td>\n",
              "      <td>2</td>\n",
              "      <td>53.343071</td>\n",
              "      <td>83.794366</td>\n",
              "      <td>10375</td>\n",
              "      <td>1</td>\n",
              "      <td>3</td>\n",
              "      <td>9.290173e-09</td>\n",
              "      <td>0.000096</td>\n",
              "      <td>0</td>\n",
              "      <td>red</td>\n",
              "    </tr>\n",
              "    <tr>\n",
              "      <th>4</th>\n",
              "      <td>2547743</td>\n",
              "      <td>Дорожно-транспортные происшествия</td>\n",
              "      <td>4</td>\n",
              "      <td>Эстакада, путепровод</td>\n",
              "      <td>Барнаул</td>\n",
              "      <td>г Барнаул, Объездная дорога в обход г. Барнаул...</td>\n",
              "      <td>21</td>\n",
              "      <td>16</td>\n",
              "      <td>2021-02-22 13:50:00</td>\n",
              "      <td>Тяжёлый</td>\n",
              "      <td>...</td>\n",
              "      <td>2</td>\n",
              "      <td>53.290476</td>\n",
              "      <td>83.708739</td>\n",
              "      <td>10375</td>\n",
              "      <td>12</td>\n",
              "      <td>2</td>\n",
              "      <td>2.229641e-07</td>\n",
              "      <td>0.001157</td>\n",
              "      <td>3</td>\n",
              "      <td>darkgreen</td>\n",
              "    </tr>\n",
              "  </tbody>\n",
              "</table>\n",
              "<p>5 rows × 25 columns</p>\n",
              "</div>"
            ],
            "text/plain": [
              "        id                                               tags  light  \\\n",
              "0  2320091  Дорожно-транспортные происшествия, ДТП и постр...      4   \n",
              "1  2321011  Дорожно-транспортные происшествия, ДТП и постр...      4   \n",
              "2  2576909                  Дорожно-транспортные происшествия      4   \n",
              "3  2575209                  Дорожно-транспортные происшествия      4   \n",
              "4  2547743                  Дорожно-транспортные происшествия      4   \n",
              "\n",
              "                                              nearby   region  \\\n",
              "0  Многоквартирные жилые дома, Внутридворовая тер...  Барнаул   \n",
              "1  Административные здания, Остановка общественно...  Барнаул   \n",
              "2  Выезд с прилегающей территории, Административн...  Барнаул   \n",
              "3  Многоквартирные жилые дома, Жилые дома индивид...  Барнаул   \n",
              "4                               Эстакада, путепровод  Барнаул   \n",
              "\n",
              "                                             address  weather  category  \\\n",
              "0                        г Барнаул, ул Сиреневая, 11        7         1   \n",
              "1                          г Барнаул, ул Попова, 165       21        15   \n",
              "2                   г Барнаул, ул Петра Сухова, 83 А       21        16   \n",
              "3                     г Барнаул, ул Партизанская, 26       21        16   \n",
              "4  г Барнаул, Объездная дорога в обход г. Барнаул...       21        16   \n",
              "\n",
              "              datetime severity  ...  participant_categories        lat  \\\n",
              "0  2015-09-16 13:00:00   Легкий  ...                       8  53.345833   \n",
              "1  2017-08-25 15:30:00   Легкий  ...                       8  53.197060   \n",
              "2  2021-05-29 19:40:00  Тяжёлый  ...                       9  53.376400   \n",
              "3  2021-05-25 16:40:00   Легкий  ...                       2  53.343071   \n",
              "4  2021-02-22 13:50:00  Тяжёлый  ...                       2  53.290476   \n",
              "\n",
              "        long  total_incidents_region  total_incidents_address  severity_num  \\\n",
              "0  83.666389                   10375                        1             3   \n",
              "1  83.396880                   10375                        3             3   \n",
              "2  83.714200                   10375                        2             2   \n",
              "3  83.794366                   10375                        1             3   \n",
              "4  83.708739                   10375                       12             2   \n",
              "\n",
              "   danger_level  frequency  clusters      color  \n",
              "0  9.290173e-09   0.000096         0        red  \n",
              "1  2.787052e-08   0.000289         0        red  \n",
              "2  3.716069e-08   0.000193         0        red  \n",
              "3  9.290173e-09   0.000096         0        red  \n",
              "4  2.229641e-07   0.001157         3  darkgreen  \n",
              "\n",
              "[5 rows x 25 columns]"
            ]
          },
          "execution_count": 53,
          "metadata": {},
          "output_type": "execute_result"
        }
      ],
      "source": [
        "total_data_clusters = total.copy()\n",
        "total_data_clusters = total_data_clusters.merge(gaussian_data_for_graphic, on=['id','total_incidents_address','danger_level','frequency'])\n",
        "total_data_clusters.head()"
      ]
    },
    {
      "cell_type": "code",
      "execution_count": 54,
      "metadata": {},
      "outputs": [
        {
          "name": "stdout",
          "output_type": "stream",
          "text": [
            "<class 'pandas.core.frame.DataFrame'>\n",
            "RangeIndex: 67463 entries, 0 to 67462\n",
            "Data columns (total 25 columns):\n",
            " #   Column                   Non-Null Count  Dtype  \n",
            "---  ------                   --------------  -----  \n",
            " 0   id                       67463 non-null  int64  \n",
            " 1   tags                     67463 non-null  object \n",
            " 2   light                    67463 non-null  int32  \n",
            " 3   nearby                   67463 non-null  object \n",
            " 4   region                   67463 non-null  object \n",
            " 5   address                  67463 non-null  object \n",
            " 6   weather                  67463 non-null  int32  \n",
            " 7   category                 67463 non-null  int32  \n",
            " 8   datetime                 67463 non-null  object \n",
            " 9   severity                 67463 non-null  object \n",
            " 10  dead_count               67463 non-null  int64  \n",
            " 11  injured_count            67463 non-null  int64  \n",
            " 12  parent_region            67463 non-null  object \n",
            " 13  road_conditions          67463 non-null  int32  \n",
            " 14  participants_count       67463 non-null  int64  \n",
            " 15  participant_categories   67463 non-null  int32  \n",
            " 16  lat                      67119 non-null  float64\n",
            " 17  long                     67119 non-null  float64\n",
            " 18  total_incidents_region   67463 non-null  int64  \n",
            " 19  total_incidents_address  67463 non-null  int64  \n",
            " 20  severity_num             67463 non-null  int64  \n",
            " 21  danger_level             67463 non-null  float64\n",
            " 22  frequency                67463 non-null  float64\n",
            " 23  clusters                 67463 non-null  int64  \n",
            " 24  color                    67463 non-null  object \n",
            "dtypes: float64(4), int32(5), int64(8), object(8)\n",
            "memory usage: 11.6+ MB\n"
          ]
        }
      ],
      "source": [
        "total_data_clusters.info()"
      ]
    },
    {
      "cell_type": "code",
      "execution_count": 55,
      "metadata": {},
      "outputs": [
        {
          "data": {
            "text/plain": [
              "clusters\n",
              "0    52788\n",
              "3    11179\n",
              "2     2783\n",
              "1      713\n",
              "Name: count, dtype: int64"
            ]
          },
          "execution_count": 55,
          "metadata": {},
          "output_type": "execute_result"
        }
      ],
      "source": [
        "total_data_clusters.clusters.value_counts()"
      ]
    },
    {
      "cell_type": "code",
      "execution_count": 56,
      "metadata": {},
      "outputs": [],
      "source": [
        "total_data_clusters.to_csv(\"total_5_regions.csv\", index=False)"
      ]
    },
    {
      "cell_type": "markdown",
      "metadata": {},
      "source": [
        "# Разбиение данных"
      ]
    },
    {
      "cell_type": "code",
      "execution_count": 58,
      "metadata": {},
      "outputs": [],
      "source": [
        "total_data_raz = total_data_clusters.copy()"
      ]
    },
    {
      "cell_type": "code",
      "execution_count": 64,
      "metadata": {},
      "outputs": [],
      "source": [
        "train, test = train_test_split(total_data_raz, test_size=0.7, train_size=0.3, random_state=42)"
      ]
    },
    {
      "cell_type": "markdown",
      "metadata": {},
      "source": [
        "# Подбор наиболее коррелируемых признаков"
      ]
    },
    {
      "cell_type": "code",
      "execution_count": 66,
      "metadata": {},
      "outputs": [],
      "source": [
        "features_target = total_data_clusters[['light','weather','category','dead_count','injured_count','road_conditions','participants_count']]"
      ]
    },
    {
      "cell_type": "code",
      "execution_count": 67,
      "metadata": {},
      "outputs": [
        {
          "name": "stderr",
          "output_type": "stream",
          "text": [
            "c:\\Users\\tooer\\lwjgl\\.venv\\Lib\\site-packages\\phik\\data_quality.py:59: UserWarning: The number of unique values of variable road_conditions is large: 1406. Are you sure this is not an interval variable? Analysis for pairs of variables including road_conditions can be slow.\n",
            "  warnings.warn(\n"
          ]
        },
        {
          "data": {
            "image/png": "[encoded data removed]",
            "text/plain": [
              "<Figure size 2000x1000 with 2 Axes>"
            ]
          },
          "metadata": {},
          "output_type": "display_data"
        }
      ],
      "source": [
        "interval_cols = ['dead_count','injured_count','participants_count','total_incidents_region', 'total_incidents_address', 'danger_level', 'frequency']\n",
        "phik_overview = features_target.phik_matrix(interval_cols=interval_cols)\n",
        "\n",
        "plot_correlation_matrix(phik_overview.values,\n",
        "                        x_labels=phik_overview.columns,\n",
        "                        y_labels=phik_overview.index,\n",
        "                        vmin=0, vmax=1, color_map=\"Greens\",\n",
        "                        title=\"Корреляция признаков\",\n",
        "                        fontsize_factor=1.5,\n",
        "                        figsize=(20, 10))\n",
        "plt.tight_layout()"
      ]
    },
    {
      "cell_type": "markdown",
      "metadata": {},
      "source": [
        "# Создание выборок"
      ]
    },
    {
      "cell_type": "code",
      "execution_count": 70,
      "metadata": {},
      "outputs": [
        {
          "data": {
            "text/html": [
              "<div>\n",
              "<style scoped>\n",
              "    .dataframe tbody tr th:only-of-type {\n",
              "        vertical-align: middle;\n",
              "    }\n",
              "\n",
              "    .dataframe tbody tr th {\n",
              "        vertical-align: top;\n",
              "    }\n",
              "\n",
              "    .dataframe thead th {\n",
              "        text-align: right;\n",
              "    }\n",
              "</style>\n",
              "<table border=\"1\" class=\"dataframe\">\n",
              "  <thead>\n",
              "    <tr style=\"text-align: right;\">\n",
              "      <th></th>\n",
              "      <th>id</th>\n",
              "      <th>tags</th>\n",
              "      <th>light</th>\n",
              "      <th>nearby</th>\n",
              "      <th>region</th>\n",
              "      <th>address</th>\n",
              "      <th>weather</th>\n",
              "      <th>category</th>\n",
              "      <th>datetime</th>\n",
              "      <th>severity</th>\n",
              "      <th>...</th>\n",
              "      <th>participant_categories</th>\n",
              "      <th>lat</th>\n",
              "      <th>long</th>\n",
              "      <th>total_incidents_region</th>\n",
              "      <th>total_incidents_address</th>\n",
              "      <th>severity_num</th>\n",
              "      <th>danger_level</th>\n",
              "      <th>frequency</th>\n",
              "      <th>clusters</th>\n",
              "      <th>color</th>\n",
              "    </tr>\n",
              "  </thead>\n",
              "  <tbody>\n",
              "    <tr>\n",
              "      <th>0</th>\n",
              "      <td>2320091</td>\n",
              "      <td>Дорожно-транспортные происшествия, ДТП и постр...</td>\n",
              "      <td>4</td>\n",
              "      <td>Многоквартирные жилые дома, Внутридворовая тер...</td>\n",
              "      <td>Барнаул</td>\n",
              "      <td>г Барнаул, ул Сиреневая, 11</td>\n",
              "      <td>7</td>\n",
              "      <td>1</td>\n",
              "      <td>2015-09-16 13:00:00</td>\n",
              "      <td>Легкий</td>\n",
              "      <td>...</td>\n",
              "      <td>8</td>\n",
              "      <td>53.345833</td>\n",
              "      <td>83.666389</td>\n",
              "      <td>10375</td>\n",
              "      <td>1</td>\n",
              "      <td>3</td>\n",
              "      <td>9.290173e-09</td>\n",
              "      <td>0.000096</td>\n",
              "      <td>0</td>\n",
              "      <td>red</td>\n",
              "    </tr>\n",
              "  </tbody>\n",
              "</table>\n",
              "<p>1 rows × 25 columns</p>\n",
              "</div>"
            ],
            "text/plain": [
              "        id                                               tags  light  \\\n",
              "0  2320091  Дорожно-транспортные происшествия, ДТП и постр...      4   \n",
              "\n",
              "                                              nearby   region  \\\n",
              "0  Многоквартирные жилые дома, Внутридворовая тер...  Барнаул   \n",
              "\n",
              "                       address  weather  category             datetime  \\\n",
              "0  г Барнаул, ул Сиреневая, 11        7         1  2015-09-16 13:00:00   \n",
              "\n",
              "  severity  ...  participant_categories        lat       long  \\\n",
              "0   Легкий  ...                       8  53.345833  83.666389   \n",
              "\n",
              "   total_incidents_region  total_incidents_address  severity_num  \\\n",
              "0                   10375                        1             3   \n",
              "\n",
              "   danger_level  frequency  clusters  color  \n",
              "0  9.290173e-09   0.000096         0    red  \n",
              "\n",
              "[1 rows x 25 columns]"
            ]
          },
          "execution_count": 70,
          "metadata": {},
          "output_type": "execute_result"
        }
      ],
      "source": [
        "total_data_clusters.head(1)"
      ]
    },
    {
      "cell_type": "code",
      "execution_count": 82,
      "metadata": {},
      "outputs": [],
      "source": [
        "total = total_data_clusters[['danger_level', 'frequency']]"
      ]
    },
    {
      "cell_type": "code",
      "execution_count": 84,
      "metadata": {},
      "outputs": [],
      "source": [
        "total_clusters = total_data_clusters[['clusters']]"
      ]
    },
    {
      "cell_type": "code",
      "execution_count": 85,
      "metadata": {},
      "outputs": [
        {
          "name": "stdout",
          "output_type": "stream",
          "text": [
            "(53970, 1) (13493, 1)\n"
          ]
        }
      ],
      "source": [
        "most_corr_col = total#, 'total_incidents_address']#\n",
        "features_train, features_valid, target_train, target_valid = train_test_split(total_clusters[most_corr_col], total_clusters['clusters'], test_size=0.20, random_state=69)\n",
        "print(features_train.shape, features_valid.shape)"
      ]
    },
    {
      "cell_type": "code",
      "execution_count": 86,
      "metadata": {},
      "outputs": [
        {
          "data": {
            "text/plain": [
              "<Axes: title={'center': 'Размерность классов'}, ylabel='Frequency'>"
            ]
          },
          "execution_count": 86,
          "metadata": {},
          "output_type": "execute_result"
        },
        {
          "data": {
            "image/png": "[encoded data removed]",
            "text/plain": [
              "<Figure size 640x480 with 1 Axes>"
            ]
          },
          "metadata": {},
          "output_type": "display_data"
        }
      ],
      "source": [
        "target_train.plot(kind='hist', title='Размерность классов')"
      ]
    },
    {
      "cell_type": "markdown",
      "metadata": {},
      "source": [
        "# Выводы"
      ]
    }
  ],
  "metadata": {
    "colab": {
      "provenance": []
    },
    "kernelspec": {
      "display_name": "Python 3",
      "name": "python3"
    },
    "language_info": {
      "codemirror_mode": {
        "name": "ipython",
        "version": 3
      },
      "file_extension": ".py",
      "mimetype": "text/x-python",
      "name": "python",
      "nbconvert_exporter": "python",
      "pygments_lexer": "ipython3",
      "version": "3.11.5"
    }
  },
  "nbformat": 4,
  "nbformat_minor": 0
}
